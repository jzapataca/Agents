{
 "cells": [
  {
   "cell_type": "code",
   "execution_count": 1,
   "metadata": {},
   "outputs": [],
   "source": [
    "from agno.agent import Agent\n",
    "from agno.models.ollama import Ollama\n",
    "from pydantic import BaseModel\n",
    "from pathlib import Path\n",
    "from agno.reranker.base import Reranker\n",
    "from agno.document.chunking.agentic import AgenticChunking\n",
    "from agno.knowledge.document import DocumentKnowledgeBase, Document\n",
    "from agno.knowledge.combined import CombinedKnowledgeBase\n",
    "from agno.knowledge.text import TextKnowledgeBase\n",
    "from agno.knowledge.docx import DocxKnowledgeBase, DocxReader\n",
    "from agno.knowledge.pdf import PDFKnowledgeBase, PDFReader\n",
    "from agno.embedder.ollama import OllamaEmbedder\n",
    "from agno.vectordb.lancedb import LanceDb\n",
    "from agno.vectordb.search import SearchType\n",
    "from agno.tools.file import FileTools\n",
    "from agno.tools.duckduckgo import DuckDuckGoTools\n",
    "\n",
    "# ollama pull openhermes llama3.1"
   ]
  },
  {
   "cell_type": "code",
   "execution_count": 2,
   "metadata": {},
   "outputs": [],
   "source": [
    "\n",
    "vector_db = LanceDb(\n",
    "    table_name=\"programs\",\n",
    "    uri=\"../tmp/lancedb\",\n",
    "    search_type=SearchType.hybrid,\n",
    "    embedder=OllamaEmbedder(),\n",
    "    reranker=Reranker()\n",
    ")\n",
    "\n",
    "chunking = AgenticChunking()"
   ]
  },
  {
   "cell_type": "code",
   "execution_count": 3,
   "metadata": {},
   "outputs": [],
   "source": [
    "pdf_knowledge_base = PDFKnowledgeBase(\n",
    "    path=\"../data/input\",\n",
    "    vector_db = vector_db\n",
    ")\n",
    "\n",
    "docx_knowledge_base = DocxKnowledgeBase(\n",
    "    path=\"../data/input\",\n",
    "    vector_db = vector_db\n",
    ")\n",
    "\n",
    "txt_knowledge_base = TextKnowledgeBase(\n",
    "    path=\"../data/input\",\n",
    "    vector_db = vector_db\n",
    ")\n",
    "\n",
    "knowledge_base = CombinedKnowledgeBase(\n",
    "    sources=[\n",
    "        pdf_knowledge_base,\n",
    "        docx_knowledge_base,\n",
    "        txt_knowledge_base,\n",
    "    ],\n",
    "    chunking_strategy=chunking,\n",
    "    vector_db = vector_db\n",
    ")\n"
   ]
  },
  {
   "cell_type": "code",
   "execution_count": 4,
   "metadata": {},
   "outputs": [],
   "source": [
    "# knowledge_base.load(recreate=True)"
   ]
  },
  {
   "cell_type": "code",
   "execution_count": 5,
   "metadata": {},
   "outputs": [
    {
     "data": {
      "text/html": [
       "<pre style=\"white-space:pre;overflow-x:auto;line-height:normal;font-family:Menlo,'DejaVu Sans Mono',consolas,'Courier New',monospace\"><span style=\"color: #000080; text-decoration-color: #000080\">INFO    </span> Reading: Analisis y diseño de algoritmos                                                                  \n",
       "</pre>\n"
      ],
      "text/plain": [
       "\u001b[34mINFO    \u001b[0m Reading: Analisis y diseño de algoritmos                                                                  \n"
      ]
     },
     "metadata": {},
     "output_type": "display_data"
    },
    {
     "name": "stdout",
     "output_type": "stream",
     "text": [
      "[Document(content='Análisis y diseño de algoritmos (3009430)', id='Analisis y diseño de algoritmos_1_1', name='Analisis y diseño de algoritmos', meta_data={'page': 1, 'chunk': 1, 'chunk_size': 41}, embedder=None, embedding=None, usage=None, reranking_score=None), Document(content='Objetivo del curso (oficial) Cualquiera con una experiencia mínima en algoritmos y programación sabe que para un mismo problema pueden existir innumerables algoritmos de solución. Tales soluciones pueden variar en diversos aspectos, siendo de particular interés la eficiencia en términos de su costo computacional. En el contexto de dicha eficiencia se puede hablar de algoritmos \"mejores\" que otros, siendo el objetivo principal de esta asignatura brindarle elementos al estudiante para analizar y diseñar algoritmos eficientes.', id='Analisis y diseño de algoritmos_2_1', name='Analisis y diseño de algoritmos', meta_data={'page': 2, 'chunk': 1, 'chunk_size': 529}, embedder=None, embedding=None, usage=None, reranking_score=None), Document(content='• Ofertar una asignatura disciplinar optativa para Ingeniería de Sistemas e Informática. De igual manera que sirva en el componente electivo de otros programas de la Universidad Nacional de Colombia. • Brindar un espacio para que los estudiantes a quienes les guste la programación mejoren sus habilidades • Preparar a los estudiantes para participar en el circuito colombiano de maratones de programación y demás competencias, y llevar a la Sede Medellín a los primeros lugares • Mejorar las probabilidades de vinculación laboral en empresas de tecnología importantes, o por qué no, de creación de nuevas empresas Objetivos del curso (extra-oficial)', id='Analisis y diseño de algoritmos_3_1', name='Analisis y diseño de algoritmos', meta_data={'page': 3, 'chunk': 1, 'chunk_size': 650}, embedder=None, embedding=None, usage=None, reranking_score=None), Document(content='✓ Es importante para comprender conceptos y problemas de muchas otras áreas de computación y de ingeniería en general: redes y telecomunicaciones, criptografía, optimización, etc. ✓ Da “super poderes” en programación ✓ Es desafiante y satisfactorio ¿Por qué estudiar algoritmos? Ejemplo: ¿Cómo podemos contar un número muy grande de asistentes a un evento? ', id='Analisis y diseño de algoritmos_4_1', name='Analisis y diseño de algoritmos', meta_data={'page': 4, 'chunk': 1, 'chunk_size': 357}, embedder=None, embedding=None, usage=None, reranking_score=None), Document(content='✓ Excelentes bases de programación y estructuras de datos: • Recursividad • Arreglos y listas, Pilas y colas, Grafos, Árboles binarios, Montículos binarios ✓ Conocimientos mínimos de POO y buen manejo de al menos un lenguaje imperativo objetual (Python, Java, o C++) ✓ Conocimientos de cálculo: función logaritmo, series, integrales (básico) ✓ Conocimientos de estadística: valor esperado, variables aleatorias discretas (básico) Pre-requisitos', id='Analisis y diseño de algoritmos_5_1', name='Analisis y diseño de algoritmos', meta_data={'page': 5, 'chunk': 1, 'chunk_size': 444}, embedder=None, embedding=None, usage=None, reranking_score=None), Document(content='Clases “magistrales”, no hay práctica, y este no es un curso de programación. Evaluación: • 4 Talleres prácticos, individuales y continuos con fechas de corte, de 20% cada uno Calificación de cada taller = 5.0∗ 𝑒𝑗𝑒𝑟𝑐𝑖𝑐𝑖𝑜𝑠𝑟𝑒𝑎𝑙𝑖𝑧𝑎𝑑𝑜𝑠 𝑒𝑗𝑒𝑟𝑐𝑖𝑐𝑖𝑜𝑠𝑝𝑟𝑜𝑝𝑢𝑒𝑠𝑡𝑜𝑠 Cantidad de ejercicios por taller: 5 Cantidad total de ejercicios en el semestre: 60 • 1 Trabajo final con exposición oral de 20% Metodología', id='Analisis y diseño de algoritmos_6_1', name='Analisis y diseño de algoritmos', meta_data={'page': 6, 'chunk': 1, 'chunk_size': 394}, embedder=None, embedding=None, usage=None, reranking_score=None), Document(content='Programa calendario ', id='Analisis y diseño de algoritmos_7_1', name='Analisis y diseño de algoritmos', meta_data={'page': 7, 'chunk': 1, 'chunk_size': 20}, embedder=None, embedding=None, usage=None, reranking_score=None), Document(content='Introduction to algorithms, Cormen et al. Algorithms, Dasgupta et al. Algorithm design, Kleinberg and Tardos Temas “gruesos” en algoritmia', id='Analisis y diseño de algoritmos_8_1', name='Analisis y diseño de algoritmos', meta_data={'page': 8, 'chunk': 1, 'chunk_size': 138}, embedder=None, embedding=None, usage=None, reranking_score=None), Document(content='• La motivación para tomar este curso debería ser una sola: aprender • Relación de confianza profesor-estudiante y queda terminantemente prohibido copiar códigos de colegas en los ejercicios (se puede discutir y trabajar en grupos pero cada quien debe escribir su propio código) • El profesor no se las sabe todas • Casi nada del contenido del curso es original • Las ayudas del curso son para aprovecharlas: grupo, monitor, asesorías, etc. • Haremos uso de conceptos, teoremas, y métodos probados, más no nos vamos a concentrar necesariamente en su demostración • Este curso es un punto de partida, el perfeccionamiento de las habilidades de programación depende de cada uno, de hecho, aún quedarían muchos temas por cubrir Consideraciones importantes', id='Analisis y diseño de algoritmos_9_1', name='Analisis y diseño de algoritmos', meta_data={'page': 9, 'chunk': 1, 'chunk_size': 752}, embedder=None, embedding=None, usage=None, reranking_score=None), Document(content='Profesor Julián Moreno, jmoreno1@unal.edu.co Lunes 14:00 – 16:00, M8A-311 Monitores David Antonio Aristizabal, daaristizabalg@unal.edu.co Dia, hora y modalidad por definir Grupo de WhatsApp https://chat.whatsapp.com/KDoqRMIcixN6tNMTUU2xmf Asesorías ', id='Analisis y diseño de algoritmos_10_1', name='Analisis y diseño de algoritmos', meta_data={'page': 10, 'chunk': 1, 'chunk_size': 249}, embedder=None, embedding=None, usage=None, reranking_score=None)]\n"
     ]
    },
    {
     "data": {
      "text/html": [
       "<pre style=\"white-space:pre;overflow-x:auto;line-height:normal;font-family:Menlo,'DejaVu Sans Mono',consolas,'Courier New',monospace\"><span style=\"color: #000080; text-decoration-color: #000080\">INFO    </span> Reading: Fundamentos de programacion                                                                      \n",
       "</pre>\n"
      ],
      "text/plain": [
       "\u001b[34mINFO    \u001b[0m Reading: Fundamentos de programacion                                                                      \n"
      ]
     },
     "metadata": {},
     "output_type": "display_data"
    },
    {
     "name": "stdout",
     "output_type": "stream",
     "text": [
      "[Document(content='PRESENTACIÓN Y PROGRAMA DE ASIGNATURA FUNDAMENTOS DE PROGRAMACIÓN Juan Felipe Muñoz Fernández – jfmunozf@unal.edu.co • Código: 3010435 • Nombre: Fundamentos de programación • Grupos: 22, 23 y 24 • Número de créditos: 3 (Ingeniería de sistemas e informática) • Metodología ▪ Sesiones magistrales presenciales los jueves de 14:00 a 16:00 en el aula 302 del bloque 12 del núcleo El Volador. ▪ Sesiones prácticas presenciales los viernes en aula 204 del bloque 4 del núcleo del río: ▪ Grupo 22: viernes de 12:00 a 14:00 ▪ Grupo 23: viernes de 14:00 a 16:00 ▪ Grupo 24: viernes de 16:00 a 18:00 ▪ Asesorías por parte del docente en el horario de clase: jueves y viernes. ▪ Asesorías de monitores y auxiliares en el horario de las sesiones prácticas. • Temas del curso Unidad 1: Introducción ¿Qué es un algoritmo? ¿Qué es un programa de computadora y para qué sirve? ¿Por qué programar en Python? ¿Qué entornos de desarrollo se Python se pueden usar? Primer programa en Python, concepto de variable, asignación y reasignación de variables y operadores aritméticos (precedencia). Unidad 2: Entrada y salida de datos Estructura general de un programa, tipos de datos y conversiones. Lectura de datos (input), procesamiento (funciones matemáticas internas) y salida de datos (print). Unidad 3: Condicionales Operadores relacionales y lógicos. Condicional simple. Condicional compuesto. Condicionales anidados. Representación de condicionales en diagramas de flujo Unidad 4: Aplicaciones – I Ejercicios de aplicación con los temas vistos hasta el momento. ', id='Fundamentos de programacion_1_1', name='Fundamentos de programacion', meta_data={'page': 1, 'chunk': 1, 'chunk_size': 1546}, embedder=None, embedding=None, usage=None, reranking_score=None), Document(content='• Temas del curso (continuación) Unidad 5: Ciclos Ciclos definidos (for) y ciclos indefinidos (while). Representación de ciclos en diagramas de flujo. Acumuladores y contadores. Salida de ciclos (instrucciones break y continue). Unidad 6: Listas Listas. Recorrer una lista. Acceso, inserción y eliminación de elementos de una lista. Búsqueda y otras operaciones sobre listas. Unidad 7: Funciones Definición y llamado de funciones. Argumento y valor de retorno de una función. Composición de funciones. Recursividad. Unidad 8: Aplicaciones II Ejercicios de aplicación con los temas vistos hasta el momento. Unidad 9: Strings y archivos Definición de las cadenas (strings), operaciones y funciones sobre las cadenas. Archivos: ¿cómo y cuándo usar archivos? Lectura y escritura de datos desde/en archivos. Unidad 10: Tablas y diccionarios Tablas como listas de listas. Búsqueda y ordenamiento de tablas. Diccionarios. Ejemplos. Unidad 11: Otras librerías Librería random (para variables aleatorias) y librería datetime (formatos de fechas). Unidad 12: Aplicaciones III Ejercicios de aplicación con los temas vistos hasta el momento. • Calendario del curso ', id='Fundamentos de programacion_2_1', name='Fundamentos de programacion', meta_data={'page': 2, 'chunk': 1, 'chunk_size': 1153}, embedder=None, embedding=None, usage=None, reranking_score=None), Document(content='• Evaluación del curso ▪ Evaluación parcial presencial No. 1. Valor 25% ▪ Temas: unidades 1 a la 5 ▪ Evaluación parcial presencial No. 2. Valor 25% ▪ Temas: unidades 1 a la 10 ▪ Sustentación No. 1 de proyecto de asignatura. Valor 10%. ▪ Sustentación No. 2 de proyecto de asignatura. Valor 10%. ▪ Sustentación No. 3 de proyecto de asignatura. Valor 10%. ▪ Solución de ejercicios de talleres prácticos de 12 unidades temáticas. Valor 20% • Resumen de la evaluación del curso Cantidad y tipo de evaluación Valor Valor Total 2 x Evaluación parcial 25% 50% 3 x Sustentaciones proyecto asignatura 10% 30% 1 x Promedio talleres prácticos 20% 20% TOTAL 100% • Fechas de evaluación ▪ Evaluación parcial No. 1: Semana 7. ▪ Evaluación parcial No. 2: Semana 13. ▪ Sustentación No. 1 de proyecto de asignatura. Valor 10%: Semana 4. ▪ Sustentación No. 2 de proyecto de asignatura. Valor 10%: Semana 10. ▪ Sustentación No. 3 de proyecto de asignatura. Valor 10% Semana 14. ▪ Solución de ejercicios de talleres prácticos de 12 unidades temáticas de acuerdo con las fechas y horarios de corte de las columnas Se califica y Observaciones en el calendario del curso. • Porcentaje mínimo de asistencia: 80%. • Bibliografía ▪ Severance, Charles R. Python Para Todos. Explorando Datos Con Python 3. 2009. ▪ Aguilar, Luis Joyanes. Fundamentos de programación: Algoritmos, Estructura De Datos y Objetos. 4th ed., McGraw-Hill, 2008. • Asignatura validable: No. ', id='Fundamentos de programacion_3_1', name='Fundamentos de programacion', meta_data={'page': 3, 'chunk': 1, 'chunk_size': 1436}, embedder=None, embedding=None, usage=None, reranking_score=None)]\n"
     ]
    }
   ],
   "source": [
    "for i in knowledge_base.document_lists:\n",
    "    print(i)"
   ]
  },
  {
   "cell_type": "code",
   "execution_count": 6,
   "metadata": {},
   "outputs": [],
   "source": [
    "description = \"You are an academic content generation assistant. Based on the following university course syllabus, generate structured teaching materials, ensuring clarity, engagement, and alignment with best pedagogical practices. This material are going to be used by a professor to teach a course in [subject].\"\n",
    "instructions = [\n",
    "    \"You are a professional academic content creator, specialized in [subject].\",\n",
    "    \"Analyze the syllabus and get the subject, topics, and learning objectives.\",\n",
    "    \"Generate teaching materials for each topic, including lecture notes and practice problems in base of the user queries.\",\n",
    "    \"Ensure the content follows best educational practices, including clear explanations, key concepts, real-world examples, and structured formatting.\",\n",
    "    \"For each topic, provide a brief explanation, definitions, and key takeaways.\",\n",
    "    \"Create conceptual and applied exercises with step-by-step solutions.\",\n",
    "    \"If you don't know a term, search for it and provide a precise explanation.\",\n",
    "    \"Generate the following teaching materials for each topic in base of the user queries:\",\n",
    "    \"Lecture Notes: Clear explanations, definitions, real-world examples, and key takeaways.\",  \n",
    "    \"Practice Problems: Conceptual and applied exercises with step-by-step solutions.\",\n",
    "    \"Exams: Create a set of exam questions with solutions.\",\n",
    "    \"If applicable, cite references or authoritative sources.\",\n",
    "    ]"
   ]
  },
  {
   "cell_type": "code",
   "execution_count": 7,
   "metadata": {},
   "outputs": [],
   "source": [
    "agent = Agent(\n",
    "    model=Ollama(id=\"llama3.1\"),\n",
    "    description=description,\n",
    "    # instructions=instructions,\n",
    "    tools=[\n",
    "        FileTools(Path(), read_files = False, list_files = False), \n",
    "        DuckDuckGoTools(news = False)\n",
    "        ],\n",
    "    knowledge=knowledge_base, \n",
    "    show_tool_calls=True,\n",
    "    markdown=True,\n",
    "    search_knowledge=True,\n",
    "    add_references=True,\n",
    "    debug_mode=True\n",
    "    )"
   ]
  },
  {
   "cell_type": "code",
   "execution_count": null,
   "metadata": {},
   "outputs": [
    {
     "data": {
      "text/html": [
       "<pre style=\"white-space:pre;overflow-x:auto;line-height:normal;font-family:Menlo,'DejaVu Sans Mono',consolas,'Courier New',monospace\"><span style=\"color: #008000; text-decoration-color: #008000\">DEBUG   </span> *********** Agent ID: <span style=\"color: #ffff00; text-decoration-color: #ffff00\">f0b99c60-c403-464a-9afd-d13dad9ef7b3</span> ***********                                    \n",
       "</pre>\n"
      ],
      "text/plain": [
       "\u001b[32mDEBUG   \u001b[0m *********** Agent ID: \u001b[93mf0b99c60-c403-464a-9afd-d13dad9ef7b3\u001b[0m ***********                                    \n"
      ]
     },
     "metadata": {},
     "output_type": "display_data"
    },
    {
     "data": {
      "text/html": [
       "<pre style=\"white-space:pre;overflow-x:auto;line-height:normal;font-family:Menlo,'DejaVu Sans Mono',consolas,'Courier New',monospace\"><span style=\"color: #008000; text-decoration-color: #008000\">DEBUG   </span> *********** Session ID: <span style=\"color: #ffff00; text-decoration-color: #ffff00\">71c802c5-b7fa-4232-92c6-0c3779b573d8</span> ***********                                  \n",
       "</pre>\n"
      ],
      "text/plain": [
       "\u001b[32mDEBUG   \u001b[0m *********** Session ID: \u001b[93m71c802c5-b7fa-4232-92c6-0c3779b573d8\u001b[0m ***********                                  \n"
      ]
     },
     "metadata": {},
     "output_type": "display_data"
    },
    {
     "data": {
      "text/html": [
       "<pre style=\"white-space:pre;overflow-x:auto;line-height:normal;font-family:Menlo,'DejaVu Sans Mono',consolas,'Courier New',monospace\"><span style=\"color: #008000; text-decoration-color: #008000\">DEBUG   </span> *********** Agent Run Start: <span style=\"color: #ffff00; text-decoration-color: #ffff00\">f2f806ea-e2d1-44c3-971a-9bdcad933261</span> ***********                             \n",
       "</pre>\n"
      ],
      "text/plain": [
       "\u001b[32mDEBUG   \u001b[0m *********** Agent Run Start: \u001b[93mf2f806ea-e2d1-44c3-971a-9bdcad933261\u001b[0m ***********                             \n"
      ]
     },
     "metadata": {},
     "output_type": "display_data"
    },
    {
     "data": {
      "text/html": [
       "<pre style=\"white-space:pre;overflow-x:auto;line-height:normal;font-family:Menlo,'DejaVu Sans Mono',consolas,'Courier New',monospace\"><span style=\"color: #008000; text-decoration-color: #008000\">DEBUG   </span> Processing tools for model                                                                                \n",
       "</pre>\n"
      ],
      "text/plain": [
       "\u001b[32mDEBUG   \u001b[0m Processing tools for model                                                                                \n"
      ]
     },
     "metadata": {},
     "output_type": "display_data"
    },
    {
     "data": {
      "text/html": [
       "<pre style=\"white-space:pre;overflow-x:auto;line-height:normal;font-family:Menlo,'DejaVu Sans Mono',consolas,'Courier New',monospace\"><span style=\"color: #008000; text-decoration-color: #008000\">DEBUG   </span> Included function save_file from file_tools                                                               \n",
       "</pre>\n"
      ],
      "text/plain": [
       "\u001b[32mDEBUG   \u001b[0m Included function save_file from file_tools                                                               \n"
      ]
     },
     "metadata": {},
     "output_type": "display_data"
    },
    {
     "data": {
      "text/html": [
       "<pre style=\"white-space:pre;overflow-x:auto;line-height:normal;font-family:Menlo,'DejaVu Sans Mono',consolas,'Courier New',monospace\"><span style=\"color: #008000; text-decoration-color: #008000\">DEBUG   </span> Included function duckduckgo_search from duckduckgo                                                       \n",
       "</pre>\n"
      ],
      "text/plain": [
       "\u001b[32mDEBUG   \u001b[0m Included function duckduckgo_search from duckduckgo                                                       \n"
      ]
     },
     "metadata": {},
     "output_type": "display_data"
    },
    {
     "data": {
      "text/html": [
       "<pre style=\"white-space:pre;overflow-x:auto;line-height:normal;font-family:Menlo,'DejaVu Sans Mono',consolas,'Courier New',monospace\"><span style=\"color: #008000; text-decoration-color: #008000\">DEBUG   </span> Included function search_knowledge_base                                                                   \n",
       "</pre>\n"
      ],
      "text/plain": [
       "\u001b[32mDEBUG   \u001b[0m Included function search_knowledge_base                                                                   \n"
      ]
     },
     "metadata": {},
     "output_type": "display_data"
    },
    {
     "data": {
      "text/html": [
       "<pre style=\"white-space:pre;overflow-x:auto;line-height:normal;font-family:Menlo,'DejaVu Sans Mono',consolas,'Courier New',monospace\"><span style=\"color: #008000; text-decoration-color: #008000\">DEBUG   </span> Getting <span style=\"color: #008080; text-decoration-color: #008080; font-weight: bold\">5</span> relevant documents for query: Analyze the course <span style=\"color: #008000; text-decoration-color: #008000\">'Fundamentos de programacion'</span> and identify the \n",
       "         most relevant topics covered in a standard syllabus.Based on these topics, generate a <span style=\"color: #008000; text-decoration-color: #008000\">'Notas de clase'</span>    \n",
       "         materials about the course search and explain them.Explain each topic, provide definitions, and explain   \n",
       "         what each thing is.Save the output in a file in the folder <span style=\"color: #008000; text-decoration-color: #008000\">'../data/output'</span> with a clear and descriptive  \n",
       "         filename.                                                                                                 \n",
       "</pre>\n"
      ],
      "text/plain": [
       "\u001b[32mDEBUG   \u001b[0m Getting \u001b[1;36m5\u001b[0m relevant documents for query: Analyze the course \u001b[32m'Fundamentos de programacion'\u001b[0m and identify the \n",
       "         most relevant topics covered in a standard syllabus.Based on these topics, generate a \u001b[32m'Notas de clase'\u001b[0m    \n",
       "         materials about the course search and explain them.Explain each topic, provide definitions, and explain   \n",
       "         what each thing is.Save the output in a file in the folder \u001b[32m'../data/output'\u001b[0m with a clear and descriptive  \n",
       "         filename.                                                                                                 \n"
      ]
     },
     "metadata": {},
     "output_type": "display_data"
    },
    {
     "data": {
      "application/vnd.jupyter.widget-view+json": {
       "model_id": "822502af282a4683b843cfa0c9abe73c",
       "version_major": 2,
       "version_minor": 0
      },
      "text/plain": [
       "Output()"
      ]
     },
     "metadata": {},
     "output_type": "display_data"
    },
    {
     "data": {
      "text/html": [
       "<pre style=\"white-space:pre;overflow-x:auto;line-height:normal;font-family:Menlo,'DejaVu Sans Mono',consolas,'Courier New',monospace\"><span style=\"color: #800000; text-decoration-color: #800000; font-weight: bold\">ERROR   </span> Error searching for documents:                                                                            \n",
       "</pre>\n"
      ],
      "text/plain": [
       "\u001b[1;31mERROR   \u001b[0m Error searching for documents:                                                                            \n"
      ]
     },
     "metadata": {},
     "output_type": "display_data"
    },
    {
     "data": {
      "text/html": [
       "<pre style=\"white-space:pre;overflow-x:auto;line-height:normal;font-family:Menlo,'DejaVu Sans Mono',consolas,'Courier New',monospace\"><span style=\"color: #008000; text-decoration-color: #008000\">DEBUG   </span> Time to get references: <span style=\"color: #008080; text-decoration-color: #008080; font-weight: bold\">26.</span>4435s                                                                          \n",
       "</pre>\n"
      ],
      "text/plain": [
       "\u001b[32mDEBUG   \u001b[0m Time to get references: \u001b[1;36m26.\u001b[0m4435s                                                                          \n"
      ]
     },
     "metadata": {},
     "output_type": "display_data"
    },
    {
     "data": {
      "text/html": [
       "<pre style=\"white-space:pre;overflow-x:auto;line-height:normal;font-family:Menlo,'DejaVu Sans Mono',consolas,'Courier New',monospace\"><span style=\"color: #008000; text-decoration-color: #008000\">DEBUG   </span> ---------- Ollama Response Start ----------                                                               \n",
       "</pre>\n"
      ],
      "text/plain": [
       "\u001b[32mDEBUG   \u001b[0m ---------- Ollama Response Start ----------                                                               \n"
      ]
     },
     "metadata": {},
     "output_type": "display_data"
    },
    {
     "data": {
      "text/html": [
       "<pre style=\"white-space:pre;overflow-x:auto;line-height:normal;font-family:Menlo,'DejaVu Sans Mono',consolas,'Courier New',monospace\"><span style=\"color: #008000; text-decoration-color: #008000\">DEBUG   </span> ============== system ==============                                                                      \n",
       "</pre>\n"
      ],
      "text/plain": [
       "\u001b[32mDEBUG   \u001b[0m ============== system ==============                                                                      \n"
      ]
     },
     "metadata": {},
     "output_type": "display_data"
    },
    {
     "data": {
      "text/html": [
       "<pre style=\"white-space:pre;overflow-x:auto;line-height:normal;font-family:Menlo,'DejaVu Sans Mono',consolas,'Courier New',monospace\"><span style=\"color: #008000; text-decoration-color: #008000\">DEBUG   </span> You are an academic content generation assistant. Based on the following university course syllabus,      \n",
       "         generate structured teaching materials, ensuring clarity, engagement, and alignment with best pedagogical \n",
       "         practices. This material are going to be used by a professor to teach a course in <span style=\"font-weight: bold\">[</span>subject<span style=\"font-weight: bold\">]</span>.              \n",
       "                                                                                                                   \n",
       "         <span style=\"font-weight: bold\">&lt;</span><span style=\"color: #ff00ff; text-decoration-color: #ff00ff; font-weight: bold\">additional_information</span><span style=\"color: #000000; text-decoration-color: #000000\">&gt;</span>                                                                                  \n",
       "         <span style=\"color: #000000; text-decoration-color: #000000\">- Use markdown to format your answers.</span>                                                                    \n",
       "         <span style=\"color: #000000; text-decoration-color: #000000\">&lt;</span><span style=\"color: #800080; text-decoration-color: #800080\">/</span><span style=\"color: #ff00ff; text-decoration-color: #ff00ff\">additional_information</span><span style=\"font-weight: bold\">&gt;</span>                                                                                 \n",
       "</pre>\n"
      ],
      "text/plain": [
       "\u001b[32mDEBUG   \u001b[0m You are an academic content generation assistant. Based on the following university course syllabus,      \n",
       "         generate structured teaching materials, ensuring clarity, engagement, and alignment with best pedagogical \n",
       "         practices. This material are going to be used by a professor to teach a course in \u001b[1m[\u001b[0msubject\u001b[1m]\u001b[0m.              \n",
       "                                                                                                                   \n",
       "         \u001b[1m<\u001b[0m\u001b[1;95madditional_information\u001b[0m\u001b[39m>\u001b[0m                                                                                  \n",
       "         \u001b[39m- Use markdown to format your answers.\u001b[0m                                                                    \n",
       "         \u001b[39m<\u001b[0m\u001b[35m/\u001b[0m\u001b[95madditional_information\u001b[0m\u001b[1m>\u001b[0m                                                                                 \n"
      ]
     },
     "metadata": {},
     "output_type": "display_data"
    },
    {
     "data": {
      "text/html": [
       "<pre style=\"white-space:pre;overflow-x:auto;line-height:normal;font-family:Menlo,'DejaVu Sans Mono',consolas,'Courier New',monospace\"><span style=\"color: #008000; text-decoration-color: #008000\">DEBUG   </span> ============== user ==============                                                                        \n",
       "</pre>\n"
      ],
      "text/plain": [
       "\u001b[32mDEBUG   \u001b[0m ============== user ==============                                                                        \n"
      ]
     },
     "metadata": {},
     "output_type": "display_data"
    },
    {
     "data": {
      "text/html": [
       "<pre style=\"white-space:pre;overflow-x:auto;line-height:normal;font-family:Menlo,'DejaVu Sans Mono',consolas,'Courier New',monospace\"><span style=\"color: #008000; text-decoration-color: #008000\">DEBUG   </span> Analyze the course <span style=\"color: #008000; text-decoration-color: #008000\">'Fundamentos de programacion'</span> and identify the most relevant topics covered in a       \n",
       "         standard syllabus.Based on these topics, generate a <span style=\"color: #008000; text-decoration-color: #008000\">'Notas de clase'</span> materials about the course search and\n",
       "         explain them.Explain each topic, provide definitions, and explain what each thing is.Save the output in a \n",
       "         file in the folder <span style=\"color: #008000; text-decoration-color: #008000\">'../data/output'</span> with a clear and descriptive filename.                                \n",
       "</pre>\n"
      ],
      "text/plain": [
       "\u001b[32mDEBUG   \u001b[0m Analyze the course \u001b[32m'Fundamentos de programacion'\u001b[0m and identify the most relevant topics covered in a       \n",
       "         standard syllabus.Based on these topics, generate a \u001b[32m'Notas de clase'\u001b[0m materials about the course search and\n",
       "         explain them.Explain each topic, provide definitions, and explain what each thing is.Save the output in a \n",
       "         file in the folder \u001b[32m'../data/output'\u001b[0m with a clear and descriptive filename.                                \n"
      ]
     },
     "metadata": {},
     "output_type": "display_data"
    }
   ],
   "source": [
    "def query(course_name: str, content_type: str):\n",
    "    return agent.print_response(\n",
    "        f\"Analyze the course '{course_name}' and identify the most relevant topics covered in a standard syllabus.\"\n",
    "        f\"Based on these topics, generate a '{content_type}' materials about the course search and explain them.\"\n",
    "        \"Explain each topic, provide definitions, and explain what each thing is.\"\n",
    "        \"Save the output in a file in the folder '../data/output' with a clear and descriptive filename.\",\n",
    "        markdown=True\n",
    "    )\n",
    "\n",
    "query(\"Fundamentos de programacion\", \"Notas de clase\")"
   ]
  },
  {
   "cell_type": "code",
   "execution_count": null,
   "metadata": {},
   "outputs": [],
   "source": [
    "query(\"Analisis y diseño de algoritmos\", \"Examen\")"
   ]
  }
 ],
 "metadata": {
  "kernelspec": {
   "display_name": ".venv",
   "language": "python",
   "name": "python3"
  },
  "language_info": {
   "codemirror_mode": {
    "name": "ipython",
    "version": 3
   },
   "file_extension": ".py",
   "mimetype": "text/x-python",
   "name": "python",
   "nbconvert_exporter": "python",
   "pygments_lexer": "ipython3",
   "version": "3.10.11"
  }
 },
 "nbformat": 4,
 "nbformat_minor": 2
}
