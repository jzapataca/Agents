{
 "cells": [
  {
   "cell_type": "code",
   "execution_count": 1,
   "metadata": {},
   "outputs": [],
   "source": [
    "from agno.agent import Agent\n",
    "from agno.models.ollama import Ollama\n",
    "from pydantic import BaseModel\n",
    "from pathlib import Path\n",
    "from agno.reranker.base import Reranker\n",
    "from agno.document.chunking.agentic import AgenticChunking\n",
    "from agno.knowledge.document import DocumentKnowledgeBase, Document\n",
    "from agno.knowledge.combined import CombinedKnowledgeBase\n",
    "from agno.knowledge.text import TextKnowledgeBase\n",
    "from agno.knowledge.docx import DocxKnowledgeBase, DocxReader\n",
    "from agno.knowledge.pdf import PDFKnowledgeBase, PDFReader\n",
    "from agno.embedder.ollama import OllamaEmbedder\n",
    "from agno.vectordb.lancedb import LanceDb\n",
    "from agno.vectordb.search import SearchType\n",
    "from agno.tools.file import FileTools\n",
    "from agno.tools.duckduckgo import DuckDuckGoTools\n",
    "\n",
    "# ollama pull openhermes llama3.1"
   ]
  },
  {
   "cell_type": "code",
   "execution_count": 2,
   "metadata": {},
   "outputs": [],
   "source": [
    "\n",
    "vector_db = LanceDb(\n",
    "    table_name=\"programs\",\n",
    "    uri=\"../tmp/lancedb\",\n",
    "    search_type=SearchType.hybrid,\n",
    "    embedder=OllamaEmbedder()\n",
    ")\n",
    "\n",
    "chunking = AgenticChunking()"
   ]
  },
  {
   "cell_type": "code",
   "execution_count": 3,
   "metadata": {},
   "outputs": [],
   "source": [
    "pdf_knowledge_base = PDFKnowledgeBase(\n",
    "    path=\"../data/input\",\n",
    "    vector_db = vector_db\n",
    ")\n",
    "\n",
    "docx_knowledge_base = DocxKnowledgeBase(\n",
    "    path=\"../data/input\",\n",
    "    vector_db = vector_db\n",
    ")\n",
    "\n",
    "txt_knowledge_base = TextKnowledgeBase(\n",
    "    path=\"../data/input\",\n",
    "    vector_db = vector_db\n",
    ")\n",
    "\n",
    "knowledge_base = CombinedKnowledgeBase(\n",
    "    sources=[\n",
    "        pdf_knowledge_base,\n",
    "        docx_knowledge_base,\n",
    "        txt_knowledge_base,\n",
    "    ],\n",
    "    chunking_strategy=chunking,\n",
    "    vector_db = vector_db\n",
    ")\n"
   ]
  },
  {
   "cell_type": "code",
   "execution_count": 4,
   "metadata": {},
   "outputs": [],
   "source": [
    "# knowledge_base.load(recreate=True)"
   ]
  },
  {
   "cell_type": "code",
   "execution_count": 5,
   "metadata": {},
   "outputs": [
    {
     "data": {
      "text/html": [
       "<pre style=\"white-space:pre;overflow-x:auto;line-height:normal;font-family:Menlo,'DejaVu Sans Mono',consolas,'Courier New',monospace\"><span style=\"color: #000080; text-decoration-color: #000080\">INFO    </span> Reading: Analisis y diseño de algoritmos                                                                  \n",
       "</pre>\n"
      ],
      "text/plain": [
       "\u001b[34mINFO    \u001b[0m Reading: Analisis y diseño de algoritmos                                                                  \n"
      ]
     },
     "metadata": {},
     "output_type": "display_data"
    },
    {
     "name": "stdout",
     "output_type": "stream",
     "text": [
      "[Document(content='Análisis y diseño de algoritmos (3009430)', id='Analisis y diseño de algoritmos_1_1', name='Analisis y diseño de algoritmos', meta_data={'page': 1, 'chunk': 1, 'chunk_size': 41}, embedder=None, embedding=None, usage=None, reranking_score=None), Document(content='Objetivo del curso (oficial) Cualquiera con una experiencia mínima en algoritmos y programación sabe que para un mismo problema pueden existir innumerables algoritmos de solución. Tales soluciones pueden variar en diversos aspectos, siendo de particular interés la eficiencia en términos de su costo computacional. En el contexto de dicha eficiencia se puede hablar de algoritmos \"mejores\" que otros, siendo el objetivo principal de esta asignatura brindarle elementos al estudiante para analizar y diseñar algoritmos eficientes.', id='Analisis y diseño de algoritmos_2_1', name='Analisis y diseño de algoritmos', meta_data={'page': 2, 'chunk': 1, 'chunk_size': 529}, embedder=None, embedding=None, usage=None, reranking_score=None), Document(content='• Ofertar una asignatura disciplinar optativa para Ingeniería de Sistemas e Informática. De igual manera que sirva en el componente electivo de otros programas de la Universidad Nacional de Colombia. • Brindar un espacio para que los estudiantes a quienes les guste la programación mejoren sus habilidades • Preparar a los estudiantes para participar en el circuito colombiano de maratones de programación y demás competencias, y llevar a la Sede Medellín a los primeros lugares • Mejorar las probabilidades de vinculación laboral en empresas de tecnología importantes, o por qué no, de creación de nuevas empresas Objetivos del curso (extra-oficial)', id='Analisis y diseño de algoritmos_3_1', name='Analisis y diseño de algoritmos', meta_data={'page': 3, 'chunk': 1, 'chunk_size': 650}, embedder=None, embedding=None, usage=None, reranking_score=None), Document(content='✓ Es importante para comprender conceptos y problemas de muchas otras áreas de computación y de ingeniería en general: redes y telecomunicaciones, criptografía, optimización, etc. ✓ Da “super poderes” en programación ✓ Es desafiante y satisfactorio ¿Por qué estudiar algoritmos? Ejemplo: ¿Cómo podemos contar un número muy grande de asistentes a un evento? ', id='Analisis y diseño de algoritmos_4_1', name='Analisis y diseño de algoritmos', meta_data={'page': 4, 'chunk': 1, 'chunk_size': 357}, embedder=None, embedding=None, usage=None, reranking_score=None), Document(content='✓ Excelentes bases de programación y estructuras de datos: • Recursividad • Arreglos y listas, Pilas y colas, Grafos, Árboles binarios, Montículos binarios ✓ Conocimientos mínimos de POO y buen manejo de al menos un lenguaje imperativo objetual (Python, Java, o C++) ✓ Conocimientos de cálculo: función logaritmo, series, integrales (básico) ✓ Conocimientos de estadística: valor esperado, variables aleatorias discretas (básico) Pre-requisitos', id='Analisis y diseño de algoritmos_5_1', name='Analisis y diseño de algoritmos', meta_data={'page': 5, 'chunk': 1, 'chunk_size': 444}, embedder=None, embedding=None, usage=None, reranking_score=None), Document(content='Clases “magistrales”, no hay práctica, y este no es un curso de programación. Evaluación: • 4 Talleres prácticos, individuales y continuos con fechas de corte, de 20% cada uno Calificación de cada taller = 5.0∗ 𝑒𝑗𝑒𝑟𝑐𝑖𝑐𝑖𝑜𝑠𝑟𝑒𝑎𝑙𝑖𝑧𝑎𝑑𝑜𝑠 𝑒𝑗𝑒𝑟𝑐𝑖𝑐𝑖𝑜𝑠𝑝𝑟𝑜𝑝𝑢𝑒𝑠𝑡𝑜𝑠 Cantidad de ejercicios por taller: 5 Cantidad total de ejercicios en el semestre: 60 • 1 Trabajo final con exposición oral de 20% Metodología', id='Analisis y diseño de algoritmos_6_1', name='Analisis y diseño de algoritmos', meta_data={'page': 6, 'chunk': 1, 'chunk_size': 394}, embedder=None, embedding=None, usage=None, reranking_score=None), Document(content='Programa calendario ', id='Analisis y diseño de algoritmos_7_1', name='Analisis y diseño de algoritmos', meta_data={'page': 7, 'chunk': 1, 'chunk_size': 20}, embedder=None, embedding=None, usage=None, reranking_score=None), Document(content='Introduction to algorithms, Cormen et al. Algorithms, Dasgupta et al. Algorithm design, Kleinberg and Tardos Temas “gruesos” en algoritmia', id='Analisis y diseño de algoritmos_8_1', name='Analisis y diseño de algoritmos', meta_data={'page': 8, 'chunk': 1, 'chunk_size': 138}, embedder=None, embedding=None, usage=None, reranking_score=None), Document(content='• La motivación para tomar este curso debería ser una sola: aprender • Relación de confianza profesor-estudiante y queda terminantemente prohibido copiar códigos de colegas en los ejercicios (se puede discutir y trabajar en grupos pero cada quien debe escribir su propio código) • El profesor no se las sabe todas • Casi nada del contenido del curso es original • Las ayudas del curso son para aprovecharlas: grupo, monitor, asesorías, etc. • Haremos uso de conceptos, teoremas, y métodos probados, más no nos vamos a concentrar necesariamente en su demostración • Este curso es un punto de partida, el perfeccionamiento de las habilidades de programación depende de cada uno, de hecho, aún quedarían muchos temas por cubrir Consideraciones importantes', id='Analisis y diseño de algoritmos_9_1', name='Analisis y diseño de algoritmos', meta_data={'page': 9, 'chunk': 1, 'chunk_size': 752}, embedder=None, embedding=None, usage=None, reranking_score=None), Document(content='Profesor Julián Moreno, jmoreno1@unal.edu.co Lunes 14:00 – 16:00, M8A-311 Monitores David Antonio Aristizabal, daaristizabalg@unal.edu.co Dia, hora y modalidad por definir Grupo de WhatsApp https://chat.whatsapp.com/KDoqRMIcixN6tNMTUU2xmf Asesorías ', id='Analisis y diseño de algoritmos_10_1', name='Analisis y diseño de algoritmos', meta_data={'page': 10, 'chunk': 1, 'chunk_size': 249}, embedder=None, embedding=None, usage=None, reranking_score=None)]\n"
     ]
    },
    {
     "data": {
      "text/html": [
       "<pre style=\"white-space:pre;overflow-x:auto;line-height:normal;font-family:Menlo,'DejaVu Sans Mono',consolas,'Courier New',monospace\"><span style=\"color: #000080; text-decoration-color: #000080\">INFO    </span> Reading: Fundamentos de programacion                                                                      \n",
       "</pre>\n"
      ],
      "text/plain": [
       "\u001b[34mINFO    \u001b[0m Reading: Fundamentos de programacion                                                                      \n"
      ]
     },
     "metadata": {},
     "output_type": "display_data"
    },
    {
     "name": "stdout",
     "output_type": "stream",
     "text": [
      "[Document(content='PRESENTACIÓN Y PROGRAMA DE ASIGNATURA FUNDAMENTOS DE PROGRAMACIÓN Juan Felipe Muñoz Fernández – jfmunozf@unal.edu.co • Código: 3010435 • Nombre: Fundamentos de programación • Grupos: 22, 23 y 24 • Número de créditos: 3 (Ingeniería de sistemas e informática) • Metodología ▪ Sesiones magistrales presenciales los jueves de 14:00 a 16:00 en el aula 302 del bloque 12 del núcleo El Volador. ▪ Sesiones prácticas presenciales los viernes en aula 204 del bloque 4 del núcleo del río: ▪ Grupo 22: viernes de 12:00 a 14:00 ▪ Grupo 23: viernes de 14:00 a 16:00 ▪ Grupo 24: viernes de 16:00 a 18:00 ▪ Asesorías por parte del docente en el horario de clase: jueves y viernes. ▪ Asesorías de monitores y auxiliares en el horario de las sesiones prácticas. • Temas del curso Unidad 1: Introducción ¿Qué es un algoritmo? ¿Qué es un programa de computadora y para qué sirve? ¿Por qué programar en Python? ¿Qué entornos de desarrollo se Python se pueden usar? Primer programa en Python, concepto de variable, asignación y reasignación de variables y operadores aritméticos (precedencia). Unidad 2: Entrada y salida de datos Estructura general de un programa, tipos de datos y conversiones. Lectura de datos (input), procesamiento (funciones matemáticas internas) y salida de datos (print). Unidad 3: Condicionales Operadores relacionales y lógicos. Condicional simple. Condicional compuesto. Condicionales anidados. Representación de condicionales en diagramas de flujo Unidad 4: Aplicaciones – I Ejercicios de aplicación con los temas vistos hasta el momento. ', id='Fundamentos de programacion_1_1', name='Fundamentos de programacion', meta_data={'page': 1, 'chunk': 1, 'chunk_size': 1546}, embedder=None, embedding=None, usage=None, reranking_score=None), Document(content='• Temas del curso (continuación) Unidad 5: Ciclos Ciclos definidos (for) y ciclos indefinidos (while). Representación de ciclos en diagramas de flujo. Acumuladores y contadores. Salida de ciclos (instrucciones break y continue). Unidad 6: Listas Listas. Recorrer una lista. Acceso, inserción y eliminación de elementos de una lista. Búsqueda y otras operaciones sobre listas. Unidad 7: Funciones Definición y llamado de funciones. Argumento y valor de retorno de una función. Composición de funciones. Recursividad. Unidad 8: Aplicaciones II Ejercicios de aplicación con los temas vistos hasta el momento. Unidad 9: Strings y archivos Definición de las cadenas (strings), operaciones y funciones sobre las cadenas. Archivos: ¿cómo y cuándo usar archivos? Lectura y escritura de datos desde/en archivos. Unidad 10: Tablas y diccionarios Tablas como listas de listas. Búsqueda y ordenamiento de tablas. Diccionarios. Ejemplos. Unidad 11: Otras librerías Librería random (para variables aleatorias) y librería datetime (formatos de fechas). Unidad 12: Aplicaciones III Ejercicios de aplicación con los temas vistos hasta el momento. • Calendario del curso ', id='Fundamentos de programacion_2_1', name='Fundamentos de programacion', meta_data={'page': 2, 'chunk': 1, 'chunk_size': 1153}, embedder=None, embedding=None, usage=None, reranking_score=None), Document(content='• Evaluación del curso ▪ Evaluación parcial presencial No. 1. Valor 25% ▪ Temas: unidades 1 a la 5 ▪ Evaluación parcial presencial No. 2. Valor 25% ▪ Temas: unidades 1 a la 10 ▪ Sustentación No. 1 de proyecto de asignatura. Valor 10%. ▪ Sustentación No. 2 de proyecto de asignatura. Valor 10%. ▪ Sustentación No. 3 de proyecto de asignatura. Valor 10%. ▪ Solución de ejercicios de talleres prácticos de 12 unidades temáticas. Valor 20% • Resumen de la evaluación del curso Cantidad y tipo de evaluación Valor Valor Total 2 x Evaluación parcial 25% 50% 3 x Sustentaciones proyecto asignatura 10% 30% 1 x Promedio talleres prácticos 20% 20% TOTAL 100% • Fechas de evaluación ▪ Evaluación parcial No. 1: Semana 7. ▪ Evaluación parcial No. 2: Semana 13. ▪ Sustentación No. 1 de proyecto de asignatura. Valor 10%: Semana 4. ▪ Sustentación No. 2 de proyecto de asignatura. Valor 10%: Semana 10. ▪ Sustentación No. 3 de proyecto de asignatura. Valor 10% Semana 14. ▪ Solución de ejercicios de talleres prácticos de 12 unidades temáticas de acuerdo con las fechas y horarios de corte de las columnas Se califica y Observaciones en el calendario del curso. • Porcentaje mínimo de asistencia: 80%. • Bibliografía ▪ Severance, Charles R. Python Para Todos. Explorando Datos Con Python 3. 2009. ▪ Aguilar, Luis Joyanes. Fundamentos de programación: Algoritmos, Estructura De Datos y Objetos. 4th ed., McGraw-Hill, 2008. • Asignatura validable: No. ', id='Fundamentos de programacion_3_1', name='Fundamentos de programacion', meta_data={'page': 3, 'chunk': 1, 'chunk_size': 1436}, embedder=None, embedding=None, usage=None, reranking_score=None)]\n"
     ]
    }
   ],
   "source": [
    "for i in knowledge_base.document_lists:\n",
    "    print(i)"
   ]
  },
  {
   "cell_type": "code",
   "execution_count": 6,
   "metadata": {},
   "outputs": [],
   "source": [
    "description = \"You are an academic content generation assistant. Based on the following university course syllabus, generate structured teaching materials, ensuring clarity, engagement, and alignment with best pedagogical practices. This material are going to be used by a professor to teach a course in [subject].\"\n",
    "instructions = [\n",
    "    \"List the files in the folder '../data/input' and determine if one of this names is usefull for the response.\",\n",
    "    \"If one of the files is usefull, read it and use it to know the course topic, else search in internet.\",\n",
    "    \"If the topic is specific, ensure accuracy and up-to-date information. If it is general, prioritize relevance and engagement.\",\n",
    "    \"If sufficient information is not available, search online for reliable sources before generating content.\",\n",
    "    \"Follow these guidelines based on the content type:\",\n",
    "    \"- Exam: Generate a set of 5 to 10 exam questions with detailed solutions.\",\n",
    "    \"- Lecture: Create a structured lecture outline with at least 5 sections covering key concepts.\",\n",
    "    \"- Workshop: Develop a workshop plan with at least 5 sections, including practical examples and exercises.\",\n",
    "    \"Ensure clarity, coherence, and academic rigor in all content.\",\n",
    "    \"Deliver the content in a professional and engaging manner.\"\n",
    "]\n"
   ]
  },
  {
   "cell_type": "code",
   "execution_count": 7,
   "metadata": {},
   "outputs": [],
   "source": [
    "agent = Agent(\n",
    "    model=Ollama(id=\"llama3.1\"),\n",
    "    description=description,\n",
    "    instructions=instructions,\n",
    "    tools=[\n",
    "        FileTools(), \n",
    "        DuckDuckGoTools(news = False)\n",
    "        ],\n",
    "    # knowledge=knowledge_base, \n",
    "    show_tool_calls=True,\n",
    "    search_knowledge=True,\n",
    "    # reasoning=True, \n",
    "    structured_outputs=True,\n",
    "    add_references=True,\n",
    "    debug_mode=True\n",
    "    )"
   ]
  },
  {
   "cell_type": "code",
   "execution_count": null,
   "metadata": {},
   "outputs": [
    {
     "data": {
      "text/html": [
       "<pre style=\"white-space:pre;overflow-x:auto;line-height:normal;font-family:Menlo,'DejaVu Sans Mono',consolas,'Courier New',monospace\"><span style=\"color: #008000; text-decoration-color: #008000\">DEBUG   </span> *********** Agent ID: <span style=\"color: #ffff00; text-decoration-color: #ffff00\">d87fe41f-734b-4d5a-8163-65a1a2649068</span> ***********                                    \n",
       "</pre>\n"
      ],
      "text/plain": [
       "\u001b[32mDEBUG   \u001b[0m *********** Agent ID: \u001b[93md87fe41f-734b-4d5a-8163-65a1a2649068\u001b[0m ***********                                    \n"
      ]
     },
     "metadata": {},
     "output_type": "display_data"
    },
    {
     "data": {
      "text/html": [
       "<pre style=\"white-space:pre;overflow-x:auto;line-height:normal;font-family:Menlo,'DejaVu Sans Mono',consolas,'Courier New',monospace\"><span style=\"color: #008000; text-decoration-color: #008000\">DEBUG   </span> *********** Session ID: <span style=\"color: #ffff00; text-decoration-color: #ffff00\">ecde47da-0429-49bc-8801-1fb3983a8823</span> ***********                                  \n",
       "</pre>\n"
      ],
      "text/plain": [
       "\u001b[32mDEBUG   \u001b[0m *********** Session ID: \u001b[93mecde47da-0429-49bc-8801-1fb3983a8823\u001b[0m ***********                                  \n"
      ]
     },
     "metadata": {},
     "output_type": "display_data"
    },
    {
     "data": {
      "text/html": [
       "<pre style=\"white-space:pre;overflow-x:auto;line-height:normal;font-family:Menlo,'DejaVu Sans Mono',consolas,'Courier New',monospace\"><span style=\"color: #008000; text-decoration-color: #008000\">DEBUG   </span> *********** Agent Run Start: <span style=\"color: #ffff00; text-decoration-color: #ffff00\">1955fa19-f052-4385-9f29-4ab81254560d</span> ***********                             \n",
       "</pre>\n"
      ],
      "text/plain": [
       "\u001b[32mDEBUG   \u001b[0m *********** Agent Run Start: \u001b[93m1955fa19-f052-4385-9f29-4ab81254560d\u001b[0m ***********                             \n"
      ]
     },
     "metadata": {},
     "output_type": "display_data"
    },
    {
     "data": {
      "text/html": [
       "<pre style=\"white-space:pre;overflow-x:auto;line-height:normal;font-family:Menlo,'DejaVu Sans Mono',consolas,'Courier New',monospace\"><span style=\"color: #008000; text-decoration-color: #008000\">DEBUG   </span> Processing tools for model                                                                                \n",
       "</pre>\n"
      ],
      "text/plain": [
       "\u001b[32mDEBUG   \u001b[0m Processing tools for model                                                                                \n"
      ]
     },
     "metadata": {},
     "output_type": "display_data"
    },
    {
     "data": {
      "text/html": [
       "<pre style=\"white-space:pre;overflow-x:auto;line-height:normal;font-family:Menlo,'DejaVu Sans Mono',consolas,'Courier New',monospace\"><span style=\"color: #008000; text-decoration-color: #008000\">DEBUG   </span> Included function save_file from file_tools                                                               \n",
       "</pre>\n"
      ],
      "text/plain": [
       "\u001b[32mDEBUG   \u001b[0m Included function save_file from file_tools                                                               \n"
      ]
     },
     "metadata": {},
     "output_type": "display_data"
    },
    {
     "data": {
      "text/html": [
       "<pre style=\"white-space:pre;overflow-x:auto;line-height:normal;font-family:Menlo,'DejaVu Sans Mono',consolas,'Courier New',monospace\"><span style=\"color: #008000; text-decoration-color: #008000\">DEBUG   </span> Included function read_file from file_tools                                                               \n",
       "</pre>\n"
      ],
      "text/plain": [
       "\u001b[32mDEBUG   \u001b[0m Included function read_file from file_tools                                                               \n"
      ]
     },
     "metadata": {},
     "output_type": "display_data"
    },
    {
     "data": {
      "text/html": [
       "<pre style=\"white-space:pre;overflow-x:auto;line-height:normal;font-family:Menlo,'DejaVu Sans Mono',consolas,'Courier New',monospace\"><span style=\"color: #008000; text-decoration-color: #008000\">DEBUG   </span> Included function list_files from file_tools                                                              \n",
       "</pre>\n"
      ],
      "text/plain": [
       "\u001b[32mDEBUG   \u001b[0m Included function list_files from file_tools                                                              \n"
      ]
     },
     "metadata": {},
     "output_type": "display_data"
    },
    {
     "data": {
      "text/html": [
       "<pre style=\"white-space:pre;overflow-x:auto;line-height:normal;font-family:Menlo,'DejaVu Sans Mono',consolas,'Courier New',monospace\"><span style=\"color: #008000; text-decoration-color: #008000\">DEBUG   </span> Included function duckduckgo_search from duckduckgo                                                       \n",
       "</pre>\n"
      ],
      "text/plain": [
       "\u001b[32mDEBUG   \u001b[0m Included function duckduckgo_search from duckduckgo                                                       \n"
      ]
     },
     "metadata": {},
     "output_type": "display_data"
    },
    {
     "data": {
      "text/html": [
       "<pre style=\"white-space:pre;overflow-x:auto;line-height:normal;font-family:Menlo,'DejaVu Sans Mono',consolas,'Courier New',monospace\"><span style=\"color: #008000; text-decoration-color: #008000\">DEBUG   </span> Time to get references: <span style=\"color: #008080; text-decoration-color: #008080; font-weight: bold\">0.</span>0000s                                                                           \n",
       "</pre>\n"
      ],
      "text/plain": [
       "\u001b[32mDEBUG   \u001b[0m Time to get references: \u001b[1;36m0.\u001b[0m0000s                                                                           \n"
      ]
     },
     "metadata": {},
     "output_type": "display_data"
    },
    {
     "data": {
      "text/html": [
       "<pre style=\"white-space:pre;overflow-x:auto;line-height:normal;font-family:Menlo,'DejaVu Sans Mono',consolas,'Courier New',monospace\"><span style=\"color: #008000; text-decoration-color: #008000\">DEBUG   </span> ---------- Ollama Response Start ----------                                                               \n",
       "</pre>\n"
      ],
      "text/plain": [
       "\u001b[32mDEBUG   \u001b[0m ---------- Ollama Response Start ----------                                                               \n"
      ]
     },
     "metadata": {},
     "output_type": "display_data"
    },
    {
     "data": {
      "text/html": [
       "<pre style=\"white-space:pre;overflow-x:auto;line-height:normal;font-family:Menlo,'DejaVu Sans Mono',consolas,'Courier New',monospace\"><span style=\"color: #008000; text-decoration-color: #008000\">DEBUG   </span> ============== system ==============                                                                      \n",
       "</pre>\n"
      ],
      "text/plain": [
       "\u001b[32mDEBUG   \u001b[0m ============== system ==============                                                                      \n"
      ]
     },
     "metadata": {},
     "output_type": "display_data"
    },
    {
     "data": {
      "text/html": [
       "<pre style=\"white-space:pre;overflow-x:auto;line-height:normal;font-family:Menlo,'DejaVu Sans Mono',consolas,'Courier New',monospace\"><span style=\"color: #008000; text-decoration-color: #008000\">DEBUG   </span> You are an academic content generation assistant. Based on the following university course syllabus,      \n",
       "         generate structured teaching materials, ensuring clarity, engagement, and alignment with best pedagogical \n",
       "         practices. This material are going to be used by a professor to teach a course in <span style=\"font-weight: bold\">[</span>subject<span style=\"font-weight: bold\">]</span>.              \n",
       "                                                                                                                   \n",
       "         <span style=\"font-weight: bold\">&lt;</span><span style=\"color: #ff00ff; text-decoration-color: #ff00ff; font-weight: bold\">instructions</span><span style=\"color: #000000; text-decoration-color: #000000\">&gt;</span>                                                                                            \n",
       "         <span style=\"color: #000000; text-decoration-color: #000000\">- List the files in the folder </span><span style=\"color: #008000; text-decoration-color: #008000\">'../data/input'</span><span style=\"color: #000000; text-decoration-color: #000000\"> and determine if one of this names is usefull for the </span>     \n",
       "         <span style=\"color: #000000; text-decoration-color: #000000\">response.</span>                                                                                                 \n",
       "         <span style=\"color: #000000; text-decoration-color: #000000\">- If one of the files is usefull, read it and use it to know the course topic, else search in internet.</span>   \n",
       "         <span style=\"color: #000000; text-decoration-color: #000000\">- If the topic is specific, ensure accuracy and up-to-date information. If it is general, prioritize </span>     \n",
       "         <span style=\"color: #000000; text-decoration-color: #000000\">relevance and engagement.</span>                                                                                 \n",
       "         <span style=\"color: #000000; text-decoration-color: #000000\">- If sufficient information is not available, search online for reliable sources before generating </span>       \n",
       "         <span style=\"color: #000000; text-decoration-color: #000000\">content.</span>                                                                                                  \n",
       "         <span style=\"color: #000000; text-decoration-color: #000000\">- Follow these guidelines based on the content type:</span>                                                      \n",
       "         <span style=\"color: #000000; text-decoration-color: #000000\">- - Exam: Generate a set of </span><span style=\"color: #008080; text-decoration-color: #008080; font-weight: bold\">5</span><span style=\"color: #000000; text-decoration-color: #000000\"> to </span><span style=\"color: #008080; text-decoration-color: #008080; font-weight: bold\">10</span><span style=\"color: #000000; text-decoration-color: #000000\"> exam questions with detailed solutions.</span>                               \n",
       "         <span style=\"color: #000000; text-decoration-color: #000000\">- - Lecture: Create a structured lecture outline with at least </span><span style=\"color: #008080; text-decoration-color: #008080; font-weight: bold\">5</span><span style=\"color: #000000; text-decoration-color: #000000\"> sections covering key concepts.</span>          \n",
       "         <span style=\"color: #000000; text-decoration-color: #000000\">- - Workshop: Develop a workshop plan with at least </span><span style=\"color: #008080; text-decoration-color: #008080; font-weight: bold\">5</span><span style=\"color: #000000; text-decoration-color: #000000\"> sections, including practical examples and </span>         \n",
       "         <span style=\"color: #000000; text-decoration-color: #000000\">exercises.</span>                                                                                                \n",
       "         <span style=\"color: #000000; text-decoration-color: #000000\">- Ensure clarity, coherence, and academic rigor in all content.</span>                                           \n",
       "         <span style=\"color: #000000; text-decoration-color: #000000\">- Deliver the content in a professional and engaging manner.</span>                                              \n",
       "         <span style=\"color: #000000; text-decoration-color: #000000\">&lt;</span><span style=\"color: #800080; text-decoration-color: #800080\">/</span><span style=\"color: #ff00ff; text-decoration-color: #ff00ff\">instructions</span><span style=\"color: #000000; text-decoration-color: #000000\">&gt;</span>                                                                                           \n",
       "                                                                                                                   \n",
       "         <span style=\"color: #000000; text-decoration-color: #000000\">&lt;additional_information&gt;</span>                                                                                  \n",
       "         <span style=\"color: #000000; text-decoration-color: #000000\">- Use markdown to format your answers.</span>                                                                    \n",
       "         <span style=\"color: #000000; text-decoration-color: #000000\">&lt;</span><span style=\"color: #800080; text-decoration-color: #800080\">/</span><span style=\"color: #ff00ff; text-decoration-color: #ff00ff\">additional_information</span><span style=\"font-weight: bold\">&gt;</span>                                                                                 \n",
       "</pre>\n"
      ],
      "text/plain": [
       "\u001b[32mDEBUG   \u001b[0m You are an academic content generation assistant. Based on the following university course syllabus,      \n",
       "         generate structured teaching materials, ensuring clarity, engagement, and alignment with best pedagogical \n",
       "         practices. This material are going to be used by a professor to teach a course in \u001b[1m[\u001b[0msubject\u001b[1m]\u001b[0m.              \n",
       "                                                                                                                   \n",
       "         \u001b[1m<\u001b[0m\u001b[1;95minstructions\u001b[0m\u001b[39m>\u001b[0m                                                                                            \n",
       "         \u001b[39m- List the files in the folder \u001b[0m\u001b[32m'../data/input'\u001b[0m\u001b[39m and determine if one of this names is usefull for the \u001b[0m     \n",
       "         \u001b[39mresponse.\u001b[0m                                                                                                 \n",
       "         \u001b[39m- If one of the files is usefull, read it and use it to know the course topic, else search in internet.\u001b[0m   \n",
       "         \u001b[39m- If the topic is specific, ensure accuracy and up-to-date information. If it is general, prioritize \u001b[0m     \n",
       "         \u001b[39mrelevance and engagement.\u001b[0m                                                                                 \n",
       "         \u001b[39m- If sufficient information is not available, search online for reliable sources before generating \u001b[0m       \n",
       "         \u001b[39mcontent.\u001b[0m                                                                                                  \n",
       "         \u001b[39m- Follow these guidelines based on the content type:\u001b[0m                                                      \n",
       "         \u001b[39m- - Exam: Generate a set of \u001b[0m\u001b[1;36m5\u001b[0m\u001b[39m to \u001b[0m\u001b[1;36m10\u001b[0m\u001b[39m exam questions with detailed solutions.\u001b[0m                               \n",
       "         \u001b[39m- - Lecture: Create a structured lecture outline with at least \u001b[0m\u001b[1;36m5\u001b[0m\u001b[39m sections covering key concepts.\u001b[0m          \n",
       "         \u001b[39m- - Workshop: Develop a workshop plan with at least \u001b[0m\u001b[1;36m5\u001b[0m\u001b[39m sections, including practical examples and \u001b[0m         \n",
       "         \u001b[39mexercises.\u001b[0m                                                                                                \n",
       "         \u001b[39m- Ensure clarity, coherence, and academic rigor in all content.\u001b[0m                                           \n",
       "         \u001b[39m- Deliver the content in a professional and engaging manner.\u001b[0m                                              \n",
       "         \u001b[39m<\u001b[0m\u001b[35m/\u001b[0m\u001b[95minstructions\u001b[0m\u001b[39m>\u001b[0m                                                                                           \n",
       "                                                                                                                   \n",
       "         \u001b[39m<additional_information>\u001b[0m                                                                                  \n",
       "         \u001b[39m- Use markdown to format your answers.\u001b[0m                                                                    \n",
       "         \u001b[39m<\u001b[0m\u001b[35m/\u001b[0m\u001b[95madditional_information\u001b[0m\u001b[1m>\u001b[0m                                                                                 \n"
      ]
     },
     "metadata": {},
     "output_type": "display_data"
    },
    {
     "data": {
      "text/html": [
       "<pre style=\"white-space:pre;overflow-x:auto;line-height:normal;font-family:Menlo,'DejaVu Sans Mono',consolas,'Courier New',monospace\"><span style=\"color: #008000; text-decoration-color: #008000\">DEBUG   </span> ============== user ==============                                                                        \n",
       "</pre>\n"
      ],
      "text/plain": [
       "\u001b[32mDEBUG   \u001b[0m ============== user ==============                                                                        \n"
      ]
     },
     "metadata": {},
     "output_type": "display_data"
    },
    {
     "data": {
      "text/html": [
       "<pre style=\"white-space:pre;overflow-x:auto;line-height:normal;font-family:Menlo,'DejaVu Sans Mono',consolas,'Courier New',monospace\"><span style=\"color: #008000; text-decoration-color: #008000\">DEBUG   </span> Analyze the subject <span style=\"color: #008000; text-decoration-color: #008000\">'Fundamentos de programacion'</span> and identify the most relevant topics in the folder     \n",
       "         <span style=\"color: #008000; text-decoration-color: #008000\">'../data/input'</span>.                                                                                          \n",
       "                     Based on these topics, generate a content type <span style=\"color: #008000; text-decoration-color: #008000\">'Lecture'</span> materials about the course search and\n",
       "         explain them.                                                                                             \n",
       "                     Explain the topic <span style=\"color: #008000; text-decoration-color: #008000\">'Variables'</span>, provide definitions, and explain what each thing is.           \n",
       "                     Ensure to save the output in a file in the folder <span style=\"color: #008000; text-decoration-color: #008000\">'../data/output'</span> with a clear and           \n",
       "         descriptive filename.                                                                                     \n",
       "</pre>\n"
      ],
      "text/plain": [
       "\u001b[32mDEBUG   \u001b[0m Analyze the subject \u001b[32m'Fundamentos de programacion'\u001b[0m and identify the most relevant topics in the folder     \n",
       "         \u001b[32m'../data/input'\u001b[0m.                                                                                          \n",
       "                     Based on these topics, generate a content type \u001b[32m'Lecture'\u001b[0m materials about the course search and\n",
       "         explain them.                                                                                             \n",
       "                     Explain the topic \u001b[32m'Variables'\u001b[0m, provide definitions, and explain what each thing is.           \n",
       "                     Ensure to save the output in a file in the folder \u001b[32m'../data/output'\u001b[0m with a clear and           \n",
       "         descriptive filename.                                                                                     \n"
      ]
     },
     "metadata": {},
     "output_type": "display_data"
    },
    {
     "data": {
      "application/vnd.jupyter.widget-view+json": {
       "model_id": "b5233fd4151749a4ae5519727825ab0c",
       "version_major": 2,
       "version_minor": 0
      },
      "text/plain": [
       "Output()"
      ]
     },
     "metadata": {},
     "output_type": "display_data"
    },
    {
     "data": {
      "text/html": [
       "<pre style=\"white-space:pre;overflow-x:auto;line-height:normal;font-family:Menlo,'DejaVu Sans Mono',consolas,'Courier New',monospace\"><span style=\"color: #008000; text-decoration-color: #008000\">DEBUG   </span> ============== assistant ==============                                                                   \n",
       "</pre>\n"
      ],
      "text/plain": [
       "\u001b[32mDEBUG   \u001b[0m ============== assistant ==============                                                                   \n"
      ]
     },
     "metadata": {},
     "output_type": "display_data"
    },
    {
     "data": {
      "text/html": [
       "<pre style=\"white-space:pre;overflow-x:auto;line-height:normal;font-family:Menlo,'DejaVu Sans Mono',consolas,'Courier New',monospace\"><span style=\"color: #008000; text-decoration-color: #008000\">DEBUG   </span> Tool Calls: <span style=\"font-weight: bold\">[</span>                                                                                             \n",
       "           <span style=\"font-weight: bold\">{</span>                                                                                                       \n",
       "             <span style=\"color: #008000; text-decoration-color: #008000\">\"type\"</span>: <span style=\"color: #008000; text-decoration-color: #008000\">\"function\"</span>,                                                                                   \n",
       "             <span style=\"color: #008000; text-decoration-color: #008000\">\"function\"</span>: <span style=\"font-weight: bold\">{</span>                                                                                         \n",
       "               <span style=\"color: #008000; text-decoration-color: #008000\">\"name\"</span>: <span style=\"color: #008000; text-decoration-color: #008000\">\"list_files\"</span>,                                                                               \n",
       "               <span style=\"color: #008000; text-decoration-color: #008000\">\"arguments\"</span>: <span style=\"color: #008000; text-decoration-color: #008000\">\"{\\\"directory\\\": \\\"../data/input\\\"}\"</span>                                                   \n",
       "             <span style=\"font-weight: bold\">}</span>                                                                                                     \n",
       "           <span style=\"font-weight: bold\">}</span>,                                                                                                      \n",
       "           <span style=\"font-weight: bold\">{</span>                                                                                                       \n",
       "             <span style=\"color: #008000; text-decoration-color: #008000\">\"type\"</span>: <span style=\"color: #008000; text-decoration-color: #008000\">\"function\"</span>,                                                                                   \n",
       "             <span style=\"color: #008000; text-decoration-color: #008000\">\"function\"</span>: <span style=\"font-weight: bold\">{</span>                                                                                         \n",
       "               <span style=\"color: #008000; text-decoration-color: #008000\">\"name\"</span>: <span style=\"color: #008000; text-decoration-color: #008000\">\"read_file\"</span>,                                                                                \n",
       "               <span style=\"color: #008000; text-decoration-color: #008000\">\"arguments\"</span>: <span style=\"color: #008000; text-decoration-color: #008000\">\"{\\\"file_name\\\": \\\"../data/input/introduction_to_programming.pdf\\\"}\"</span>                   \n",
       "             <span style=\"font-weight: bold\">}</span>                                                                                                     \n",
       "           <span style=\"font-weight: bold\">}</span>                                                                                                       \n",
       "         <span style=\"font-weight: bold\">]</span>                                                                                                         \n",
       "</pre>\n"
      ],
      "text/plain": [
       "\u001b[32mDEBUG   \u001b[0m Tool Calls: \u001b[1m[\u001b[0m                                                                                             \n",
       "           \u001b[1m{\u001b[0m                                                                                                       \n",
       "             \u001b[32m\"type\"\u001b[0m: \u001b[32m\"function\"\u001b[0m,                                                                                   \n",
       "             \u001b[32m\"function\"\u001b[0m: \u001b[1m{\u001b[0m                                                                                         \n",
       "               \u001b[32m\"name\"\u001b[0m: \u001b[32m\"list_files\"\u001b[0m,                                                                               \n",
       "               \u001b[32m\"arguments\"\u001b[0m: \u001b[32m\"\u001b[0m\u001b[32m{\u001b[0m\u001b[32m\\\"directory\\\": \\\"../data/input\\\"\u001b[0m\u001b[32m}\u001b[0m\u001b[32m\"\u001b[0m                                                   \n",
       "             \u001b[1m}\u001b[0m                                                                                                     \n",
       "           \u001b[1m}\u001b[0m,                                                                                                      \n",
       "           \u001b[1m{\u001b[0m                                                                                                       \n",
       "             \u001b[32m\"type\"\u001b[0m: \u001b[32m\"function\"\u001b[0m,                                                                                   \n",
       "             \u001b[32m\"function\"\u001b[0m: \u001b[1m{\u001b[0m                                                                                         \n",
       "               \u001b[32m\"name\"\u001b[0m: \u001b[32m\"read_file\"\u001b[0m,                                                                                \n",
       "               \u001b[32m\"arguments\"\u001b[0m: \u001b[32m\"\u001b[0m\u001b[32m{\u001b[0m\u001b[32m\\\"file_name\\\": \\\"../data/input/introduction_to_programming.pdf\\\"\u001b[0m\u001b[32m}\u001b[0m\u001b[32m\"\u001b[0m                   \n",
       "             \u001b[1m}\u001b[0m                                                                                                     \n",
       "           \u001b[1m}\u001b[0m                                                                                                       \n",
       "         \u001b[1m]\u001b[0m                                                                                                         \n"
      ]
     },
     "metadata": {},
     "output_type": "display_data"
    },
    {
     "data": {
      "text/html": [
       "<pre style=\"white-space:pre;overflow-x:auto;line-height:normal;font-family:Menlo,'DejaVu Sans Mono',consolas,'Courier New',monospace\"><span style=\"color: #008000; text-decoration-color: #008000\">DEBUG   </span> **************** METRICS ****************                                                                 \n",
       "</pre>\n"
      ],
      "text/plain": [
       "\u001b[32mDEBUG   \u001b[0m **************** METRICS ****************                                                                 \n"
      ]
     },
     "metadata": {},
     "output_type": "display_data"
    },
    {
     "data": {
      "text/html": [
       "<pre style=\"white-space:pre;overflow-x:auto;line-height:normal;font-family:Menlo,'DejaVu Sans Mono',consolas,'Courier New',monospace\"><span style=\"color: #008000; text-decoration-color: #008000\">DEBUG   </span> * Input tokens:                <span style=\"color: #008080; text-decoration-color: #008080; font-weight: bold\">762</span>                                                                        \n",
       "</pre>\n"
      ],
      "text/plain": [
       "\u001b[32mDEBUG   \u001b[0m * Input tokens:                \u001b[1;36m762\u001b[0m                                                                        \n"
      ]
     },
     "metadata": {},
     "output_type": "display_data"
    },
    {
     "data": {
      "text/html": [
       "<pre style=\"white-space:pre;overflow-x:auto;line-height:normal;font-family:Menlo,'DejaVu Sans Mono',consolas,'Courier New',monospace\"><span style=\"color: #008000; text-decoration-color: #008000\">DEBUG   </span> * Output tokens:               <span style=\"color: #008080; text-decoration-color: #008080; font-weight: bold\">317</span>                                                                        \n",
       "</pre>\n"
      ],
      "text/plain": [
       "\u001b[32mDEBUG   \u001b[0m * Output tokens:               \u001b[1;36m317\u001b[0m                                                                        \n"
      ]
     },
     "metadata": {},
     "output_type": "display_data"
    },
    {
     "data": {
      "text/html": [
       "<pre style=\"white-space:pre;overflow-x:auto;line-height:normal;font-family:Menlo,'DejaVu Sans Mono',consolas,'Courier New',monospace\"><span style=\"color: #008000; text-decoration-color: #008000\">DEBUG   </span> * Total tokens:                <span style=\"color: #008080; text-decoration-color: #008080; font-weight: bold\">1079</span>                                                                       \n",
       "</pre>\n"
      ],
      "text/plain": [
       "\u001b[32mDEBUG   \u001b[0m * Total tokens:                \u001b[1;36m1079\u001b[0m                                                                       \n"
      ]
     },
     "metadata": {},
     "output_type": "display_data"
    },
    {
     "data": {
      "text/html": [
       "<pre style=\"white-space:pre;overflow-x:auto;line-height:normal;font-family:Menlo,'DejaVu Sans Mono',consolas,'Courier New',monospace\"><span style=\"color: #008000; text-decoration-color: #008000\">DEBUG   </span> * Time:                        <span style=\"color: #008080; text-decoration-color: #008080; font-weight: bold\">216.</span>0040s                                                                  \n",
       "</pre>\n"
      ],
      "text/plain": [
       "\u001b[32mDEBUG   \u001b[0m * Time:                        \u001b[1;36m216.\u001b[0m0040s                                                                  \n"
      ]
     },
     "metadata": {},
     "output_type": "display_data"
    },
    {
     "data": {
      "text/html": [
       "<pre style=\"white-space:pre;overflow-x:auto;line-height:normal;font-family:Menlo,'DejaVu Sans Mono',consolas,'Courier New',monospace\"><span style=\"color: #008000; text-decoration-color: #008000\">DEBUG   </span> * Tokens per second:           <span style=\"color: #008080; text-decoration-color: #008080; font-weight: bold\">1.4676</span> tokens/s                                                            \n",
       "</pre>\n"
      ],
      "text/plain": [
       "\u001b[32mDEBUG   \u001b[0m * Tokens per second:           \u001b[1;36m1.4676\u001b[0m tokens/s                                                            \n"
      ]
     },
     "metadata": {},
     "output_type": "display_data"
    },
    {
     "data": {
      "text/html": [
       "<pre style=\"white-space:pre;overflow-x:auto;line-height:normal;font-family:Menlo,'DejaVu Sans Mono',consolas,'Courier New',monospace\"><span style=\"color: #008000; text-decoration-color: #008000\">DEBUG   </span> * Additional metrics:          <span style=\"font-weight: bold\">{</span><span style=\"color: #008000; text-decoration-color: #008000\">'total_duration'</span>: <span style=\"color: #008080; text-decoration-color: #008080; font-weight: bold\">215988634100</span>, <span style=\"color: #008000; text-decoration-color: #008000\">'load_duration'</span>: <span style=\"color: #008080; text-decoration-color: #008080; font-weight: bold\">50821300</span>,                \n",
       "         <span style=\"color: #008000; text-decoration-color: #008000\">'prompt_eval_duration'</span>: <span style=\"color: #008080; text-decoration-color: #008080; font-weight: bold\">121237000000</span>, <span style=\"color: #008000; text-decoration-color: #008000\">'eval_duration'</span>: <span style=\"color: #008080; text-decoration-color: #008080; font-weight: bold\">94679000000</span><span style=\"font-weight: bold\">}</span>                                       \n",
       "</pre>\n"
      ],
      "text/plain": [
       "\u001b[32mDEBUG   \u001b[0m * Additional metrics:          \u001b[1m{\u001b[0m\u001b[32m'total_duration'\u001b[0m: \u001b[1;36m215988634100\u001b[0m, \u001b[32m'load_duration'\u001b[0m: \u001b[1;36m50821300\u001b[0m,                \n",
       "         \u001b[32m'prompt_eval_duration'\u001b[0m: \u001b[1;36m121237000000\u001b[0m, \u001b[32m'eval_duration'\u001b[0m: \u001b[1;36m94679000000\u001b[0m\u001b[1m}\u001b[0m                                       \n"
      ]
     },
     "metadata": {},
     "output_type": "display_data"
    },
    {
     "data": {
      "text/html": [
       "<pre style=\"white-space:pre;overflow-x:auto;line-height:normal;font-family:Menlo,'DejaVu Sans Mono',consolas,'Courier New',monospace\"><span style=\"color: #008000; text-decoration-color: #008000\">DEBUG   </span> **************** METRICS ******************                                                               \n",
       "</pre>\n"
      ],
      "text/plain": [
       "\u001b[32mDEBUG   \u001b[0m **************** METRICS ******************                                                               \n"
      ]
     },
     "metadata": {},
     "output_type": "display_data"
    },
    {
     "data": {
      "text/html": [
       "<pre style=\"white-space:pre;overflow-x:auto;line-height:normal;font-family:Menlo,'DejaVu Sans Mono',consolas,'Courier New',monospace\"><span style=\"color: #008000; text-decoration-color: #008000\">DEBUG   </span> Getting function list_files                                                                               \n",
       "</pre>\n"
      ],
      "text/plain": [
       "\u001b[32mDEBUG   \u001b[0m Getting function list_files                                                                               \n"
      ]
     },
     "metadata": {},
     "output_type": "display_data"
    },
    {
     "data": {
      "text/html": [
       "<pre style=\"white-space:pre;overflow-x:auto;line-height:normal;font-family:Menlo,'DejaVu Sans Mono',consolas,'Courier New',monospace\"><span style=\"color: #008000; text-decoration-color: #008000\">DEBUG   </span> Getting function read_file                                                                                \n",
       "</pre>\n"
      ],
      "text/plain": [
       "\u001b[32mDEBUG   \u001b[0m Getting function read_file                                                                                \n"
      ]
     },
     "metadata": {},
     "output_type": "display_data"
    },
    {
     "data": {
      "text/html": [
       "<pre style=\"white-space:pre;overflow-x:auto;line-height:normal;font-family:Menlo,'DejaVu Sans Mono',consolas,'Courier New',monospace\"><span style=\"color: #008000; text-decoration-color: #008000\">DEBUG   </span> Running: <span style=\"color: #800080; text-decoration-color: #800080; font-weight: bold\">list_files</span><span style=\"font-weight: bold\">(</span><span style=\"color: #808000; text-decoration-color: #808000\">directory</span>=..<span style=\"color: #800080; text-decoration-color: #800080\">/data/</span><span style=\"color: #ff00ff; text-decoration-color: #ff00ff\">input</span><span style=\"font-weight: bold\">)</span>                                                              \n",
       "</pre>\n"
      ],
      "text/plain": [
       "\u001b[32mDEBUG   \u001b[0m Running: \u001b[1;35mlist_files\u001b[0m\u001b[1m(\u001b[0m\u001b[33mdirectory\u001b[0m=..\u001b[35m/data/\u001b[0m\u001b[95minput\u001b[0m\u001b[1m)\u001b[0m                                                              \n"
      ]
     },
     "metadata": {},
     "output_type": "display_data"
    },
    {
     "data": {
      "text/html": [
       "<pre style=\"white-space:pre;overflow-x:auto;line-height:normal;font-family:Menlo,'DejaVu Sans Mono',consolas,'Courier New',monospace\"><span style=\"color: #808000; text-decoration-color: #808000\">WARNING </span> Could not run function <span style=\"color: #800080; text-decoration-color: #800080; font-weight: bold\">list_files</span><span style=\"font-weight: bold\">(</span><span style=\"color: #808000; text-decoration-color: #808000\">directory</span>=..<span style=\"color: #800080; text-decoration-color: #800080\">/data/</span><span style=\"color: #ff00ff; text-decoration-color: #ff00ff\">input</span><span style=\"font-weight: bold\">)</span>                                                \n",
       "</pre>\n"
      ],
      "text/plain": [
       "\u001b[33mWARNING \u001b[0m Could not run function \u001b[1;35mlist_files\u001b[0m\u001b[1m(\u001b[0m\u001b[33mdirectory\u001b[0m=..\u001b[35m/data/\u001b[0m\u001b[95minput\u001b[0m\u001b[1m)\u001b[0m                                                \n"
      ]
     },
     "metadata": {},
     "output_type": "display_data"
    },
    {
     "data": {
      "text/html": [
       "<pre style=\"white-space:pre;overflow-x:auto;line-height:normal;font-family:Menlo,'DejaVu Sans Mono',consolas,'Courier New',monospace\"><span style=\"color: #800000; text-decoration-color: #800000; font-weight: bold\">ERROR   </span> <span style=\"color: #008080; text-decoration-color: #008080; font-weight: bold\">1</span> validation error for FileTools.list_files                                                               \n",
       "         directory                                                                                                 \n",
       "           Unexpected keyword argument <span style=\"font-weight: bold\">[</span><span style=\"color: #808000; text-decoration-color: #808000\">type</span>=<span style=\"color: #800080; text-decoration-color: #800080\">unexpected_keyword_argument</span>, <span style=\"color: #808000; text-decoration-color: #808000\">input_value</span>=<span style=\"color: #008000; text-decoration-color: #008000\">'../data/input'</span>,             \n",
       "         <span style=\"color: #808000; text-decoration-color: #808000\">input_type</span>=<span style=\"color: #800080; text-decoration-color: #800080\">str</span><span style=\"font-weight: bold\">]</span>                                                                                           \n",
       "             For further information visit <span style=\"color: #0000ff; text-decoration-color: #0000ff; text-decoration: underline\">https://errors.pydantic.dev/2.10/v/unexpected_keyword_argument</span>          \n",
       "         Traceback <span style=\"font-weight: bold\">(</span>most recent call last<span style=\"font-weight: bold\">)</span>:                                                                        \n",
       "           File <span style=\"color: #008000; text-decoration-color: #008000\">\"c:\\Users\\JUAN\\Documents\\Universidad 2024-2\\Redes </span>                                                 \n",
       "         <span style=\"color: #008000; text-decoration-color: #008000\">neuronales\\Repos\\Agents\\.venv\\lib\\site-packages\\agno\\tools\\function.py\"</span>, line <span style=\"color: #008080; text-decoration-color: #008080; font-weight: bold\">358</span>, in execute             \n",
       "             self.result = <span style=\"color: #800080; text-decoration-color: #800080; font-weight: bold\">self.function.entrypoint</span><span style=\"font-weight: bold\">(</span>**entrypoint_args, **self.arguments<span style=\"font-weight: bold\">)</span>                           \n",
       "           File <span style=\"color: #008000; text-decoration-color: #008000\">\"c:\\Users\\JUAN\\Documents\\Universidad 2024-2\\Redes </span>                                                 \n",
       "         <span style=\"color: #008000; text-decoration-color: #008000\">neuronales\\Repos\\Agents\\.venv\\lib\\site-packages\\pydantic\\_internal\\_validate_call.py\"</span>, line <span style=\"color: #008080; text-decoration-color: #008080; font-weight: bold\">38</span>, in        \n",
       "         wrapper_function                                                                                          \n",
       "             return <span style=\"color: #800080; text-decoration-color: #800080; font-weight: bold\">wrapper</span><span style=\"font-weight: bold\">(</span>*args, **kwargs<span style=\"font-weight: bold\">)</span>                                                                       \n",
       "           File <span style=\"color: #008000; text-decoration-color: #008000\">\"c:\\Users\\JUAN\\Documents\\Universidad 2024-2\\Redes </span>                                                 \n",
       "         <span style=\"color: #008000; text-decoration-color: #008000\">neuronales\\Repos\\Agents\\.venv\\lib\\site-packages\\pydantic\\_internal\\_validate_call.py\"</span>, line <span style=\"color: #008080; text-decoration-color: #008080; font-weight: bold\">111</span>, in       \n",
       "         __call__                                                                                                  \n",
       "             res = <span style=\"color: #800080; text-decoration-color: #800080; font-weight: bold\">self.__pydantic_validator__.validate_python</span><span style=\"font-weight: bold\">(</span><span style=\"color: #800080; text-decoration-color: #800080; font-weight: bold\">pydantic_core.ArgsKwargs</span><span style=\"font-weight: bold\">(</span>args, kwargs<span style=\"font-weight: bold\">))</span>             \n",
       "         pydantic_core._pydantic_core.ValidationError: <span style=\"color: #008080; text-decoration-color: #008080; font-weight: bold\">1</span> validation error for FileTools.list_files                 \n",
       "         directory                                                                                                 \n",
       "           Unexpected keyword argument <span style=\"font-weight: bold\">[</span><span style=\"color: #808000; text-decoration-color: #808000\">type</span>=<span style=\"color: #800080; text-decoration-color: #800080\">unexpected_keyword_argument</span>, <span style=\"color: #808000; text-decoration-color: #808000\">input_value</span>=<span style=\"color: #008000; text-decoration-color: #008000\">'../data/input'</span>,             \n",
       "         <span style=\"color: #808000; text-decoration-color: #808000\">input_type</span>=<span style=\"color: #800080; text-decoration-color: #800080\">str</span><span style=\"font-weight: bold\">]</span>                                                                                           \n",
       "             For further information visit <span style=\"color: #0000ff; text-decoration-color: #0000ff; text-decoration: underline\">https://errors.pydantic.dev/2.10/v/unexpected_keyword_argument</span>          \n",
       "</pre>\n"
      ],
      "text/plain": [
       "\u001b[1;31mERROR   \u001b[0m \u001b[1;36m1\u001b[0m validation error for FileTools.list_files                                                               \n",
       "         directory                                                                                                 \n",
       "           Unexpected keyword argument \u001b[1m[\u001b[0m\u001b[33mtype\u001b[0m=\u001b[35munexpected_keyword_argument\u001b[0m, \u001b[33minput_value\u001b[0m=\u001b[32m'../data/input'\u001b[0m,             \n",
       "         \u001b[33minput_type\u001b[0m=\u001b[35mstr\u001b[0m\u001b[1m]\u001b[0m                                                                                           \n",
       "             For further information visit \u001b[4;94mhttps://errors.pydantic.dev/2.10/v/unexpected_keyword_argument\u001b[0m          \n",
       "         Traceback \u001b[1m(\u001b[0mmost recent call last\u001b[1m)\u001b[0m:                                                                        \n",
       "           File \u001b[32m\"c:\\Users\\JUAN\\Documents\\Universidad 2024-2\\Redes \u001b[0m                                                 \n",
       "         \u001b[32mneuronales\\Repos\\Agents\\.venv\\lib\\site-packages\\agno\\tools\\function.py\"\u001b[0m, line \u001b[1;36m358\u001b[0m, in execute             \n",
       "             self.result = \u001b[1;35mself.function.entrypoint\u001b[0m\u001b[1m(\u001b[0m**entrypoint_args, **self.arguments\u001b[1m)\u001b[0m                           \n",
       "           File \u001b[32m\"c:\\Users\\JUAN\\Documents\\Universidad 2024-2\\Redes \u001b[0m                                                 \n",
       "         \u001b[32mneuronales\\Repos\\Agents\\.venv\\lib\\site-packages\\pydantic\\_internal\\_validate_call.py\"\u001b[0m, line \u001b[1;36m38\u001b[0m, in        \n",
       "         wrapper_function                                                                                          \n",
       "             return \u001b[1;35mwrapper\u001b[0m\u001b[1m(\u001b[0m*args, **kwargs\u001b[1m)\u001b[0m                                                                       \n",
       "           File \u001b[32m\"c:\\Users\\JUAN\\Documents\\Universidad 2024-2\\Redes \u001b[0m                                                 \n",
       "         \u001b[32mneuronales\\Repos\\Agents\\.venv\\lib\\site-packages\\pydantic\\_internal\\_validate_call.py\"\u001b[0m, line \u001b[1;36m111\u001b[0m, in       \n",
       "         __call__                                                                                                  \n",
       "             res = \u001b[1;35mself.__pydantic_validator__.validate_python\u001b[0m\u001b[1m(\u001b[0m\u001b[1;35mpydantic_core.ArgsKwargs\u001b[0m\u001b[1m(\u001b[0margs, kwargs\u001b[1m)\u001b[0m\u001b[1m)\u001b[0m             \n",
       "         pydantic_core._pydantic_core.ValidationError: \u001b[1;36m1\u001b[0m validation error for FileTools.list_files                 \n",
       "         directory                                                                                                 \n",
       "           Unexpected keyword argument \u001b[1m[\u001b[0m\u001b[33mtype\u001b[0m=\u001b[35munexpected_keyword_argument\u001b[0m, \u001b[33minput_value\u001b[0m=\u001b[32m'../data/input'\u001b[0m,             \n",
       "         \u001b[33minput_type\u001b[0m=\u001b[35mstr\u001b[0m\u001b[1m]\u001b[0m                                                                                           \n",
       "             For further information visit \u001b[4;94mhttps://errors.pydantic.dev/2.10/v/unexpected_keyword_argument\u001b[0m          \n"
      ]
     },
     "metadata": {},
     "output_type": "display_data"
    },
    {
     "data": {
      "text/html": [
       "<pre style=\"white-space:pre;overflow-x:auto;line-height:normal;font-family:Menlo,'DejaVu Sans Mono',consolas,'Courier New',monospace\"><span style=\"color: #008000; text-decoration-color: #008000\">DEBUG   </span> Running: <span style=\"color: #800080; text-decoration-color: #800080; font-weight: bold\">read_file</span><span style=\"font-weight: bold\">(</span><span style=\"color: #808000; text-decoration-color: #808000\">file_name</span>=..<span style=\"color: #800080; text-decoration-color: #800080\">/data/input/</span><span style=\"color: #ff00ff; text-decoration-color: #ff00ff\">introduction_to_programming.pdf</span><span style=\"font-weight: bold\">)</span>                               \n",
       "</pre>\n"
      ],
      "text/plain": [
       "\u001b[32mDEBUG   \u001b[0m Running: \u001b[1;35mread_file\u001b[0m\u001b[1m(\u001b[0m\u001b[33mfile_name\u001b[0m=..\u001b[35m/data/input/\u001b[0m\u001b[95mintroduction_to_programming.pdf\u001b[0m\u001b[1m)\u001b[0m                               \n"
      ]
     },
     "metadata": {},
     "output_type": "display_data"
    },
    {
     "data": {
      "text/html": [
       "<pre style=\"white-space:pre;overflow-x:auto;line-height:normal;font-family:Menlo,'DejaVu Sans Mono',consolas,'Courier New',monospace\"><span style=\"color: #000080; text-decoration-color: #000080\">INFO    </span> Reading file: ..<span style=\"color: #800080; text-decoration-color: #800080\">/data/input/</span><span style=\"color: #ff00ff; text-decoration-color: #ff00ff\">introduction_to_programming.pdf</span>                                               \n",
       "</pre>\n"
      ],
      "text/plain": [
       "\u001b[34mINFO    \u001b[0m Reading file: ..\u001b[35m/data/input/\u001b[0m\u001b[95mintroduction_to_programming.pdf\u001b[0m                                               \n"
      ]
     },
     "metadata": {},
     "output_type": "display_data"
    },
    {
     "data": {
      "text/html": [
       "<pre style=\"white-space:pre;overflow-x:auto;line-height:normal;font-family:Menlo,'DejaVu Sans Mono',consolas,'Courier New',monospace\"><span style=\"color: #800000; text-decoration-color: #800000; font-weight: bold\">ERROR   </span> Error reading file: <span style=\"font-weight: bold\">[</span>Errno <span style=\"color: #008080; text-decoration-color: #008080; font-weight: bold\">2</span><span style=\"font-weight: bold\">]</span> No such file or directory: <span style=\"color: #008000; text-decoration-color: #008000\">'c:\\\\Users\\\\JUAN\\\\Documents\\\\Universidad </span>        \n",
       "         <span style=\"color: #008000; text-decoration-color: #008000\">2024-2\\\\Redes neuronales\\\\Repos\\\\Agents\\\\notebooks\\\\..\\\\data\\\\input\\\\introduction_to_programming.pdf'</span>     \n",
       "</pre>\n"
      ],
      "text/plain": [
       "\u001b[1;31mERROR   \u001b[0m Error reading file: \u001b[1m[\u001b[0mErrno \u001b[1;36m2\u001b[0m\u001b[1m]\u001b[0m No such file or directory: \u001b[32m'c:\\\\Users\\\\JUAN\\\\Documents\\\\Universidad \u001b[0m        \n",
       "         \u001b[32m2024-2\\\\Redes neuronales\\\\Repos\\\\Agents\\\\notebooks\\\\..\\\\data\\\\input\\\\introduction_to_programming.pdf'\u001b[0m     \n"
      ]
     },
     "metadata": {},
     "output_type": "display_data"
    },
    {
     "data": {
      "text/html": [
       "<pre style=\"white-space:pre;overflow-x:auto;line-height:normal;font-family:Menlo,'DejaVu Sans Mono',consolas,'Courier New',monospace\"><span style=\"color: #008000; text-decoration-color: #008000\">DEBUG   </span> ---------- Ollama Response ----------                                                                     \n",
       "</pre>\n"
      ],
      "text/plain": [
       "\u001b[32mDEBUG   \u001b[0m ---------- Ollama Response ----------                                                                     \n"
      ]
     },
     "metadata": {},
     "output_type": "display_data"
    },
    {
     "data": {
      "text/html": [
       "<pre style=\"white-space:pre;overflow-x:auto;line-height:normal;font-family:Menlo,'DejaVu Sans Mono',consolas,'Courier New',monospace\"><span style=\"color: #008000; text-decoration-color: #008000\">DEBUG   </span> ============== system ==============                                                                      \n",
       "</pre>\n"
      ],
      "text/plain": [
       "\u001b[32mDEBUG   \u001b[0m ============== system ==============                                                                      \n"
      ]
     },
     "metadata": {},
     "output_type": "display_data"
    },
    {
     "data": {
      "text/html": [
       "<pre style=\"white-space:pre;overflow-x:auto;line-height:normal;font-family:Menlo,'DejaVu Sans Mono',consolas,'Courier New',monospace\"><span style=\"color: #008000; text-decoration-color: #008000\">DEBUG   </span> You are an academic content generation assistant. Based on the following university course syllabus,      \n",
       "         generate structured teaching materials, ensuring clarity, engagement, and alignment with best pedagogical \n",
       "         practices. This material are going to be used by a professor to teach a course in <span style=\"font-weight: bold\">[</span>subject<span style=\"font-weight: bold\">]</span>.              \n",
       "                                                                                                                   \n",
       "         <span style=\"font-weight: bold\">&lt;</span><span style=\"color: #ff00ff; text-decoration-color: #ff00ff; font-weight: bold\">instructions</span><span style=\"color: #000000; text-decoration-color: #000000\">&gt;</span>                                                                                            \n",
       "         <span style=\"color: #000000; text-decoration-color: #000000\">- List the files in the folder </span><span style=\"color: #008000; text-decoration-color: #008000\">'../data/input'</span><span style=\"color: #000000; text-decoration-color: #000000\"> and determine if one of this names is usefull for the </span>     \n",
       "         <span style=\"color: #000000; text-decoration-color: #000000\">response.</span>                                                                                                 \n",
       "         <span style=\"color: #000000; text-decoration-color: #000000\">- If one of the files is usefull, read it and use it to know the course topic, else search in internet.</span>   \n",
       "         <span style=\"color: #000000; text-decoration-color: #000000\">- If the topic is specific, ensure accuracy and up-to-date information. If it is general, prioritize </span>     \n",
       "         <span style=\"color: #000000; text-decoration-color: #000000\">relevance and engagement.</span>                                                                                 \n",
       "         <span style=\"color: #000000; text-decoration-color: #000000\">- If sufficient information is not available, search online for reliable sources before generating </span>       \n",
       "         <span style=\"color: #000000; text-decoration-color: #000000\">content.</span>                                                                                                  \n",
       "         <span style=\"color: #000000; text-decoration-color: #000000\">- Follow these guidelines based on the content type:</span>                                                      \n",
       "         <span style=\"color: #000000; text-decoration-color: #000000\">- - Exam: Generate a set of </span><span style=\"color: #008080; text-decoration-color: #008080; font-weight: bold\">5</span><span style=\"color: #000000; text-decoration-color: #000000\"> to </span><span style=\"color: #008080; text-decoration-color: #008080; font-weight: bold\">10</span><span style=\"color: #000000; text-decoration-color: #000000\"> exam questions with detailed solutions.</span>                               \n",
       "         <span style=\"color: #000000; text-decoration-color: #000000\">- - Lecture: Create a structured lecture outline with at least </span><span style=\"color: #008080; text-decoration-color: #008080; font-weight: bold\">5</span><span style=\"color: #000000; text-decoration-color: #000000\"> sections covering key concepts.</span>          \n",
       "         <span style=\"color: #000000; text-decoration-color: #000000\">- - Workshop: Develop a workshop plan with at least </span><span style=\"color: #008080; text-decoration-color: #008080; font-weight: bold\">5</span><span style=\"color: #000000; text-decoration-color: #000000\"> sections, including practical examples and </span>         \n",
       "         <span style=\"color: #000000; text-decoration-color: #000000\">exercises.</span>                                                                                                \n",
       "         <span style=\"color: #000000; text-decoration-color: #000000\">- Ensure clarity, coherence, and academic rigor in all content.</span>                                           \n",
       "         <span style=\"color: #000000; text-decoration-color: #000000\">- Deliver the content in a professional and engaging manner.</span>                                              \n",
       "         <span style=\"color: #000000; text-decoration-color: #000000\">&lt;</span><span style=\"color: #800080; text-decoration-color: #800080\">/</span><span style=\"color: #ff00ff; text-decoration-color: #ff00ff\">instructions</span><span style=\"color: #000000; text-decoration-color: #000000\">&gt;</span>                                                                                           \n",
       "                                                                                                                   \n",
       "         <span style=\"color: #000000; text-decoration-color: #000000\">&lt;additional_information&gt;</span>                                                                                  \n",
       "         <span style=\"color: #000000; text-decoration-color: #000000\">- Use markdown to format your answers.</span>                                                                    \n",
       "         <span style=\"color: #000000; text-decoration-color: #000000\">&lt;</span><span style=\"color: #800080; text-decoration-color: #800080\">/</span><span style=\"color: #ff00ff; text-decoration-color: #ff00ff\">additional_information</span><span style=\"font-weight: bold\">&gt;</span>                                                                                 \n",
       "</pre>\n"
      ],
      "text/plain": [
       "\u001b[32mDEBUG   \u001b[0m You are an academic content generation assistant. Based on the following university course syllabus,      \n",
       "         generate structured teaching materials, ensuring clarity, engagement, and alignment with best pedagogical \n",
       "         practices. This material are going to be used by a professor to teach a course in \u001b[1m[\u001b[0msubject\u001b[1m]\u001b[0m.              \n",
       "                                                                                                                   \n",
       "         \u001b[1m<\u001b[0m\u001b[1;95minstructions\u001b[0m\u001b[39m>\u001b[0m                                                                                            \n",
       "         \u001b[39m- List the files in the folder \u001b[0m\u001b[32m'../data/input'\u001b[0m\u001b[39m and determine if one of this names is usefull for the \u001b[0m     \n",
       "         \u001b[39mresponse.\u001b[0m                                                                                                 \n",
       "         \u001b[39m- If one of the files is usefull, read it and use it to know the course topic, else search in internet.\u001b[0m   \n",
       "         \u001b[39m- If the topic is specific, ensure accuracy and up-to-date information. If it is general, prioritize \u001b[0m     \n",
       "         \u001b[39mrelevance and engagement.\u001b[0m                                                                                 \n",
       "         \u001b[39m- If sufficient information is not available, search online for reliable sources before generating \u001b[0m       \n",
       "         \u001b[39mcontent.\u001b[0m                                                                                                  \n",
       "         \u001b[39m- Follow these guidelines based on the content type:\u001b[0m                                                      \n",
       "         \u001b[39m- - Exam: Generate a set of \u001b[0m\u001b[1;36m5\u001b[0m\u001b[39m to \u001b[0m\u001b[1;36m10\u001b[0m\u001b[39m exam questions with detailed solutions.\u001b[0m                               \n",
       "         \u001b[39m- - Lecture: Create a structured lecture outline with at least \u001b[0m\u001b[1;36m5\u001b[0m\u001b[39m sections covering key concepts.\u001b[0m          \n",
       "         \u001b[39m- - Workshop: Develop a workshop plan with at least \u001b[0m\u001b[1;36m5\u001b[0m\u001b[39m sections, including practical examples and \u001b[0m         \n",
       "         \u001b[39mexercises.\u001b[0m                                                                                                \n",
       "         \u001b[39m- Ensure clarity, coherence, and academic rigor in all content.\u001b[0m                                           \n",
       "         \u001b[39m- Deliver the content in a professional and engaging manner.\u001b[0m                                              \n",
       "         \u001b[39m<\u001b[0m\u001b[35m/\u001b[0m\u001b[95minstructions\u001b[0m\u001b[39m>\u001b[0m                                                                                           \n",
       "                                                                                                                   \n",
       "         \u001b[39m<additional_information>\u001b[0m                                                                                  \n",
       "         \u001b[39m- Use markdown to format your answers.\u001b[0m                                                                    \n",
       "         \u001b[39m<\u001b[0m\u001b[35m/\u001b[0m\u001b[95madditional_information\u001b[0m\u001b[1m>\u001b[0m                                                                                 \n"
      ]
     },
     "metadata": {},
     "output_type": "display_data"
    },
    {
     "data": {
      "text/html": [
       "<pre style=\"white-space:pre;overflow-x:auto;line-height:normal;font-family:Menlo,'DejaVu Sans Mono',consolas,'Courier New',monospace\"><span style=\"color: #008000; text-decoration-color: #008000\">DEBUG   </span> ============== user ==============                                                                        \n",
       "</pre>\n"
      ],
      "text/plain": [
       "\u001b[32mDEBUG   \u001b[0m ============== user ==============                                                                        \n"
      ]
     },
     "metadata": {},
     "output_type": "display_data"
    },
    {
     "data": {
      "text/html": [
       "<pre style=\"white-space:pre;overflow-x:auto;line-height:normal;font-family:Menlo,'DejaVu Sans Mono',consolas,'Courier New',monospace\"><span style=\"color: #008000; text-decoration-color: #008000\">DEBUG   </span> Analyze the subject <span style=\"color: #008000; text-decoration-color: #008000\">'Fundamentos de programacion'</span> and identify the most relevant topics in the folder     \n",
       "         <span style=\"color: #008000; text-decoration-color: #008000\">'../data/input'</span>.                                                                                          \n",
       "                     Based on these topics, generate a content type <span style=\"color: #008000; text-decoration-color: #008000\">'Lecture'</span> materials about the course search and\n",
       "         explain them.                                                                                             \n",
       "                     Explain the topic <span style=\"color: #008000; text-decoration-color: #008000\">'Variables'</span>, provide definitions, and explain what each thing is.           \n",
       "                     Ensure to save the output in a file in the folder <span style=\"color: #008000; text-decoration-color: #008000\">'../data/output'</span> with a clear and           \n",
       "         descriptive filename.                                                                                     \n",
       "</pre>\n"
      ],
      "text/plain": [
       "\u001b[32mDEBUG   \u001b[0m Analyze the subject \u001b[32m'Fundamentos de programacion'\u001b[0m and identify the most relevant topics in the folder     \n",
       "         \u001b[32m'../data/input'\u001b[0m.                                                                                          \n",
       "                     Based on these topics, generate a content type \u001b[32m'Lecture'\u001b[0m materials about the course search and\n",
       "         explain them.                                                                                             \n",
       "                     Explain the topic \u001b[32m'Variables'\u001b[0m, provide definitions, and explain what each thing is.           \n",
       "                     Ensure to save the output in a file in the folder \u001b[32m'../data/output'\u001b[0m with a clear and           \n",
       "         descriptive filename.                                                                                     \n"
      ]
     },
     "metadata": {},
     "output_type": "display_data"
    },
    {
     "data": {
      "text/html": [
       "<pre style=\"white-space:pre;overflow-x:auto;line-height:normal;font-family:Menlo,'DejaVu Sans Mono',consolas,'Courier New',monospace\"><span style=\"color: #008000; text-decoration-color: #008000\">DEBUG   </span> ============== assistant ==============                                                                   \n",
       "</pre>\n"
      ],
      "text/plain": [
       "\u001b[32mDEBUG   \u001b[0m ============== assistant ==============                                                                   \n"
      ]
     },
     "metadata": {},
     "output_type": "display_data"
    },
    {
     "data": {
      "text/html": [
       "<pre style=\"white-space:pre;overflow-x:auto;line-height:normal;font-family:Menlo,'DejaVu Sans Mono',consolas,'Courier New',monospace\"><span style=\"color: #008000; text-decoration-color: #008000\">DEBUG   </span> Tool Calls: <span style=\"font-weight: bold\">[</span>                                                                                             \n",
       "           <span style=\"font-weight: bold\">{</span>                                                                                                       \n",
       "             <span style=\"color: #008000; text-decoration-color: #008000\">\"type\"</span>: <span style=\"color: #008000; text-decoration-color: #008000\">\"function\"</span>,                                                                                   \n",
       "             <span style=\"color: #008000; text-decoration-color: #008000\">\"function\"</span>: <span style=\"font-weight: bold\">{</span>                                                                                         \n",
       "               <span style=\"color: #008000; text-decoration-color: #008000\">\"name\"</span>: <span style=\"color: #008000; text-decoration-color: #008000\">\"list_files\"</span>,                                                                               \n",
       "               <span style=\"color: #008000; text-decoration-color: #008000\">\"arguments\"</span>: <span style=\"color: #008000; text-decoration-color: #008000\">\"{\\\"directory\\\": \\\"../data/input\\\"}\"</span>                                                   \n",
       "             <span style=\"font-weight: bold\">}</span>                                                                                                     \n",
       "           <span style=\"font-weight: bold\">}</span>,                                                                                                      \n",
       "           <span style=\"font-weight: bold\">{</span>                                                                                                       \n",
       "             <span style=\"color: #008000; text-decoration-color: #008000\">\"type\"</span>: <span style=\"color: #008000; text-decoration-color: #008000\">\"function\"</span>,                                                                                   \n",
       "             <span style=\"color: #008000; text-decoration-color: #008000\">\"function\"</span>: <span style=\"font-weight: bold\">{</span>                                                                                         \n",
       "               <span style=\"color: #008000; text-decoration-color: #008000\">\"name\"</span>: <span style=\"color: #008000; text-decoration-color: #008000\">\"read_file\"</span>,                                                                                \n",
       "               <span style=\"color: #008000; text-decoration-color: #008000\">\"arguments\"</span>: <span style=\"color: #008000; text-decoration-color: #008000\">\"{\\\"file_name\\\": \\\"../data/input/introduction_to_programming.pdf\\\"}\"</span>                   \n",
       "             <span style=\"font-weight: bold\">}</span>                                                                                                     \n",
       "           <span style=\"font-weight: bold\">}</span>                                                                                                       \n",
       "         <span style=\"font-weight: bold\">]</span>                                                                                                         \n",
       "</pre>\n"
      ],
      "text/plain": [
       "\u001b[32mDEBUG   \u001b[0m Tool Calls: \u001b[1m[\u001b[0m                                                                                             \n",
       "           \u001b[1m{\u001b[0m                                                                                                       \n",
       "             \u001b[32m\"type\"\u001b[0m: \u001b[32m\"function\"\u001b[0m,                                                                                   \n",
       "             \u001b[32m\"function\"\u001b[0m: \u001b[1m{\u001b[0m                                                                                         \n",
       "               \u001b[32m\"name\"\u001b[0m: \u001b[32m\"list_files\"\u001b[0m,                                                                               \n",
       "               \u001b[32m\"arguments\"\u001b[0m: \u001b[32m\"\u001b[0m\u001b[32m{\u001b[0m\u001b[32m\\\"directory\\\": \\\"../data/input\\\"\u001b[0m\u001b[32m}\u001b[0m\u001b[32m\"\u001b[0m                                                   \n",
       "             \u001b[1m}\u001b[0m                                                                                                     \n",
       "           \u001b[1m}\u001b[0m,                                                                                                      \n",
       "           \u001b[1m{\u001b[0m                                                                                                       \n",
       "             \u001b[32m\"type\"\u001b[0m: \u001b[32m\"function\"\u001b[0m,                                                                                   \n",
       "             \u001b[32m\"function\"\u001b[0m: \u001b[1m{\u001b[0m                                                                                         \n",
       "               \u001b[32m\"name\"\u001b[0m: \u001b[32m\"read_file\"\u001b[0m,                                                                                \n",
       "               \u001b[32m\"arguments\"\u001b[0m: \u001b[32m\"\u001b[0m\u001b[32m{\u001b[0m\u001b[32m\\\"file_name\\\": \\\"../data/input/introduction_to_programming.pdf\\\"\u001b[0m\u001b[32m}\u001b[0m\u001b[32m\"\u001b[0m                   \n",
       "             \u001b[1m}\u001b[0m                                                                                                     \n",
       "           \u001b[1m}\u001b[0m                                                                                                       \n",
       "         \u001b[1m]\u001b[0m                                                                                                         \n"
      ]
     },
     "metadata": {},
     "output_type": "display_data"
    },
    {
     "data": {
      "text/html": [
       "<pre style=\"white-space:pre;overflow-x:auto;line-height:normal;font-family:Menlo,'DejaVu Sans Mono',consolas,'Courier New',monospace\"><span style=\"color: #008000; text-decoration-color: #008000\">DEBUG   </span> **************** METRICS ****************                                                                 \n",
       "</pre>\n"
      ],
      "text/plain": [
       "\u001b[32mDEBUG   \u001b[0m **************** METRICS ****************                                                                 \n"
      ]
     },
     "metadata": {},
     "output_type": "display_data"
    },
    {
     "data": {
      "text/html": [
       "<pre style=\"white-space:pre;overflow-x:auto;line-height:normal;font-family:Menlo,'DejaVu Sans Mono',consolas,'Courier New',monospace\"><span style=\"color: #008000; text-decoration-color: #008000\">DEBUG   </span> * Input tokens:                <span style=\"color: #008080; text-decoration-color: #008080; font-weight: bold\">762</span>                                                                        \n",
       "</pre>\n"
      ],
      "text/plain": [
       "\u001b[32mDEBUG   \u001b[0m * Input tokens:                \u001b[1;36m762\u001b[0m                                                                        \n"
      ]
     },
     "metadata": {},
     "output_type": "display_data"
    },
    {
     "data": {
      "text/html": [
       "<pre style=\"white-space:pre;overflow-x:auto;line-height:normal;font-family:Menlo,'DejaVu Sans Mono',consolas,'Courier New',monospace\"><span style=\"color: #008000; text-decoration-color: #008000\">DEBUG   </span> * Output tokens:               <span style=\"color: #008080; text-decoration-color: #008080; font-weight: bold\">317</span>                                                                        \n",
       "</pre>\n"
      ],
      "text/plain": [
       "\u001b[32mDEBUG   \u001b[0m * Output tokens:               \u001b[1;36m317\u001b[0m                                                                        \n"
      ]
     },
     "metadata": {},
     "output_type": "display_data"
    },
    {
     "data": {
      "text/html": [
       "<pre style=\"white-space:pre;overflow-x:auto;line-height:normal;font-family:Menlo,'DejaVu Sans Mono',consolas,'Courier New',monospace\"><span style=\"color: #008000; text-decoration-color: #008000\">DEBUG   </span> * Total tokens:                <span style=\"color: #008080; text-decoration-color: #008080; font-weight: bold\">1079</span>                                                                       \n",
       "</pre>\n"
      ],
      "text/plain": [
       "\u001b[32mDEBUG   \u001b[0m * Total tokens:                \u001b[1;36m1079\u001b[0m                                                                       \n"
      ]
     },
     "metadata": {},
     "output_type": "display_data"
    },
    {
     "data": {
      "text/html": [
       "<pre style=\"white-space:pre;overflow-x:auto;line-height:normal;font-family:Menlo,'DejaVu Sans Mono',consolas,'Courier New',monospace\"><span style=\"color: #008000; text-decoration-color: #008000\">DEBUG   </span> * Time:                        <span style=\"color: #008080; text-decoration-color: #008080; font-weight: bold\">216.</span>0040s                                                                  \n",
       "</pre>\n"
      ],
      "text/plain": [
       "\u001b[32mDEBUG   \u001b[0m * Time:                        \u001b[1;36m216.\u001b[0m0040s                                                                  \n"
      ]
     },
     "metadata": {},
     "output_type": "display_data"
    },
    {
     "data": {
      "text/html": [
       "<pre style=\"white-space:pre;overflow-x:auto;line-height:normal;font-family:Menlo,'DejaVu Sans Mono',consolas,'Courier New',monospace\"><span style=\"color: #008000; text-decoration-color: #008000\">DEBUG   </span> * Tokens per second:           <span style=\"color: #008080; text-decoration-color: #008080; font-weight: bold\">1.4676</span> tokens/s                                                            \n",
       "</pre>\n"
      ],
      "text/plain": [
       "\u001b[32mDEBUG   \u001b[0m * Tokens per second:           \u001b[1;36m1.4676\u001b[0m tokens/s                                                            \n"
      ]
     },
     "metadata": {},
     "output_type": "display_data"
    },
    {
     "data": {
      "text/html": [
       "<pre style=\"white-space:pre;overflow-x:auto;line-height:normal;font-family:Menlo,'DejaVu Sans Mono',consolas,'Courier New',monospace\"><span style=\"color: #008000; text-decoration-color: #008000\">DEBUG   </span> * Additional metrics:          <span style=\"font-weight: bold\">{</span><span style=\"color: #008000; text-decoration-color: #008000\">'total_duration'</span>: <span style=\"color: #008080; text-decoration-color: #008080; font-weight: bold\">215988634100</span>, <span style=\"color: #008000; text-decoration-color: #008000\">'load_duration'</span>: <span style=\"color: #008080; text-decoration-color: #008080; font-weight: bold\">50821300</span>,                \n",
       "         <span style=\"color: #008000; text-decoration-color: #008000\">'prompt_eval_duration'</span>: <span style=\"color: #008080; text-decoration-color: #008080; font-weight: bold\">121237000000</span>, <span style=\"color: #008000; text-decoration-color: #008000\">'eval_duration'</span>: <span style=\"color: #008080; text-decoration-color: #008080; font-weight: bold\">94679000000</span><span style=\"font-weight: bold\">}</span>                                       \n",
       "</pre>\n"
      ],
      "text/plain": [
       "\u001b[32mDEBUG   \u001b[0m * Additional metrics:          \u001b[1m{\u001b[0m\u001b[32m'total_duration'\u001b[0m: \u001b[1;36m215988634100\u001b[0m, \u001b[32m'load_duration'\u001b[0m: \u001b[1;36m50821300\u001b[0m,                \n",
       "         \u001b[32m'prompt_eval_duration'\u001b[0m: \u001b[1;36m121237000000\u001b[0m, \u001b[32m'eval_duration'\u001b[0m: \u001b[1;36m94679000000\u001b[0m\u001b[1m}\u001b[0m                                       \n"
      ]
     },
     "metadata": {},
     "output_type": "display_data"
    },
    {
     "data": {
      "text/html": [
       "<pre style=\"white-space:pre;overflow-x:auto;line-height:normal;font-family:Menlo,'DejaVu Sans Mono',consolas,'Courier New',monospace\"><span style=\"color: #008000; text-decoration-color: #008000\">DEBUG   </span> **************** METRICS ******************                                                               \n",
       "</pre>\n"
      ],
      "text/plain": [
       "\u001b[32mDEBUG   \u001b[0m **************** METRICS ******************                                                               \n"
      ]
     },
     "metadata": {},
     "output_type": "display_data"
    },
    {
     "data": {
      "text/html": [
       "<pre style=\"white-space:pre;overflow-x:auto;line-height:normal;font-family:Menlo,'DejaVu Sans Mono',consolas,'Courier New',monospace\"><span style=\"color: #008000; text-decoration-color: #008000\">DEBUG   </span> ============== tool ==============                                                                        \n",
       "</pre>\n"
      ],
      "text/plain": [
       "\u001b[32mDEBUG   \u001b[0m ============== tool ==============                                                                        \n"
      ]
     },
     "metadata": {},
     "output_type": "display_data"
    },
    {
     "data": {
      "text/html": [
       "<pre style=\"white-space:pre;overflow-x:auto;line-height:normal;font-family:Menlo,'DejaVu Sans Mono',consolas,'Courier New',monospace\"><span style=\"color: #008000; text-decoration-color: #008000\">DEBUG   </span> <span style=\"color: #008080; text-decoration-color: #008080; font-weight: bold\">1</span> validation error for FileTools.list_files                                                               \n",
       "         directory                                                                                                 \n",
       "           Unexpected keyword argument <span style=\"font-weight: bold\">[</span><span style=\"color: #808000; text-decoration-color: #808000\">type</span>=<span style=\"color: #800080; text-decoration-color: #800080\">unexpected_keyword_argument</span>, <span style=\"color: #808000; text-decoration-color: #808000\">input_value</span>=<span style=\"color: #008000; text-decoration-color: #008000\">'../data/input'</span>,             \n",
       "         <span style=\"color: #808000; text-decoration-color: #808000\">input_type</span>=<span style=\"color: #800080; text-decoration-color: #800080\">str</span><span style=\"font-weight: bold\">]</span>                                                                                           \n",
       "             For further information visit <span style=\"color: #0000ff; text-decoration-color: #0000ff; text-decoration: underline\">https://errors.pydantic.dev/2.10/v/unexpected_keyword_argument</span>          \n",
       "</pre>\n"
      ],
      "text/plain": [
       "\u001b[32mDEBUG   \u001b[0m \u001b[1;36m1\u001b[0m validation error for FileTools.list_files                                                               \n",
       "         directory                                                                                                 \n",
       "           Unexpected keyword argument \u001b[1m[\u001b[0m\u001b[33mtype\u001b[0m=\u001b[35munexpected_keyword_argument\u001b[0m, \u001b[33minput_value\u001b[0m=\u001b[32m'../data/input'\u001b[0m,             \n",
       "         \u001b[33minput_type\u001b[0m=\u001b[35mstr\u001b[0m\u001b[1m]\u001b[0m                                                                                           \n",
       "             For further information visit \u001b[4;94mhttps://errors.pydantic.dev/2.10/v/unexpected_keyword_argument\u001b[0m          \n"
      ]
     },
     "metadata": {},
     "output_type": "display_data"
    },
    {
     "data": {
      "text/html": [
       "<pre style=\"white-space:pre;overflow-x:auto;line-height:normal;font-family:Menlo,'DejaVu Sans Mono',consolas,'Courier New',monospace\"><span style=\"color: #008000; text-decoration-color: #008000\">DEBUG   </span> **************** METRICS ****************                                                                 \n",
       "</pre>\n"
      ],
      "text/plain": [
       "\u001b[32mDEBUG   \u001b[0m **************** METRICS ****************                                                                 \n"
      ]
     },
     "metadata": {},
     "output_type": "display_data"
    },
    {
     "data": {
      "text/html": [
       "<pre style=\"white-space:pre;overflow-x:auto;line-height:normal;font-family:Menlo,'DejaVu Sans Mono',consolas,'Courier New',monospace\"><span style=\"color: #008000; text-decoration-color: #008000\">DEBUG   </span> * Time:                        <span style=\"color: #008080; text-decoration-color: #008080; font-weight: bold\">0.</span>0228s                                                                    \n",
       "</pre>\n"
      ],
      "text/plain": [
       "\u001b[32mDEBUG   \u001b[0m * Time:                        \u001b[1;36m0.\u001b[0m0228s                                                                    \n"
      ]
     },
     "metadata": {},
     "output_type": "display_data"
    },
    {
     "data": {
      "text/html": [
       "<pre style=\"white-space:pre;overflow-x:auto;line-height:normal;font-family:Menlo,'DejaVu Sans Mono',consolas,'Courier New',monospace\"><span style=\"color: #008000; text-decoration-color: #008000\">DEBUG   </span> **************** METRICS ******************                                                               \n",
       "</pre>\n"
      ],
      "text/plain": [
       "\u001b[32mDEBUG   \u001b[0m **************** METRICS ******************                                                               \n"
      ]
     },
     "metadata": {},
     "output_type": "display_data"
    },
    {
     "data": {
      "text/html": [
       "<pre style=\"white-space:pre;overflow-x:auto;line-height:normal;font-family:Menlo,'DejaVu Sans Mono',consolas,'Courier New',monospace\"><span style=\"color: #008000; text-decoration-color: #008000\">DEBUG   </span> ============== tool ==============                                                                        \n",
       "</pre>\n"
      ],
      "text/plain": [
       "\u001b[32mDEBUG   \u001b[0m ============== tool ==============                                                                        \n"
      ]
     },
     "metadata": {},
     "output_type": "display_data"
    },
    {
     "data": {
      "text/html": [
       "<pre style=\"white-space:pre;overflow-x:auto;line-height:normal;font-family:Menlo,'DejaVu Sans Mono',consolas,'Courier New',monospace\"><span style=\"color: #008000; text-decoration-color: #008000\">DEBUG   </span> Error reading file: <span style=\"font-weight: bold\">[</span>Errno <span style=\"color: #008080; text-decoration-color: #008080; font-weight: bold\">2</span><span style=\"font-weight: bold\">]</span> No such file or directory: <span style=\"color: #008000; text-decoration-color: #008000\">'c:\\\\Users\\\\JUAN\\\\Documents\\\\Universidad </span>        \n",
       "         <span style=\"color: #008000; text-decoration-color: #008000\">2024-2\\\\Redes neuronales\\\\Repos\\\\Agents\\\\notebooks\\\\..\\\\data\\\\input\\\\introduction_to_programming.pdf'</span>     \n",
       "</pre>\n"
      ],
      "text/plain": [
       "\u001b[32mDEBUG   \u001b[0m Error reading file: \u001b[1m[\u001b[0mErrno \u001b[1;36m2\u001b[0m\u001b[1m]\u001b[0m No such file or directory: \u001b[32m'c:\\\\Users\\\\JUAN\\\\Documents\\\\Universidad \u001b[0m        \n",
       "         \u001b[32m2024-2\\\\Redes neuronales\\\\Repos\\\\Agents\\\\notebooks\\\\..\\\\data\\\\input\\\\introduction_to_programming.pdf'\u001b[0m     \n"
      ]
     },
     "metadata": {},
     "output_type": "display_data"
    },
    {
     "data": {
      "text/html": [
       "<pre style=\"white-space:pre;overflow-x:auto;line-height:normal;font-family:Menlo,'DejaVu Sans Mono',consolas,'Courier New',monospace\"><span style=\"color: #008000; text-decoration-color: #008000\">DEBUG   </span> **************** METRICS ****************                                                                 \n",
       "</pre>\n"
      ],
      "text/plain": [
       "\u001b[32mDEBUG   \u001b[0m **************** METRICS ****************                                                                 \n"
      ]
     },
     "metadata": {},
     "output_type": "display_data"
    },
    {
     "data": {
      "text/html": [
       "<pre style=\"white-space:pre;overflow-x:auto;line-height:normal;font-family:Menlo,'DejaVu Sans Mono',consolas,'Courier New',monospace\"><span style=\"color: #008000; text-decoration-color: #008000\">DEBUG   </span> * Time:                        <span style=\"color: #008080; text-decoration-color: #008080; font-weight: bold\">0.</span>0091s                                                                    \n",
       "</pre>\n"
      ],
      "text/plain": [
       "\u001b[32mDEBUG   \u001b[0m * Time:                        \u001b[1;36m0.\u001b[0m0091s                                                                    \n"
      ]
     },
     "metadata": {},
     "output_type": "display_data"
    },
    {
     "data": {
      "text/html": [
       "<pre style=\"white-space:pre;overflow-x:auto;line-height:normal;font-family:Menlo,'DejaVu Sans Mono',consolas,'Courier New',monospace\"><span style=\"color: #008000; text-decoration-color: #008000\">DEBUG   </span> **************** METRICS ******************                                                               \n",
       "</pre>\n"
      ],
      "text/plain": [
       "\u001b[32mDEBUG   \u001b[0m **************** METRICS ******************                                                               \n"
      ]
     },
     "metadata": {},
     "output_type": "display_data"
    }
   ],
   "source": [
    "def query(course_name: str, content_type: str, topic: str = None):\n",
    "    \n",
    "        \n",
    "    if topic:\n",
    "        request = f\"\"\"Analyze the subject '{course_name}' and identify the most relevant topics in the folder '../data/input'.\n",
    "            Based on these topics, generate a content type '{content_type}' materials about the course search and explain them.\n",
    "            Explain the topic '{topic}', provide definitions, and explain what each thing is.\n",
    "            Ensure to save the output in a file in the folder '../data/output' with a clear and descriptive filename.\"\"\"\n",
    "    else:\n",
    "        request = f\"\"\"Analyze the subject '{course_name}' and identify the most relevant topics covered in a standard syllabus.\n",
    "        Based on these topics, generate a content type '{content_type}' materials about the course search and explain them.\n",
    "        Explain each topic, provide definitions, and explain what each thing is.\n",
    "        Ensure to save the output in a file in the folder '../data/output' with a clear and descriptive filename.\"\"\"\n",
    "    return agent.print_response(\n",
    "        request,\n",
    "        markdown=True\n",
    "    )\n",
    "\n",
    "query(\"Fundamentos de programacion\", \"Lecture\", \"Variables\")"
   ]
  },
  {
   "cell_type": "code",
   "execution_count": null,
   "metadata": {},
   "outputs": [
    {
     "data": {
      "text/html": [
       "<pre style=\"white-space:pre;overflow-x:auto;line-height:normal;font-family:Menlo,'DejaVu Sans Mono',consolas,'Courier New',monospace\"><span style=\"color: #008000; text-decoration-color: #008000\">DEBUG   </span> *********** Agent ID: <span style=\"color: #ffff00; text-decoration-color: #ffff00\">db07da6e-a3fb-4ae2-a2a6-c72d120b45f1</span> ***********                                    \n",
       "</pre>\n"
      ],
      "text/plain": [
       "\u001b[32mDEBUG   \u001b[0m *********** Agent ID: \u001b[93mdb07da6e-a3fb-4ae2-a2a6-c72d120b45f1\u001b[0m ***********                                    \n"
      ]
     },
     "metadata": {},
     "output_type": "display_data"
    },
    {
     "data": {
      "text/html": [
       "<pre style=\"white-space:pre;overflow-x:auto;line-height:normal;font-family:Menlo,'DejaVu Sans Mono',consolas,'Courier New',monospace\"><span style=\"color: #008000; text-decoration-color: #008000\">DEBUG   </span> *********** Session ID: <span style=\"color: #ffff00; text-decoration-color: #ffff00\">b2c0b506-ebfe-4b87-b826-106d613586ba</span> ***********                                  \n",
       "</pre>\n"
      ],
      "text/plain": [
       "\u001b[32mDEBUG   \u001b[0m *********** Session ID: \u001b[93mb2c0b506-ebfe-4b87-b826-106d613586ba\u001b[0m ***********                                  \n"
      ]
     },
     "metadata": {},
     "output_type": "display_data"
    },
    {
     "data": {
      "text/html": [
       "<pre style=\"white-space:pre;overflow-x:auto;line-height:normal;font-family:Menlo,'DejaVu Sans Mono',consolas,'Courier New',monospace\"><span style=\"color: #008000; text-decoration-color: #008000\">DEBUG   </span> *********** Agent Run Start: <span style=\"color: #ffff00; text-decoration-color: #ffff00\">573413be-df1c-4455-86ea-bcac00746eff</span> ***********                             \n",
       "</pre>\n"
      ],
      "text/plain": [
       "\u001b[32mDEBUG   \u001b[0m *********** Agent Run Start: \u001b[93m573413be-df1c-4455-86ea-bcac00746eff\u001b[0m ***********                             \n"
      ]
     },
     "metadata": {},
     "output_type": "display_data"
    },
    {
     "data": {
      "text/html": [
       "<pre style=\"white-space:pre;overflow-x:auto;line-height:normal;font-family:Menlo,'DejaVu Sans Mono',consolas,'Courier New',monospace\"><span style=\"color: #008000; text-decoration-color: #008000\">DEBUG   </span> Time to get references: <span style=\"color: #008080; text-decoration-color: #008080; font-weight: bold\">0.</span>0000s                                                                           \n",
       "</pre>\n"
      ],
      "text/plain": [
       "\u001b[32mDEBUG   \u001b[0m Time to get references: \u001b[1;36m0.\u001b[0m0000s                                                                           \n"
      ]
     },
     "metadata": {},
     "output_type": "display_data"
    },
    {
     "data": {
      "text/html": [
       "<pre style=\"white-space:pre;overflow-x:auto;line-height:normal;font-family:Menlo,'DejaVu Sans Mono',consolas,'Courier New',monospace\"><span style=\"color: #008000; text-decoration-color: #008000\">DEBUG   </span> ---------- Ollama Response Start ----------                                                               \n",
       "</pre>\n"
      ],
      "text/plain": [
       "\u001b[32mDEBUG   \u001b[0m ---------- Ollama Response Start ----------                                                               \n"
      ]
     },
     "metadata": {},
     "output_type": "display_data"
    },
    {
     "data": {
      "text/html": [
       "<pre style=\"white-space:pre;overflow-x:auto;line-height:normal;font-family:Menlo,'DejaVu Sans Mono',consolas,'Courier New',monospace\"><span style=\"color: #008000; text-decoration-color: #008000\">DEBUG   </span> ============== system ==============                                                                      \n",
       "</pre>\n"
      ],
      "text/plain": [
       "\u001b[32mDEBUG   \u001b[0m ============== system ==============                                                                      \n"
      ]
     },
     "metadata": {},
     "output_type": "display_data"
    },
    {
     "data": {
      "text/html": [
       "<pre style=\"white-space:pre;overflow-x:auto;line-height:normal;font-family:Menlo,'DejaVu Sans Mono',consolas,'Courier New',monospace\"><span style=\"color: #008000; text-decoration-color: #008000\">DEBUG   </span> You are an academic content generation assistant. Based on the following university course syllabus,      \n",
       "         generate structured teaching materials, ensuring clarity, engagement, and alignment with best pedagogical \n",
       "         practices. This material are going to be used by a professor to teach a course in <span style=\"font-weight: bold\">[</span>subject<span style=\"font-weight: bold\">]</span>.              \n",
       "                                                                                                                   \n",
       "         <span style=\"font-weight: bold\">&lt;</span><span style=\"color: #ff00ff; text-decoration-color: #ff00ff; font-weight: bold\">instructions</span><span style=\"color: #000000; text-decoration-color: #000000\">&gt;</span>                                                                                            \n",
       "         <span style=\"color: #000000; text-decoration-color: #000000\">- List the files in the folder </span><span style=\"color: #008000; text-decoration-color: #008000\">'../data/input'</span><span style=\"color: #000000; text-decoration-color: #000000\"> and determine if one of this names is usefull for the </span>     \n",
       "         <span style=\"color: #000000; text-decoration-color: #000000\">response.</span>                                                                                                 \n",
       "         <span style=\"color: #000000; text-decoration-color: #000000\">- If one of the files is usefull, read it and use it to know the course topic, else search in internet.</span>   \n",
       "         <span style=\"color: #000000; text-decoration-color: #000000\">- If the topic is specific, ensure accuracy and up-to-date information. If it is general, prioritize </span>     \n",
       "         <span style=\"color: #000000; text-decoration-color: #000000\">relevance and engagement.</span>                                                                                 \n",
       "         <span style=\"color: #000000; text-decoration-color: #000000\">- If sufficient information is not available, search online for reliable sources before generating </span>       \n",
       "         <span style=\"color: #000000; text-decoration-color: #000000\">content.</span>                                                                                                  \n",
       "         <span style=\"color: #000000; text-decoration-color: #000000\">- Follow these guidelines based on the content type:</span>                                                      \n",
       "         <span style=\"color: #000000; text-decoration-color: #000000\">- - Exam: Generate a set of </span><span style=\"color: #008080; text-decoration-color: #008080; font-weight: bold\">5</span><span style=\"color: #000000; text-decoration-color: #000000\"> to </span><span style=\"color: #008080; text-decoration-color: #008080; font-weight: bold\">10</span><span style=\"color: #000000; text-decoration-color: #000000\"> exam questions with detailed solutions.</span>                               \n",
       "         <span style=\"color: #000000; text-decoration-color: #000000\">- - Lecture: Create a structured lecture outline with at least </span><span style=\"color: #008080; text-decoration-color: #008080; font-weight: bold\">5</span><span style=\"color: #000000; text-decoration-color: #000000\"> sections covering key concepts.</span>          \n",
       "         <span style=\"color: #000000; text-decoration-color: #000000\">- - Workshop: Develop a workshop plan with at least </span><span style=\"color: #008080; text-decoration-color: #008080; font-weight: bold\">5</span><span style=\"color: #000000; text-decoration-color: #000000\"> sections, including practical examples and </span>         \n",
       "         <span style=\"color: #000000; text-decoration-color: #000000\">exercises.</span>                                                                                                \n",
       "         <span style=\"color: #000000; text-decoration-color: #000000\">- Ensure clarity, coherence, and academic rigor in all content.</span>                                           \n",
       "         <span style=\"color: #000000; text-decoration-color: #000000\">- Deliver the content in a professional and engaging manner.</span>                                              \n",
       "         <span style=\"color: #000000; text-decoration-color: #000000\">&lt;</span><span style=\"color: #800080; text-decoration-color: #800080\">/</span><span style=\"color: #ff00ff; text-decoration-color: #ff00ff\">instructions</span><span style=\"color: #000000; text-decoration-color: #000000\">&gt;</span>                                                                                           \n",
       "                                                                                                                   \n",
       "         <span style=\"color: #000000; text-decoration-color: #000000\">&lt;additional_information&gt;</span>                                                                                  \n",
       "         <span style=\"color: #000000; text-decoration-color: #000000\">- Use markdown to format your answers.</span>                                                                    \n",
       "         <span style=\"color: #000000; text-decoration-color: #000000\">&lt;</span><span style=\"color: #800080; text-decoration-color: #800080\">/</span><span style=\"color: #ff00ff; text-decoration-color: #ff00ff\">additional_information</span><span style=\"font-weight: bold\">&gt;</span>                                                                                 \n",
       "</pre>\n"
      ],
      "text/plain": [
       "\u001b[32mDEBUG   \u001b[0m You are an academic content generation assistant. Based on the following university course syllabus,      \n",
       "         generate structured teaching materials, ensuring clarity, engagement, and alignment with best pedagogical \n",
       "         practices. This material are going to be used by a professor to teach a course in \u001b[1m[\u001b[0msubject\u001b[1m]\u001b[0m.              \n",
       "                                                                                                                   \n",
       "         \u001b[1m<\u001b[0m\u001b[1;95minstructions\u001b[0m\u001b[39m>\u001b[0m                                                                                            \n",
       "         \u001b[39m- List the files in the folder \u001b[0m\u001b[32m'../data/input'\u001b[0m\u001b[39m and determine if one of this names is usefull for the \u001b[0m     \n",
       "         \u001b[39mresponse.\u001b[0m                                                                                                 \n",
       "         \u001b[39m- If one of the files is usefull, read it and use it to know the course topic, else search in internet.\u001b[0m   \n",
       "         \u001b[39m- If the topic is specific, ensure accuracy and up-to-date information. If it is general, prioritize \u001b[0m     \n",
       "         \u001b[39mrelevance and engagement.\u001b[0m                                                                                 \n",
       "         \u001b[39m- If sufficient information is not available, search online for reliable sources before generating \u001b[0m       \n",
       "         \u001b[39mcontent.\u001b[0m                                                                                                  \n",
       "         \u001b[39m- Follow these guidelines based on the content type:\u001b[0m                                                      \n",
       "         \u001b[39m- - Exam: Generate a set of \u001b[0m\u001b[1;36m5\u001b[0m\u001b[39m to \u001b[0m\u001b[1;36m10\u001b[0m\u001b[39m exam questions with detailed solutions.\u001b[0m                               \n",
       "         \u001b[39m- - Lecture: Create a structured lecture outline with at least \u001b[0m\u001b[1;36m5\u001b[0m\u001b[39m sections covering key concepts.\u001b[0m          \n",
       "         \u001b[39m- - Workshop: Develop a workshop plan with at least \u001b[0m\u001b[1;36m5\u001b[0m\u001b[39m sections, including practical examples and \u001b[0m         \n",
       "         \u001b[39mexercises.\u001b[0m                                                                                                \n",
       "         \u001b[39m- Ensure clarity, coherence, and academic rigor in all content.\u001b[0m                                           \n",
       "         \u001b[39m- Deliver the content in a professional and engaging manner.\u001b[0m                                              \n",
       "         \u001b[39m<\u001b[0m\u001b[35m/\u001b[0m\u001b[95minstructions\u001b[0m\u001b[39m>\u001b[0m                                                                                           \n",
       "                                                                                                                   \n",
       "         \u001b[39m<additional_information>\u001b[0m                                                                                  \n",
       "         \u001b[39m- Use markdown to format your answers.\u001b[0m                                                                    \n",
       "         \u001b[39m<\u001b[0m\u001b[35m/\u001b[0m\u001b[95madditional_information\u001b[0m\u001b[1m>\u001b[0m                                                                                 \n"
      ]
     },
     "metadata": {},
     "output_type": "display_data"
    },
    {
     "data": {
      "text/html": [
       "<pre style=\"white-space:pre;overflow-x:auto;line-height:normal;font-family:Menlo,'DejaVu Sans Mono',consolas,'Courier New',monospace\"><span style=\"color: #008000; text-decoration-color: #008000\">DEBUG   </span> ============== user ==============                                                                        \n",
       "</pre>\n"
      ],
      "text/plain": [
       "\u001b[32mDEBUG   \u001b[0m ============== user ==============                                                                        \n"
      ]
     },
     "metadata": {},
     "output_type": "display_data"
    },
    {
     "data": {
      "text/html": [
       "<pre style=\"white-space:pre;overflow-x:auto;line-height:normal;font-family:Menlo,'DejaVu Sans Mono',consolas,'Courier New',monospace\"><span style=\"color: #008000; text-decoration-color: #008000\">DEBUG   </span> Analyze the subject <span style=\"color: #008000; text-decoration-color: #008000\">'Fundamentos de programacion'</span> and identify the most relevant topics in the folder     \n",
       "         <span style=\"color: #008000; text-decoration-color: #008000\">'../data/input'</span>.                                                                                          \n",
       "                     Based on these topics, generate a content type <span style=\"color: #008000; text-decoration-color: #008000\">'Notas de clase'</span> materials about the course    \n",
       "         search and explain them.                                                                                  \n",
       "                     Explain the topic <span style=\"color: #008000; text-decoration-color: #008000\">'Python'</span>, provide definitions, and explain what each thing is.              \n",
       "                     Ensure to save the output in a file in the folder <span style=\"color: #008000; text-decoration-color: #008000\">'../data/output'</span> with a clear and           \n",
       "         descriptive filename.                                                                                     \n",
       "</pre>\n"
      ],
      "text/plain": [
       "\u001b[32mDEBUG   \u001b[0m Analyze the subject \u001b[32m'Fundamentos de programacion'\u001b[0m and identify the most relevant topics in the folder     \n",
       "         \u001b[32m'../data/input'\u001b[0m.                                                                                          \n",
       "                     Based on these topics, generate a content type \u001b[32m'Notas de clase'\u001b[0m materials about the course    \n",
       "         search and explain them.                                                                                  \n",
       "                     Explain the topic \u001b[32m'Python'\u001b[0m, provide definitions, and explain what each thing is.              \n",
       "                     Ensure to save the output in a file in the folder \u001b[32m'../data/output'\u001b[0m with a clear and           \n",
       "         descriptive filename.                                                                                     \n"
      ]
     },
     "metadata": {},
     "output_type": "display_data"
    },
    {
     "data": {
      "application/vnd.jupyter.widget-view+json": {
       "model_id": "a2b21136f89b4c03ac5abdecec42db40",
       "version_major": 2,
       "version_minor": 0
      },
      "text/plain": [
       "Output()"
      ]
     },
     "metadata": {},
     "output_type": "display_data"
    },
    {
     "data": {
      "text/html": [
       "<pre style=\"white-space:pre;overflow-x:auto;line-height:normal;font-family:Menlo,'DejaVu Sans Mono',consolas,'Courier New',monospace\"><span style=\"color: #008000; text-decoration-color: #008000\">DEBUG   </span> ============== assistant ==============                                                                   \n",
       "</pre>\n"
      ],
      "text/plain": [
       "\u001b[32mDEBUG   \u001b[0m ============== assistant ==============                                                                   \n"
      ]
     },
     "metadata": {},
     "output_type": "display_data"
    },
    {
     "data": {
      "text/html": [
       "<pre style=\"white-space:pre;overflow-x:auto;line-height:normal;font-family:Menlo,'DejaVu Sans Mono',consolas,'Courier New',monospace\"><span style=\"color: #008000; text-decoration-color: #008000\">DEBUG   </span> Tool Calls: <span style=\"font-weight: bold\">[</span>                                                                                             \n",
       "           <span style=\"font-weight: bold\">{</span>                                                                                                       \n",
       "             <span style=\"color: #008000; text-decoration-color: #008000\">\"type\"</span>: <span style=\"color: #008000; text-decoration-color: #008000\">\"function\"</span>,                                                                                   \n",
       "             <span style=\"color: #008000; text-decoration-color: #008000\">\"function\"</span>: <span style=\"font-weight: bold\">{</span>                                                                                         \n",
       "               <span style=\"color: #008000; text-decoration-color: #008000\">\"name\"</span>: <span style=\"color: #008000; text-decoration-color: #008000\">\"list_files\"</span>,                                                                               \n",
       "               <span style=\"color: #008000; text-decoration-color: #008000\">\"arguments\"</span>: <span style=\"color: #008000; text-decoration-color: #008000\">\"{\\\"path\\\": \\\"../data/input\\\"}\"</span>                                                        \n",
       "             <span style=\"font-weight: bold\">}</span>                                                                                                     \n",
       "           <span style=\"font-weight: bold\">}</span>,                                                                                                      \n",
       "           <span style=\"font-weight: bold\">{</span>                                                                                                       \n",
       "             <span style=\"color: #008000; text-decoration-color: #008000\">\"type\"</span>: <span style=\"color: #008000; text-decoration-color: #008000\">\"function\"</span>,                                                                                   \n",
       "             <span style=\"color: #008000; text-decoration-color: #008000\">\"function\"</span>: <span style=\"font-weight: bold\">{</span>                                                                                         \n",
       "               <span style=\"color: #008000; text-decoration-color: #008000\">\"name\"</span>: <span style=\"color: #008000; text-decoration-color: #008000\">\"read_file\"</span>,                                                                                \n",
       "               <span style=\"color: #008000; text-decoration-color: #008000\">\"arguments\"</span>: <span style=\"color: #008000; text-decoration-color: #008000\">\"{\\\"file_name\\\": \\\"../data/input/programacion_basica.md\\\"}\"</span>                            \n",
       "             <span style=\"font-weight: bold\">}</span>                                                                                                     \n",
       "           <span style=\"font-weight: bold\">}</span>,                                                                                                      \n",
       "           <span style=\"font-weight: bold\">{</span>                                                                                                       \n",
       "             <span style=\"color: #008000; text-decoration-color: #008000\">\"type\"</span>: <span style=\"color: #008000; text-decoration-color: #008000\">\"function\"</span>,                                                                                   \n",
       "             <span style=\"color: #008000; text-decoration-color: #008000\">\"function\"</span>: <span style=\"font-weight: bold\">{</span>                                                                                         \n",
       "               <span style=\"color: #008000; text-decoration-color: #008000\">\"name\"</span>: <span style=\"color: #008000; text-decoration-color: #008000\">\"duckduckgo_search\"</span>,                                                                        \n",
       "               <span style=\"color: #008000; text-decoration-color: #008000\">\"arguments\"</span>: <span style=\"color: #008000; text-decoration-color: #008000\">\"{\\\"max_results\\\": 10, \\\"query\\\": \\\"fundamentos de programacion\\\"}\"</span>                    \n",
       "             <span style=\"font-weight: bold\">}</span>                                                                                                     \n",
       "           <span style=\"font-weight: bold\">}</span>,                                                                                                      \n",
       "           <span style=\"font-weight: bold\">{</span>                                                                                                       \n",
       "             <span style=\"color: #008000; text-decoration-color: #008000\">\"type\"</span>: <span style=\"color: #008000; text-decoration-color: #008000\">\"function\"</span>,                                                                                   \n",
       "             <span style=\"color: #008000; text-decoration-color: #008000\">\"function\"</span>: <span style=\"font-weight: bold\">{</span>                                                                                         \n",
       "               <span style=\"color: #008000; text-decoration-color: #008000\">\"name\"</span>: <span style=\"color: #008000; text-decoration-color: #008000\">\"save_file\"</span>,                                                                                \n",
       "               <span style=\"color: #008000; text-decoration-color: #008000\">\"arguments\"</span>: <span style=\"color: #008000; text-decoration-color: #008000\">\"{\\\"contents\\\": \\\"Notas de clase: Fundamentos de programacion\\\", \\\"file_name\\\": </span>       \n",
       "         <span style=\"color: #008000; text-decoration-color: #008000\">\\\"../data/output/notas_de_clase_fundamentos_programacion.md\\\"}\"</span>                                           \n",
       "             <span style=\"font-weight: bold\">}</span>                                                                                                     \n",
       "           <span style=\"font-weight: bold\">}</span>                                                                                                       \n",
       "         <span style=\"font-weight: bold\">]</span>                                                                                                         \n",
       "</pre>\n"
      ],
      "text/plain": [
       "\u001b[32mDEBUG   \u001b[0m Tool Calls: \u001b[1m[\u001b[0m                                                                                             \n",
       "           \u001b[1m{\u001b[0m                                                                                                       \n",
       "             \u001b[32m\"type\"\u001b[0m: \u001b[32m\"function\"\u001b[0m,                                                                                   \n",
       "             \u001b[32m\"function\"\u001b[0m: \u001b[1m{\u001b[0m                                                                                         \n",
       "               \u001b[32m\"name\"\u001b[0m: \u001b[32m\"list_files\"\u001b[0m,                                                                               \n",
       "               \u001b[32m\"arguments\"\u001b[0m: \u001b[32m\"\u001b[0m\u001b[32m{\u001b[0m\u001b[32m\\\"path\\\": \\\"../data/input\\\"\u001b[0m\u001b[32m}\u001b[0m\u001b[32m\"\u001b[0m                                                        \n",
       "             \u001b[1m}\u001b[0m                                                                                                     \n",
       "           \u001b[1m}\u001b[0m,                                                                                                      \n",
       "           \u001b[1m{\u001b[0m                                                                                                       \n",
       "             \u001b[32m\"type\"\u001b[0m: \u001b[32m\"function\"\u001b[0m,                                                                                   \n",
       "             \u001b[32m\"function\"\u001b[0m: \u001b[1m{\u001b[0m                                                                                         \n",
       "               \u001b[32m\"name\"\u001b[0m: \u001b[32m\"read_file\"\u001b[0m,                                                                                \n",
       "               \u001b[32m\"arguments\"\u001b[0m: \u001b[32m\"\u001b[0m\u001b[32m{\u001b[0m\u001b[32m\\\"file_name\\\": \\\"../data/input/programacion_basica.md\\\"\u001b[0m\u001b[32m}\u001b[0m\u001b[32m\"\u001b[0m                            \n",
       "             \u001b[1m}\u001b[0m                                                                                                     \n",
       "           \u001b[1m}\u001b[0m,                                                                                                      \n",
       "           \u001b[1m{\u001b[0m                                                                                                       \n",
       "             \u001b[32m\"type\"\u001b[0m: \u001b[32m\"function\"\u001b[0m,                                                                                   \n",
       "             \u001b[32m\"function\"\u001b[0m: \u001b[1m{\u001b[0m                                                                                         \n",
       "               \u001b[32m\"name\"\u001b[0m: \u001b[32m\"duckduckgo_search\"\u001b[0m,                                                                        \n",
       "               \u001b[32m\"arguments\"\u001b[0m: \u001b[32m\"\u001b[0m\u001b[32m{\u001b[0m\u001b[32m\\\"max_results\\\": 10, \\\"query\\\": \\\"fundamentos de programacion\\\"\u001b[0m\u001b[32m}\u001b[0m\u001b[32m\"\u001b[0m                    \n",
       "             \u001b[1m}\u001b[0m                                                                                                     \n",
       "           \u001b[1m}\u001b[0m,                                                                                                      \n",
       "           \u001b[1m{\u001b[0m                                                                                                       \n",
       "             \u001b[32m\"type\"\u001b[0m: \u001b[32m\"function\"\u001b[0m,                                                                                   \n",
       "             \u001b[32m\"function\"\u001b[0m: \u001b[1m{\u001b[0m                                                                                         \n",
       "               \u001b[32m\"name\"\u001b[0m: \u001b[32m\"save_file\"\u001b[0m,                                                                                \n",
       "               \u001b[32m\"arguments\"\u001b[0m: \u001b[32m\"\u001b[0m\u001b[32m{\u001b[0m\u001b[32m\\\"contents\\\": \\\"Notas de clase: Fundamentos de programacion\\\", \\\"file_name\\\": \u001b[0m       \n",
       "         \u001b[32m\\\"../data/output/notas_de_clase_fundamentos_programacion.md\\\"\u001b[0m\u001b[32m}\u001b[0m\u001b[32m\"\u001b[0m                                           \n",
       "             \u001b[1m}\u001b[0m                                                                                                     \n",
       "           \u001b[1m}\u001b[0m                                                                                                       \n",
       "         \u001b[1m]\u001b[0m                                                                                                         \n"
      ]
     },
     "metadata": {},
     "output_type": "display_data"
    },
    {
     "data": {
      "text/html": [
       "<pre style=\"white-space:pre;overflow-x:auto;line-height:normal;font-family:Menlo,'DejaVu Sans Mono',consolas,'Courier New',monospace\"><span style=\"color: #008000; text-decoration-color: #008000\">DEBUG   </span> **************** METRICS ****************                                                                 \n",
       "</pre>\n"
      ],
      "text/plain": [
       "\u001b[32mDEBUG   \u001b[0m **************** METRICS ****************                                                                 \n"
      ]
     },
     "metadata": {},
     "output_type": "display_data"
    },
    {
     "data": {
      "text/html": [
       "<pre style=\"white-space:pre;overflow-x:auto;line-height:normal;font-family:Menlo,'DejaVu Sans Mono',consolas,'Courier New',monospace\"><span style=\"color: #008000; text-decoration-color: #008000\">DEBUG   </span> * Input tokens:                <span style=\"color: #008080; text-decoration-color: #008080; font-weight: bold\">764</span>                                                                        \n",
       "</pre>\n"
      ],
      "text/plain": [
       "\u001b[32mDEBUG   \u001b[0m * Input tokens:                \u001b[1;36m764\u001b[0m                                                                        \n"
      ]
     },
     "metadata": {},
     "output_type": "display_data"
    },
    {
     "data": {
      "text/html": [
       "<pre style=\"white-space:pre;overflow-x:auto;line-height:normal;font-family:Menlo,'DejaVu Sans Mono',consolas,'Courier New',monospace\"><span style=\"color: #008000; text-decoration-color: #008000\">DEBUG   </span> * Output tokens:               <span style=\"color: #008080; text-decoration-color: #008080; font-weight: bold\">781</span>                                                                        \n",
       "</pre>\n"
      ],
      "text/plain": [
       "\u001b[32mDEBUG   \u001b[0m * Output tokens:               \u001b[1;36m781\u001b[0m                                                                        \n"
      ]
     },
     "metadata": {},
     "output_type": "display_data"
    },
    {
     "data": {
      "text/html": [
       "<pre style=\"white-space:pre;overflow-x:auto;line-height:normal;font-family:Menlo,'DejaVu Sans Mono',consolas,'Courier New',monospace\"><span style=\"color: #008000; text-decoration-color: #008000\">DEBUG   </span> * Total tokens:                <span style=\"color: #008080; text-decoration-color: #008080; font-weight: bold\">1545</span>                                                                       \n",
       "</pre>\n"
      ],
      "text/plain": [
       "\u001b[32mDEBUG   \u001b[0m * Total tokens:                \u001b[1;36m1545\u001b[0m                                                                       \n"
      ]
     },
     "metadata": {},
     "output_type": "display_data"
    },
    {
     "data": {
      "text/html": [
       "<pre style=\"white-space:pre;overflow-x:auto;line-height:normal;font-family:Menlo,'DejaVu Sans Mono',consolas,'Courier New',monospace\"><span style=\"color: #008000; text-decoration-color: #008000\">DEBUG   </span> * Time:                        <span style=\"color: #008080; text-decoration-color: #008080; font-weight: bold\">348.</span>2346s                                                                  \n",
       "</pre>\n"
      ],
      "text/plain": [
       "\u001b[32mDEBUG   \u001b[0m * Time:                        \u001b[1;36m348.\u001b[0m2346s                                                                  \n"
      ]
     },
     "metadata": {},
     "output_type": "display_data"
    },
    {
     "data": {
      "text/html": [
       "<pre style=\"white-space:pre;overflow-x:auto;line-height:normal;font-family:Menlo,'DejaVu Sans Mono',consolas,'Courier New',monospace\"><span style=\"color: #008000; text-decoration-color: #008000\">DEBUG   </span> * Tokens per second:           <span style=\"color: #008080; text-decoration-color: #008080; font-weight: bold\">2.2427</span> tokens/s                                                            \n",
       "</pre>\n"
      ],
      "text/plain": [
       "\u001b[32mDEBUG   \u001b[0m * Tokens per second:           \u001b[1;36m2.2427\u001b[0m tokens/s                                                            \n"
      ]
     },
     "metadata": {},
     "output_type": "display_data"
    },
    {
     "data": {
      "text/html": [
       "<pre style=\"white-space:pre;overflow-x:auto;line-height:normal;font-family:Menlo,'DejaVu Sans Mono',consolas,'Courier New',monospace\"><span style=\"color: #008000; text-decoration-color: #008000\">DEBUG   </span> * Additional metrics:          <span style=\"font-weight: bold\">{</span><span style=\"color: #008000; text-decoration-color: #008000\">'total_duration'</span>: <span style=\"color: #008080; text-decoration-color: #008080; font-weight: bold\">348228347300</span>, <span style=\"color: #008000; text-decoration-color: #008000\">'load_duration'</span>: <span style=\"color: #008080; text-decoration-color: #008080; font-weight: bold\">51231300</span>,                \n",
       "         <span style=\"color: #008000; text-decoration-color: #008000\">'prompt_eval_duration'</span>: <span style=\"color: #008080; text-decoration-color: #008080; font-weight: bold\">106255000000</span>, <span style=\"color: #008000; text-decoration-color: #008000\">'eval_duration'</span>: <span style=\"color: #008080; text-decoration-color: #008080; font-weight: bold\">241916000000</span><span style=\"font-weight: bold\">}</span>                                      \n",
       "</pre>\n"
      ],
      "text/plain": [
       "\u001b[32mDEBUG   \u001b[0m * Additional metrics:          \u001b[1m{\u001b[0m\u001b[32m'total_duration'\u001b[0m: \u001b[1;36m348228347300\u001b[0m, \u001b[32m'load_duration'\u001b[0m: \u001b[1;36m51231300\u001b[0m,                \n",
       "         \u001b[32m'prompt_eval_duration'\u001b[0m: \u001b[1;36m106255000000\u001b[0m, \u001b[32m'eval_duration'\u001b[0m: \u001b[1;36m241916000000\u001b[0m\u001b[1m}\u001b[0m                                      \n"
      ]
     },
     "metadata": {},
     "output_type": "display_data"
    },
    {
     "data": {
      "text/html": [
       "<pre style=\"white-space:pre;overflow-x:auto;line-height:normal;font-family:Menlo,'DejaVu Sans Mono',consolas,'Courier New',monospace\"><span style=\"color: #008000; text-decoration-color: #008000\">DEBUG   </span> **************** METRICS ******************                                                               \n",
       "</pre>\n"
      ],
      "text/plain": [
       "\u001b[32mDEBUG   \u001b[0m **************** METRICS ******************                                                               \n"
      ]
     },
     "metadata": {},
     "output_type": "display_data"
    },
    {
     "data": {
      "text/html": [
       "<pre style=\"white-space:pre;overflow-x:auto;line-height:normal;font-family:Menlo,'DejaVu Sans Mono',consolas,'Courier New',monospace\"><span style=\"color: #008000; text-decoration-color: #008000\">DEBUG   </span> Getting function list_files                                                                               \n",
       "</pre>\n"
      ],
      "text/plain": [
       "\u001b[32mDEBUG   \u001b[0m Getting function list_files                                                                               \n"
      ]
     },
     "metadata": {},
     "output_type": "display_data"
    },
    {
     "data": {
      "text/html": [
       "<pre style=\"white-space:pre;overflow-x:auto;line-height:normal;font-family:Menlo,'DejaVu Sans Mono',consolas,'Courier New',monospace\"><span style=\"color: #008000; text-decoration-color: #008000\">DEBUG   </span> Getting function read_file                                                                                \n",
       "</pre>\n"
      ],
      "text/plain": [
       "\u001b[32mDEBUG   \u001b[0m Getting function read_file                                                                                \n"
      ]
     },
     "metadata": {},
     "output_type": "display_data"
    },
    {
     "data": {
      "text/html": [
       "<pre style=\"white-space:pre;overflow-x:auto;line-height:normal;font-family:Menlo,'DejaVu Sans Mono',consolas,'Courier New',monospace\"><span style=\"color: #008000; text-decoration-color: #008000\">DEBUG   </span> Getting function duckduckgo_search                                                                        \n",
       "</pre>\n"
      ],
      "text/plain": [
       "\u001b[32mDEBUG   \u001b[0m Getting function duckduckgo_search                                                                        \n"
      ]
     },
     "metadata": {},
     "output_type": "display_data"
    },
    {
     "data": {
      "text/html": [
       "<pre style=\"white-space:pre;overflow-x:auto;line-height:normal;font-family:Menlo,'DejaVu Sans Mono',consolas,'Courier New',monospace\"><span style=\"color: #008000; text-decoration-color: #008000\">DEBUG   </span> Getting function save_file                                                                                \n",
       "</pre>\n"
      ],
      "text/plain": [
       "\u001b[32mDEBUG   \u001b[0m Getting function save_file                                                                                \n"
      ]
     },
     "metadata": {},
     "output_type": "display_data"
    },
    {
     "data": {
      "text/html": [
       "<pre style=\"white-space:pre;overflow-x:auto;line-height:normal;font-family:Menlo,'DejaVu Sans Mono',consolas,'Courier New',monospace\"><span style=\"color: #008000; text-decoration-color: #008000\">DEBUG   </span> Running: <span style=\"color: #800080; text-decoration-color: #800080; font-weight: bold\">list_files</span><span style=\"font-weight: bold\">(</span><span style=\"color: #808000; text-decoration-color: #808000\">path</span>=..<span style=\"color: #800080; text-decoration-color: #800080\">/data/</span><span style=\"color: #ff00ff; text-decoration-color: #ff00ff\">input</span><span style=\"font-weight: bold\">)</span>                                                                   \n",
       "</pre>\n"
      ],
      "text/plain": [
       "\u001b[32mDEBUG   \u001b[0m Running: \u001b[1;35mlist_files\u001b[0m\u001b[1m(\u001b[0m\u001b[33mpath\u001b[0m=..\u001b[35m/data/\u001b[0m\u001b[95minput\u001b[0m\u001b[1m)\u001b[0m                                                                   \n"
      ]
     },
     "metadata": {},
     "output_type": "display_data"
    },
    {
     "data": {
      "text/html": [
       "<pre style=\"white-space:pre;overflow-x:auto;line-height:normal;font-family:Menlo,'DejaVu Sans Mono',consolas,'Courier New',monospace\"><span style=\"color: #808000; text-decoration-color: #808000\">WARNING </span> Could not run function <span style=\"color: #800080; text-decoration-color: #800080; font-weight: bold\">list_files</span><span style=\"font-weight: bold\">(</span><span style=\"color: #808000; text-decoration-color: #808000\">path</span>=..<span style=\"color: #800080; text-decoration-color: #800080\">/data/</span><span style=\"color: #ff00ff; text-decoration-color: #ff00ff\">input</span><span style=\"font-weight: bold\">)</span>                                                     \n",
       "</pre>\n"
      ],
      "text/plain": [
       "\u001b[33mWARNING \u001b[0m Could not run function \u001b[1;35mlist_files\u001b[0m\u001b[1m(\u001b[0m\u001b[33mpath\u001b[0m=..\u001b[35m/data/\u001b[0m\u001b[95minput\u001b[0m\u001b[1m)\u001b[0m                                                     \n"
      ]
     },
     "metadata": {},
     "output_type": "display_data"
    },
    {
     "data": {
      "text/html": [
       "<pre style=\"white-space:pre;overflow-x:auto;line-height:normal;font-family:Menlo,'DejaVu Sans Mono',consolas,'Courier New',monospace\"><span style=\"color: #800000; text-decoration-color: #800000; font-weight: bold\">ERROR   </span> <span style=\"color: #008080; text-decoration-color: #008080; font-weight: bold\">1</span> validation error for FileTools.list_files                                                               \n",
       "         path                                                                                                      \n",
       "           Unexpected keyword argument <span style=\"font-weight: bold\">[</span><span style=\"color: #808000; text-decoration-color: #808000\">type</span>=<span style=\"color: #800080; text-decoration-color: #800080\">unexpected_keyword_argument</span>, <span style=\"color: #808000; text-decoration-color: #808000\">input_value</span>=<span style=\"color: #008000; text-decoration-color: #008000\">'../data/input'</span>,             \n",
       "         <span style=\"color: #808000; text-decoration-color: #808000\">input_type</span>=<span style=\"color: #800080; text-decoration-color: #800080\">str</span><span style=\"font-weight: bold\">]</span>                                                                                           \n",
       "             For further information visit <span style=\"color: #0000ff; text-decoration-color: #0000ff; text-decoration: underline\">https://errors.pydantic.dev/2.10/v/unexpected_keyword_argument</span>          \n",
       "         Traceback <span style=\"font-weight: bold\">(</span>most recent call last<span style=\"font-weight: bold\">)</span>:                                                                        \n",
       "           File <span style=\"color: #008000; text-decoration-color: #008000\">\"c:\\Users\\JUAN\\Documents\\Universidad 2024-2\\Redes </span>                                                 \n",
       "         <span style=\"color: #008000; text-decoration-color: #008000\">neuronales\\Repos\\Agents\\.venv\\lib\\site-packages\\agno\\tools\\function.py\"</span>, line <span style=\"color: #008080; text-decoration-color: #008080; font-weight: bold\">358</span>, in execute             \n",
       "             self.result = <span style=\"color: #800080; text-decoration-color: #800080; font-weight: bold\">self.function.entrypoint</span><span style=\"font-weight: bold\">(</span>**entrypoint_args, **self.arguments<span style=\"font-weight: bold\">)</span>                           \n",
       "           File <span style=\"color: #008000; text-decoration-color: #008000\">\"c:\\Users\\JUAN\\Documents\\Universidad 2024-2\\Redes </span>                                                 \n",
       "         <span style=\"color: #008000; text-decoration-color: #008000\">neuronales\\Repos\\Agents\\.venv\\lib\\site-packages\\pydantic\\_internal\\_validate_call.py\"</span>, line <span style=\"color: #008080; text-decoration-color: #008080; font-weight: bold\">38</span>, in        \n",
       "         wrapper_function                                                                                          \n",
       "             return <span style=\"color: #800080; text-decoration-color: #800080; font-weight: bold\">wrapper</span><span style=\"font-weight: bold\">(</span>*args, **kwargs<span style=\"font-weight: bold\">)</span>                                                                       \n",
       "           File <span style=\"color: #008000; text-decoration-color: #008000\">\"c:\\Users\\JUAN\\Documents\\Universidad 2024-2\\Redes </span>                                                 \n",
       "         <span style=\"color: #008000; text-decoration-color: #008000\">neuronales\\Repos\\Agents\\.venv\\lib\\site-packages\\pydantic\\_internal\\_validate_call.py\"</span>, line <span style=\"color: #008080; text-decoration-color: #008080; font-weight: bold\">111</span>, in       \n",
       "         __call__                                                                                                  \n",
       "             res = <span style=\"color: #800080; text-decoration-color: #800080; font-weight: bold\">self.__pydantic_validator__.validate_python</span><span style=\"font-weight: bold\">(</span><span style=\"color: #800080; text-decoration-color: #800080; font-weight: bold\">pydantic_core.ArgsKwargs</span><span style=\"font-weight: bold\">(</span>args, kwargs<span style=\"font-weight: bold\">))</span>             \n",
       "         pydantic_core._pydantic_core.ValidationError: <span style=\"color: #008080; text-decoration-color: #008080; font-weight: bold\">1</span> validation error for FileTools.list_files                 \n",
       "         path                                                                                                      \n",
       "           Unexpected keyword argument <span style=\"font-weight: bold\">[</span><span style=\"color: #808000; text-decoration-color: #808000\">type</span>=<span style=\"color: #800080; text-decoration-color: #800080\">unexpected_keyword_argument</span>, <span style=\"color: #808000; text-decoration-color: #808000\">input_value</span>=<span style=\"color: #008000; text-decoration-color: #008000\">'../data/input'</span>,             \n",
       "         <span style=\"color: #808000; text-decoration-color: #808000\">input_type</span>=<span style=\"color: #800080; text-decoration-color: #800080\">str</span><span style=\"font-weight: bold\">]</span>                                                                                           \n",
       "             For further information visit <span style=\"color: #0000ff; text-decoration-color: #0000ff; text-decoration: underline\">https://errors.pydantic.dev/2.10/v/unexpected_keyword_argument</span>          \n",
       "</pre>\n"
      ],
      "text/plain": [
       "\u001b[1;31mERROR   \u001b[0m \u001b[1;36m1\u001b[0m validation error for FileTools.list_files                                                               \n",
       "         path                                                                                                      \n",
       "           Unexpected keyword argument \u001b[1m[\u001b[0m\u001b[33mtype\u001b[0m=\u001b[35munexpected_keyword_argument\u001b[0m, \u001b[33minput_value\u001b[0m=\u001b[32m'../data/input'\u001b[0m,             \n",
       "         \u001b[33minput_type\u001b[0m=\u001b[35mstr\u001b[0m\u001b[1m]\u001b[0m                                                                                           \n",
       "             For further information visit \u001b[4;94mhttps://errors.pydantic.dev/2.10/v/unexpected_keyword_argument\u001b[0m          \n",
       "         Traceback \u001b[1m(\u001b[0mmost recent call last\u001b[1m)\u001b[0m:                                                                        \n",
       "           File \u001b[32m\"c:\\Users\\JUAN\\Documents\\Universidad 2024-2\\Redes \u001b[0m                                                 \n",
       "         \u001b[32mneuronales\\Repos\\Agents\\.venv\\lib\\site-packages\\agno\\tools\\function.py\"\u001b[0m, line \u001b[1;36m358\u001b[0m, in execute             \n",
       "             self.result = \u001b[1;35mself.function.entrypoint\u001b[0m\u001b[1m(\u001b[0m**entrypoint_args, **self.arguments\u001b[1m)\u001b[0m                           \n",
       "           File \u001b[32m\"c:\\Users\\JUAN\\Documents\\Universidad 2024-2\\Redes \u001b[0m                                                 \n",
       "         \u001b[32mneuronales\\Repos\\Agents\\.venv\\lib\\site-packages\\pydantic\\_internal\\_validate_call.py\"\u001b[0m, line \u001b[1;36m38\u001b[0m, in        \n",
       "         wrapper_function                                                                                          \n",
       "             return \u001b[1;35mwrapper\u001b[0m\u001b[1m(\u001b[0m*args, **kwargs\u001b[1m)\u001b[0m                                                                       \n",
       "           File \u001b[32m\"c:\\Users\\JUAN\\Documents\\Universidad 2024-2\\Redes \u001b[0m                                                 \n",
       "         \u001b[32mneuronales\\Repos\\Agents\\.venv\\lib\\site-packages\\pydantic\\_internal\\_validate_call.py\"\u001b[0m, line \u001b[1;36m111\u001b[0m, in       \n",
       "         __call__                                                                                                  \n",
       "             res = \u001b[1;35mself.__pydantic_validator__.validate_python\u001b[0m\u001b[1m(\u001b[0m\u001b[1;35mpydantic_core.ArgsKwargs\u001b[0m\u001b[1m(\u001b[0margs, kwargs\u001b[1m)\u001b[0m\u001b[1m)\u001b[0m             \n",
       "         pydantic_core._pydantic_core.ValidationError: \u001b[1;36m1\u001b[0m validation error for FileTools.list_files                 \n",
       "         path                                                                                                      \n",
       "           Unexpected keyword argument \u001b[1m[\u001b[0m\u001b[33mtype\u001b[0m=\u001b[35munexpected_keyword_argument\u001b[0m, \u001b[33minput_value\u001b[0m=\u001b[32m'../data/input'\u001b[0m,             \n",
       "         \u001b[33minput_type\u001b[0m=\u001b[35mstr\u001b[0m\u001b[1m]\u001b[0m                                                                                           \n",
       "             For further information visit \u001b[4;94mhttps://errors.pydantic.dev/2.10/v/unexpected_keyword_argument\u001b[0m          \n"
      ]
     },
     "metadata": {},
     "output_type": "display_data"
    },
    {
     "data": {
      "text/html": [
       "<pre style=\"white-space:pre;overflow-x:auto;line-height:normal;font-family:Menlo,'DejaVu Sans Mono',consolas,'Courier New',monospace\"><span style=\"color: #008000; text-decoration-color: #008000\">DEBUG   </span> Running: <span style=\"color: #800080; text-decoration-color: #800080; font-weight: bold\">read_file</span><span style=\"font-weight: bold\">(</span><span style=\"color: #808000; text-decoration-color: #808000\">file_name</span>=..<span style=\"color: #800080; text-decoration-color: #800080\">/data/input/</span><span style=\"color: #ff00ff; text-decoration-color: #ff00ff\">programacion_basica.md</span><span style=\"font-weight: bold\">)</span>                                        \n",
       "</pre>\n"
      ],
      "text/plain": [
       "\u001b[32mDEBUG   \u001b[0m Running: \u001b[1;35mread_file\u001b[0m\u001b[1m(\u001b[0m\u001b[33mfile_name\u001b[0m=..\u001b[35m/data/input/\u001b[0m\u001b[95mprogramacion_basica.md\u001b[0m\u001b[1m)\u001b[0m                                        \n"
      ]
     },
     "metadata": {},
     "output_type": "display_data"
    },
    {
     "data": {
      "text/html": [
       "<pre style=\"white-space:pre;overflow-x:auto;line-height:normal;font-family:Menlo,'DejaVu Sans Mono',consolas,'Courier New',monospace\"><span style=\"color: #000080; text-decoration-color: #000080\">INFO    </span> Reading file: ..<span style=\"color: #800080; text-decoration-color: #800080\">/data/input/</span><span style=\"color: #ff00ff; text-decoration-color: #ff00ff\">programacion_basica.md</span>                                                        \n",
       "</pre>\n"
      ],
      "text/plain": [
       "\u001b[34mINFO    \u001b[0m Reading file: ..\u001b[35m/data/input/\u001b[0m\u001b[95mprogramacion_basica.md\u001b[0m                                                        \n"
      ]
     },
     "metadata": {},
     "output_type": "display_data"
    },
    {
     "data": {
      "text/html": [
       "<pre style=\"white-space:pre;overflow-x:auto;line-height:normal;font-family:Menlo,'DejaVu Sans Mono',consolas,'Courier New',monospace\"><span style=\"color: #800000; text-decoration-color: #800000; font-weight: bold\">ERROR   </span> Error reading file: <span style=\"font-weight: bold\">[</span>Errno <span style=\"color: #008080; text-decoration-color: #008080; font-weight: bold\">2</span><span style=\"font-weight: bold\">]</span> No such file or directory: <span style=\"color: #008000; text-decoration-color: #008000\">'c:\\\\Users\\\\JUAN\\\\Documents\\\\Universidad </span>        \n",
       "         <span style=\"color: #008000; text-decoration-color: #008000\">2024-2\\\\Redes neuronales\\\\Repos\\\\Agents\\\\notebooks\\\\..\\\\data\\\\input\\\\programacion_basica.md'</span>              \n",
       "</pre>\n"
      ],
      "text/plain": [
       "\u001b[1;31mERROR   \u001b[0m Error reading file: \u001b[1m[\u001b[0mErrno \u001b[1;36m2\u001b[0m\u001b[1m]\u001b[0m No such file or directory: \u001b[32m'c:\\\\Users\\\\JUAN\\\\Documents\\\\Universidad \u001b[0m        \n",
       "         \u001b[32m2024-2\\\\Redes neuronales\\\\Repos\\\\Agents\\\\notebooks\\\\..\\\\data\\\\input\\\\programacion_basica.md'\u001b[0m              \n"
      ]
     },
     "metadata": {},
     "output_type": "display_data"
    },
    {
     "data": {
      "text/html": [
       "<pre style=\"white-space:pre;overflow-x:auto;line-height:normal;font-family:Menlo,'DejaVu Sans Mono',consolas,'Courier New',monospace\"><span style=\"color: #008000; text-decoration-color: #008000\">DEBUG   </span> Running: <span style=\"color: #800080; text-decoration-color: #800080; font-weight: bold\">duckduckgo_search</span><span style=\"font-weight: bold\">(</span><span style=\"color: #808000; text-decoration-color: #808000\">max_results</span>=<span style=\"color: #008080; text-decoration-color: #008080; font-weight: bold\">10</span>, <span style=\"color: #808000; text-decoration-color: #808000\">query</span>=<span style=\"color: #800080; text-decoration-color: #800080\">fundamentos</span> de programacion<span style=\"font-weight: bold\">)</span>                             \n",
       "</pre>\n"
      ],
      "text/plain": [
       "\u001b[32mDEBUG   \u001b[0m Running: \u001b[1;35mduckduckgo_search\u001b[0m\u001b[1m(\u001b[0m\u001b[33mmax_results\u001b[0m=\u001b[1;36m10\u001b[0m, \u001b[33mquery\u001b[0m=\u001b[35mfundamentos\u001b[0m de programacion\u001b[1m)\u001b[0m                             \n"
      ]
     },
     "metadata": {},
     "output_type": "display_data"
    },
    {
     "data": {
      "text/html": [
       "<pre style=\"white-space:pre;overflow-x:auto;line-height:normal;font-family:Menlo,'DejaVu Sans Mono',consolas,'Courier New',monospace\"><span style=\"color: #008000; text-decoration-color: #008000\">DEBUG   </span> Searching DDG for: fundamentos de programacion                                                            \n",
       "</pre>\n"
      ],
      "text/plain": [
       "\u001b[32mDEBUG   \u001b[0m Searching DDG for: fundamentos de programacion                                                            \n"
      ]
     },
     "metadata": {},
     "output_type": "display_data"
    },
    {
     "data": {
      "text/html": [
       "<pre style=\"white-space:pre;overflow-x:auto;line-height:normal;font-family:Menlo,'DejaVu Sans Mono',consolas,'Courier New',monospace\"><span style=\"color: #008000; text-decoration-color: #008000\">DEBUG   </span> Running: <span style=\"color: #800080; text-decoration-color: #800080; font-weight: bold\">save_file</span><span style=\"font-weight: bold\">(</span><span style=\"color: #808000; text-decoration-color: #808000\">contents</span>=<span style=\"color: #800080; text-decoration-color: #800080\">Notas</span> de clase: Fundamentos de programacion,                                  \n",
       "         <span style=\"color: #808000; text-decoration-color: #808000\">file_name</span>=..<span style=\"color: #800080; text-decoration-color: #800080\">/data/output/</span><span style=\"color: #ff00ff; text-decoration-color: #ff00ff\">notas_de_clase_fundamentos_programacion.md</span><span style=\"font-weight: bold\">)</span>                                      \n",
       "</pre>\n"
      ],
      "text/plain": [
       "\u001b[32mDEBUG   \u001b[0m Running: \u001b[1;35msave_file\u001b[0m\u001b[1m(\u001b[0m\u001b[33mcontents\u001b[0m=\u001b[35mNotas\u001b[0m de clase: Fundamentos de programacion,                                  \n",
       "         \u001b[33mfile_name\u001b[0m=..\u001b[35m/data/output/\u001b[0m\u001b[95mnotas_de_clase_fundamentos_programacion.md\u001b[0m\u001b[1m)\u001b[0m                                      \n"
      ]
     },
     "metadata": {},
     "output_type": "display_data"
    },
    {
     "data": {
      "text/html": [
       "<pre style=\"white-space:pre;overflow-x:auto;line-height:normal;font-family:Menlo,'DejaVu Sans Mono',consolas,'Courier New',monospace\"><span style=\"color: #008000; text-decoration-color: #008000\">DEBUG   </span> Saving contents to c:\\Users\\JUAN\\Documents\\Universidad <span style=\"color: #008080; text-decoration-color: #008080; font-weight: bold\">2024</span>-<span style=\"color: #008080; text-decoration-color: #008080; font-weight: bold\">2</span>\\Redes                                       \n",
       "         neuronales\\Repos\\Agents\\notebooks\\..\\data\\output\\notas_de_clase_fundamentos_programacion.md               \n",
       "</pre>\n"
      ],
      "text/plain": [
       "\u001b[32mDEBUG   \u001b[0m Saving contents to c:\\Users\\JUAN\\Documents\\Universidad \u001b[1;36m2024\u001b[0m-\u001b[1;36m2\u001b[0m\\Redes                                       \n",
       "         neuronales\\Repos\\Agents\\notebooks\\..\\data\\output\\notas_de_clase_fundamentos_programacion.md               \n"
      ]
     },
     "metadata": {},
     "output_type": "display_data"
    },
    {
     "data": {
      "text/html": [
       "<pre style=\"white-space:pre;overflow-x:auto;line-height:normal;font-family:Menlo,'DejaVu Sans Mono',consolas,'Courier New',monospace\"><span style=\"color: #000080; text-decoration-color: #000080\">INFO    </span> Saved: c:\\Users\\JUAN\\Documents\\Universidad <span style=\"color: #008080; text-decoration-color: #008080; font-weight: bold\">2024</span>-<span style=\"color: #008080; text-decoration-color: #008080; font-weight: bold\">2</span>\\Redes                                                   \n",
       "         neuronales\\Repos\\Agents\\notebooks\\..\\data\\output\\notas_de_clase_fundamentos_programacion.md               \n",
       "</pre>\n"
      ],
      "text/plain": [
       "\u001b[34mINFO    \u001b[0m Saved: c:\\Users\\JUAN\\Documents\\Universidad \u001b[1;36m2024\u001b[0m-\u001b[1;36m2\u001b[0m\\Redes                                                   \n",
       "         neuronales\\Repos\\Agents\\notebooks\\..\\data\\output\\notas_de_clase_fundamentos_programacion.md               \n"
      ]
     },
     "metadata": {},
     "output_type": "display_data"
    },
    {
     "data": {
      "text/html": [
       "<pre style=\"white-space:pre;overflow-x:auto;line-height:normal;font-family:Menlo,'DejaVu Sans Mono',consolas,'Courier New',monospace\"><span style=\"color: #008000; text-decoration-color: #008000\">DEBUG   </span> ---------- Ollama Response ----------                                                                     \n",
       "</pre>\n"
      ],
      "text/plain": [
       "\u001b[32mDEBUG   \u001b[0m ---------- Ollama Response ----------                                                                     \n"
      ]
     },
     "metadata": {},
     "output_type": "display_data"
    },
    {
     "data": {
      "text/html": [
       "<pre style=\"white-space:pre;overflow-x:auto;line-height:normal;font-family:Menlo,'DejaVu Sans Mono',consolas,'Courier New',monospace\"><span style=\"color: #008000; text-decoration-color: #008000\">DEBUG   </span> ============== system ==============                                                                      \n",
       "</pre>\n"
      ],
      "text/plain": [
       "\u001b[32mDEBUG   \u001b[0m ============== system ==============                                                                      \n"
      ]
     },
     "metadata": {},
     "output_type": "display_data"
    },
    {
     "data": {
      "text/html": [
       "<pre style=\"white-space:pre;overflow-x:auto;line-height:normal;font-family:Menlo,'DejaVu Sans Mono',consolas,'Courier New',monospace\"><span style=\"color: #008000; text-decoration-color: #008000\">DEBUG   </span> You are an academic content generation assistant. Based on the following university course syllabus,      \n",
       "         generate structured teaching materials, ensuring clarity, engagement, and alignment with best pedagogical \n",
       "         practices. This material are going to be used by a professor to teach a course in <span style=\"font-weight: bold\">[</span>subject<span style=\"font-weight: bold\">]</span>.              \n",
       "                                                                                                                   \n",
       "         <span style=\"font-weight: bold\">&lt;</span><span style=\"color: #ff00ff; text-decoration-color: #ff00ff; font-weight: bold\">instructions</span><span style=\"color: #000000; text-decoration-color: #000000\">&gt;</span>                                                                                            \n",
       "         <span style=\"color: #000000; text-decoration-color: #000000\">- List the files in the folder </span><span style=\"color: #008000; text-decoration-color: #008000\">'../data/input'</span><span style=\"color: #000000; text-decoration-color: #000000\"> and determine if one of this names is usefull for the </span>     \n",
       "         <span style=\"color: #000000; text-decoration-color: #000000\">response.</span>                                                                                                 \n",
       "         <span style=\"color: #000000; text-decoration-color: #000000\">- If one of the files is usefull, read it and use it to know the course topic, else search in internet.</span>   \n",
       "         <span style=\"color: #000000; text-decoration-color: #000000\">- If the topic is specific, ensure accuracy and up-to-date information. If it is general, prioritize </span>     \n",
       "         <span style=\"color: #000000; text-decoration-color: #000000\">relevance and engagement.</span>                                                                                 \n",
       "         <span style=\"color: #000000; text-decoration-color: #000000\">- If sufficient information is not available, search online for reliable sources before generating </span>       \n",
       "         <span style=\"color: #000000; text-decoration-color: #000000\">content.</span>                                                                                                  \n",
       "         <span style=\"color: #000000; text-decoration-color: #000000\">- Follow these guidelines based on the content type:</span>                                                      \n",
       "         <span style=\"color: #000000; text-decoration-color: #000000\">- - Exam: Generate a set of </span><span style=\"color: #008080; text-decoration-color: #008080; font-weight: bold\">5</span><span style=\"color: #000000; text-decoration-color: #000000\"> to </span><span style=\"color: #008080; text-decoration-color: #008080; font-weight: bold\">10</span><span style=\"color: #000000; text-decoration-color: #000000\"> exam questions with detailed solutions.</span>                               \n",
       "         <span style=\"color: #000000; text-decoration-color: #000000\">- - Lecture: Create a structured lecture outline with at least </span><span style=\"color: #008080; text-decoration-color: #008080; font-weight: bold\">5</span><span style=\"color: #000000; text-decoration-color: #000000\"> sections covering key concepts.</span>          \n",
       "         <span style=\"color: #000000; text-decoration-color: #000000\">- - Workshop: Develop a workshop plan with at least </span><span style=\"color: #008080; text-decoration-color: #008080; font-weight: bold\">5</span><span style=\"color: #000000; text-decoration-color: #000000\"> sections, including practical examples and </span>         \n",
       "         <span style=\"color: #000000; text-decoration-color: #000000\">exercises.</span>                                                                                                \n",
       "         <span style=\"color: #000000; text-decoration-color: #000000\">- Ensure clarity, coherence, and academic rigor in all content.</span>                                           \n",
       "         <span style=\"color: #000000; text-decoration-color: #000000\">- Deliver the content in a professional and engaging manner.</span>                                              \n",
       "         <span style=\"color: #000000; text-decoration-color: #000000\">&lt;</span><span style=\"color: #800080; text-decoration-color: #800080\">/</span><span style=\"color: #ff00ff; text-decoration-color: #ff00ff\">instructions</span><span style=\"color: #000000; text-decoration-color: #000000\">&gt;</span>                                                                                           \n",
       "                                                                                                                   \n",
       "         <span style=\"color: #000000; text-decoration-color: #000000\">&lt;additional_information&gt;</span>                                                                                  \n",
       "         <span style=\"color: #000000; text-decoration-color: #000000\">- Use markdown to format your answers.</span>                                                                    \n",
       "         <span style=\"color: #000000; text-decoration-color: #000000\">&lt;</span><span style=\"color: #800080; text-decoration-color: #800080\">/</span><span style=\"color: #ff00ff; text-decoration-color: #ff00ff\">additional_information</span><span style=\"font-weight: bold\">&gt;</span>                                                                                 \n",
       "</pre>\n"
      ],
      "text/plain": [
       "\u001b[32mDEBUG   \u001b[0m You are an academic content generation assistant. Based on the following university course syllabus,      \n",
       "         generate structured teaching materials, ensuring clarity, engagement, and alignment with best pedagogical \n",
       "         practices. This material are going to be used by a professor to teach a course in \u001b[1m[\u001b[0msubject\u001b[1m]\u001b[0m.              \n",
       "                                                                                                                   \n",
       "         \u001b[1m<\u001b[0m\u001b[1;95minstructions\u001b[0m\u001b[39m>\u001b[0m                                                                                            \n",
       "         \u001b[39m- List the files in the folder \u001b[0m\u001b[32m'../data/input'\u001b[0m\u001b[39m and determine if one of this names is usefull for the \u001b[0m     \n",
       "         \u001b[39mresponse.\u001b[0m                                                                                                 \n",
       "         \u001b[39m- If one of the files is usefull, read it and use it to know the course topic, else search in internet.\u001b[0m   \n",
       "         \u001b[39m- If the topic is specific, ensure accuracy and up-to-date information. If it is general, prioritize \u001b[0m     \n",
       "         \u001b[39mrelevance and engagement.\u001b[0m                                                                                 \n",
       "         \u001b[39m- If sufficient information is not available, search online for reliable sources before generating \u001b[0m       \n",
       "         \u001b[39mcontent.\u001b[0m                                                                                                  \n",
       "         \u001b[39m- Follow these guidelines based on the content type:\u001b[0m                                                      \n",
       "         \u001b[39m- - Exam: Generate a set of \u001b[0m\u001b[1;36m5\u001b[0m\u001b[39m to \u001b[0m\u001b[1;36m10\u001b[0m\u001b[39m exam questions with detailed solutions.\u001b[0m                               \n",
       "         \u001b[39m- - Lecture: Create a structured lecture outline with at least \u001b[0m\u001b[1;36m5\u001b[0m\u001b[39m sections covering key concepts.\u001b[0m          \n",
       "         \u001b[39m- - Workshop: Develop a workshop plan with at least \u001b[0m\u001b[1;36m5\u001b[0m\u001b[39m sections, including practical examples and \u001b[0m         \n",
       "         \u001b[39mexercises.\u001b[0m                                                                                                \n",
       "         \u001b[39m- Ensure clarity, coherence, and academic rigor in all content.\u001b[0m                                           \n",
       "         \u001b[39m- Deliver the content in a professional and engaging manner.\u001b[0m                                              \n",
       "         \u001b[39m<\u001b[0m\u001b[35m/\u001b[0m\u001b[95minstructions\u001b[0m\u001b[39m>\u001b[0m                                                                                           \n",
       "                                                                                                                   \n",
       "         \u001b[39m<additional_information>\u001b[0m                                                                                  \n",
       "         \u001b[39m- Use markdown to format your answers.\u001b[0m                                                                    \n",
       "         \u001b[39m<\u001b[0m\u001b[35m/\u001b[0m\u001b[95madditional_information\u001b[0m\u001b[1m>\u001b[0m                                                                                 \n"
      ]
     },
     "metadata": {},
     "output_type": "display_data"
    },
    {
     "data": {
      "text/html": [
       "<pre style=\"white-space:pre;overflow-x:auto;line-height:normal;font-family:Menlo,'DejaVu Sans Mono',consolas,'Courier New',monospace\"><span style=\"color: #008000; text-decoration-color: #008000\">DEBUG   </span> ============== user ==============                                                                        \n",
       "</pre>\n"
      ],
      "text/plain": [
       "\u001b[32mDEBUG   \u001b[0m ============== user ==============                                                                        \n"
      ]
     },
     "metadata": {},
     "output_type": "display_data"
    },
    {
     "data": {
      "text/html": [
       "<pre style=\"white-space:pre;overflow-x:auto;line-height:normal;font-family:Menlo,'DejaVu Sans Mono',consolas,'Courier New',monospace\"><span style=\"color: #008000; text-decoration-color: #008000\">DEBUG   </span> Analyze the subject <span style=\"color: #008000; text-decoration-color: #008000\">'Fundamentos de programacion'</span> and identify the most relevant topics in the folder     \n",
       "         <span style=\"color: #008000; text-decoration-color: #008000\">'../data/input'</span>.                                                                                          \n",
       "                     Based on these topics, generate a content type <span style=\"color: #008000; text-decoration-color: #008000\">'Notas de clase'</span> materials about the course    \n",
       "         search and explain them.                                                                                  \n",
       "                     Explain the topic <span style=\"color: #008000; text-decoration-color: #008000\">'Python'</span>, provide definitions, and explain what each thing is.              \n",
       "                     Ensure to save the output in a file in the folder <span style=\"color: #008000; text-decoration-color: #008000\">'../data/output'</span> with a clear and           \n",
       "         descriptive filename.                                                                                     \n",
       "</pre>\n"
      ],
      "text/plain": [
       "\u001b[32mDEBUG   \u001b[0m Analyze the subject \u001b[32m'Fundamentos de programacion'\u001b[0m and identify the most relevant topics in the folder     \n",
       "         \u001b[32m'../data/input'\u001b[0m.                                                                                          \n",
       "                     Based on these topics, generate a content type \u001b[32m'Notas de clase'\u001b[0m materials about the course    \n",
       "         search and explain them.                                                                                  \n",
       "                     Explain the topic \u001b[32m'Python'\u001b[0m, provide definitions, and explain what each thing is.              \n",
       "                     Ensure to save the output in a file in the folder \u001b[32m'../data/output'\u001b[0m with a clear and           \n",
       "         descriptive filename.                                                                                     \n"
      ]
     },
     "metadata": {},
     "output_type": "display_data"
    },
    {
     "data": {
      "text/html": [
       "<pre style=\"white-space:pre;overflow-x:auto;line-height:normal;font-family:Menlo,'DejaVu Sans Mono',consolas,'Courier New',monospace\"><span style=\"color: #008000; text-decoration-color: #008000\">DEBUG   </span> ============== assistant ==============                                                                   \n",
       "</pre>\n"
      ],
      "text/plain": [
       "\u001b[32mDEBUG   \u001b[0m ============== assistant ==============                                                                   \n"
      ]
     },
     "metadata": {},
     "output_type": "display_data"
    },
    {
     "data": {
      "text/html": [
       "<pre style=\"white-space:pre;overflow-x:auto;line-height:normal;font-family:Menlo,'DejaVu Sans Mono',consolas,'Courier New',monospace\"><span style=\"color: #008000; text-decoration-color: #008000\">DEBUG   </span> Tool Calls: <span style=\"font-weight: bold\">[</span>                                                                                             \n",
       "           <span style=\"font-weight: bold\">{</span>                                                                                                       \n",
       "             <span style=\"color: #008000; text-decoration-color: #008000\">\"type\"</span>: <span style=\"color: #008000; text-decoration-color: #008000\">\"function\"</span>,                                                                                   \n",
       "             <span style=\"color: #008000; text-decoration-color: #008000\">\"function\"</span>: <span style=\"font-weight: bold\">{</span>                                                                                         \n",
       "               <span style=\"color: #008000; text-decoration-color: #008000\">\"name\"</span>: <span style=\"color: #008000; text-decoration-color: #008000\">\"list_files\"</span>,                                                                               \n",
       "               <span style=\"color: #008000; text-decoration-color: #008000\">\"arguments\"</span>: <span style=\"color: #008000; text-decoration-color: #008000\">\"{\\\"path\\\": \\\"../data/input\\\"}\"</span>                                                        \n",
       "             <span style=\"font-weight: bold\">}</span>                                                                                                     \n",
       "           <span style=\"font-weight: bold\">}</span>,                                                                                                      \n",
       "           <span style=\"font-weight: bold\">{</span>                                                                                                       \n",
       "             <span style=\"color: #008000; text-decoration-color: #008000\">\"type\"</span>: <span style=\"color: #008000; text-decoration-color: #008000\">\"function\"</span>,                                                                                   \n",
       "             <span style=\"color: #008000; text-decoration-color: #008000\">\"function\"</span>: <span style=\"font-weight: bold\">{</span>                                                                                         \n",
       "               <span style=\"color: #008000; text-decoration-color: #008000\">\"name\"</span>: <span style=\"color: #008000; text-decoration-color: #008000\">\"read_file\"</span>,                                                                                \n",
       "               <span style=\"color: #008000; text-decoration-color: #008000\">\"arguments\"</span>: <span style=\"color: #008000; text-decoration-color: #008000\">\"{\\\"file_name\\\": \\\"../data/input/programacion_basica.md\\\"}\"</span>                            \n",
       "             <span style=\"font-weight: bold\">}</span>                                                                                                     \n",
       "           <span style=\"font-weight: bold\">}</span>,                                                                                                      \n",
       "           <span style=\"font-weight: bold\">{</span>                                                                                                       \n",
       "             <span style=\"color: #008000; text-decoration-color: #008000\">\"type\"</span>: <span style=\"color: #008000; text-decoration-color: #008000\">\"function\"</span>,                                                                                   \n",
       "             <span style=\"color: #008000; text-decoration-color: #008000\">\"function\"</span>: <span style=\"font-weight: bold\">{</span>                                                                                         \n",
       "               <span style=\"color: #008000; text-decoration-color: #008000\">\"name\"</span>: <span style=\"color: #008000; text-decoration-color: #008000\">\"duckduckgo_search\"</span>,                                                                        \n",
       "               <span style=\"color: #008000; text-decoration-color: #008000\">\"arguments\"</span>: <span style=\"color: #008000; text-decoration-color: #008000\">\"{\\\"max_results\\\": 10, \\\"query\\\": \\\"fundamentos de programacion\\\"}\"</span>                    \n",
       "             <span style=\"font-weight: bold\">}</span>                                                                                                     \n",
       "           <span style=\"font-weight: bold\">}</span>,                                                                                                      \n",
       "           <span style=\"font-weight: bold\">{</span>                                                                                                       \n",
       "             <span style=\"color: #008000; text-decoration-color: #008000\">\"type\"</span>: <span style=\"color: #008000; text-decoration-color: #008000\">\"function\"</span>,                                                                                   \n",
       "             <span style=\"color: #008000; text-decoration-color: #008000\">\"function\"</span>: <span style=\"font-weight: bold\">{</span>                                                                                         \n",
       "               <span style=\"color: #008000; text-decoration-color: #008000\">\"name\"</span>: <span style=\"color: #008000; text-decoration-color: #008000\">\"save_file\"</span>,                                                                                \n",
       "               <span style=\"color: #008000; text-decoration-color: #008000\">\"arguments\"</span>: <span style=\"color: #008000; text-decoration-color: #008000\">\"{\\\"contents\\\": \\\"Notas de clase: Fundamentos de programacion\\\", \\\"file_name\\\": </span>       \n",
       "         <span style=\"color: #008000; text-decoration-color: #008000\">\\\"../data/output/notas_de_clase_fundamentos_programacion.md\\\"}\"</span>                                           \n",
       "             <span style=\"font-weight: bold\">}</span>                                                                                                     \n",
       "           <span style=\"font-weight: bold\">}</span>                                                                                                       \n",
       "         <span style=\"font-weight: bold\">]</span>                                                                                                         \n",
       "</pre>\n"
      ],
      "text/plain": [
       "\u001b[32mDEBUG   \u001b[0m Tool Calls: \u001b[1m[\u001b[0m                                                                                             \n",
       "           \u001b[1m{\u001b[0m                                                                                                       \n",
       "             \u001b[32m\"type\"\u001b[0m: \u001b[32m\"function\"\u001b[0m,                                                                                   \n",
       "             \u001b[32m\"function\"\u001b[0m: \u001b[1m{\u001b[0m                                                                                         \n",
       "               \u001b[32m\"name\"\u001b[0m: \u001b[32m\"list_files\"\u001b[0m,                                                                               \n",
       "               \u001b[32m\"arguments\"\u001b[0m: \u001b[32m\"\u001b[0m\u001b[32m{\u001b[0m\u001b[32m\\\"path\\\": \\\"../data/input\\\"\u001b[0m\u001b[32m}\u001b[0m\u001b[32m\"\u001b[0m                                                        \n",
       "             \u001b[1m}\u001b[0m                                                                                                     \n",
       "           \u001b[1m}\u001b[0m,                                                                                                      \n",
       "           \u001b[1m{\u001b[0m                                                                                                       \n",
       "             \u001b[32m\"type\"\u001b[0m: \u001b[32m\"function\"\u001b[0m,                                                                                   \n",
       "             \u001b[32m\"function\"\u001b[0m: \u001b[1m{\u001b[0m                                                                                         \n",
       "               \u001b[32m\"name\"\u001b[0m: \u001b[32m\"read_file\"\u001b[0m,                                                                                \n",
       "               \u001b[32m\"arguments\"\u001b[0m: \u001b[32m\"\u001b[0m\u001b[32m{\u001b[0m\u001b[32m\\\"file_name\\\": \\\"../data/input/programacion_basica.md\\\"\u001b[0m\u001b[32m}\u001b[0m\u001b[32m\"\u001b[0m                            \n",
       "             \u001b[1m}\u001b[0m                                                                                                     \n",
       "           \u001b[1m}\u001b[0m,                                                                                                      \n",
       "           \u001b[1m{\u001b[0m                                                                                                       \n",
       "             \u001b[32m\"type\"\u001b[0m: \u001b[32m\"function\"\u001b[0m,                                                                                   \n",
       "             \u001b[32m\"function\"\u001b[0m: \u001b[1m{\u001b[0m                                                                                         \n",
       "               \u001b[32m\"name\"\u001b[0m: \u001b[32m\"duckduckgo_search\"\u001b[0m,                                                                        \n",
       "               \u001b[32m\"arguments\"\u001b[0m: \u001b[32m\"\u001b[0m\u001b[32m{\u001b[0m\u001b[32m\\\"max_results\\\": 10, \\\"query\\\": \\\"fundamentos de programacion\\\"\u001b[0m\u001b[32m}\u001b[0m\u001b[32m\"\u001b[0m                    \n",
       "             \u001b[1m}\u001b[0m                                                                                                     \n",
       "           \u001b[1m}\u001b[0m,                                                                                                      \n",
       "           \u001b[1m{\u001b[0m                                                                                                       \n",
       "             \u001b[32m\"type\"\u001b[0m: \u001b[32m\"function\"\u001b[0m,                                                                                   \n",
       "             \u001b[32m\"function\"\u001b[0m: \u001b[1m{\u001b[0m                                                                                         \n",
       "               \u001b[32m\"name\"\u001b[0m: \u001b[32m\"save_file\"\u001b[0m,                                                                                \n",
       "               \u001b[32m\"arguments\"\u001b[0m: \u001b[32m\"\u001b[0m\u001b[32m{\u001b[0m\u001b[32m\\\"contents\\\": \\\"Notas de clase: Fundamentos de programacion\\\", \\\"file_name\\\": \u001b[0m       \n",
       "         \u001b[32m\\\"../data/output/notas_de_clase_fundamentos_programacion.md\\\"\u001b[0m\u001b[32m}\u001b[0m\u001b[32m\"\u001b[0m                                           \n",
       "             \u001b[1m}\u001b[0m                                                                                                     \n",
       "           \u001b[1m}\u001b[0m                                                                                                       \n",
       "         \u001b[1m]\u001b[0m                                                                                                         \n"
      ]
     },
     "metadata": {},
     "output_type": "display_data"
    },
    {
     "data": {
      "text/html": [
       "<pre style=\"white-space:pre;overflow-x:auto;line-height:normal;font-family:Menlo,'DejaVu Sans Mono',consolas,'Courier New',monospace\"><span style=\"color: #008000; text-decoration-color: #008000\">DEBUG   </span> **************** METRICS ****************                                                                 \n",
       "</pre>\n"
      ],
      "text/plain": [
       "\u001b[32mDEBUG   \u001b[0m **************** METRICS ****************                                                                 \n"
      ]
     },
     "metadata": {},
     "output_type": "display_data"
    },
    {
     "data": {
      "text/html": [
       "<pre style=\"white-space:pre;overflow-x:auto;line-height:normal;font-family:Menlo,'DejaVu Sans Mono',consolas,'Courier New',monospace\"><span style=\"color: #008000; text-decoration-color: #008000\">DEBUG   </span> * Input tokens:                <span style=\"color: #008080; text-decoration-color: #008080; font-weight: bold\">764</span>                                                                        \n",
       "</pre>\n"
      ],
      "text/plain": [
       "\u001b[32mDEBUG   \u001b[0m * Input tokens:                \u001b[1;36m764\u001b[0m                                                                        \n"
      ]
     },
     "metadata": {},
     "output_type": "display_data"
    },
    {
     "data": {
      "text/html": [
       "<pre style=\"white-space:pre;overflow-x:auto;line-height:normal;font-family:Menlo,'DejaVu Sans Mono',consolas,'Courier New',monospace\"><span style=\"color: #008000; text-decoration-color: #008000\">DEBUG   </span> * Output tokens:               <span style=\"color: #008080; text-decoration-color: #008080; font-weight: bold\">781</span>                                                                        \n",
       "</pre>\n"
      ],
      "text/plain": [
       "\u001b[32mDEBUG   \u001b[0m * Output tokens:               \u001b[1;36m781\u001b[0m                                                                        \n"
      ]
     },
     "metadata": {},
     "output_type": "display_data"
    },
    {
     "data": {
      "text/html": [
       "<pre style=\"white-space:pre;overflow-x:auto;line-height:normal;font-family:Menlo,'DejaVu Sans Mono',consolas,'Courier New',monospace\"><span style=\"color: #008000; text-decoration-color: #008000\">DEBUG   </span> * Total tokens:                <span style=\"color: #008080; text-decoration-color: #008080; font-weight: bold\">1545</span>                                                                       \n",
       "</pre>\n"
      ],
      "text/plain": [
       "\u001b[32mDEBUG   \u001b[0m * Total tokens:                \u001b[1;36m1545\u001b[0m                                                                       \n"
      ]
     },
     "metadata": {},
     "output_type": "display_data"
    },
    {
     "data": {
      "text/html": [
       "<pre style=\"white-space:pre;overflow-x:auto;line-height:normal;font-family:Menlo,'DejaVu Sans Mono',consolas,'Courier New',monospace\"><span style=\"color: #008000; text-decoration-color: #008000\">DEBUG   </span> * Time:                        <span style=\"color: #008080; text-decoration-color: #008080; font-weight: bold\">348.</span>2346s                                                                  \n",
       "</pre>\n"
      ],
      "text/plain": [
       "\u001b[32mDEBUG   \u001b[0m * Time:                        \u001b[1;36m348.\u001b[0m2346s                                                                  \n"
      ]
     },
     "metadata": {},
     "output_type": "display_data"
    },
    {
     "data": {
      "text/html": [
       "<pre style=\"white-space:pre;overflow-x:auto;line-height:normal;font-family:Menlo,'DejaVu Sans Mono',consolas,'Courier New',monospace\"><span style=\"color: #008000; text-decoration-color: #008000\">DEBUG   </span> * Tokens per second:           <span style=\"color: #008080; text-decoration-color: #008080; font-weight: bold\">2.2427</span> tokens/s                                                            \n",
       "</pre>\n"
      ],
      "text/plain": [
       "\u001b[32mDEBUG   \u001b[0m * Tokens per second:           \u001b[1;36m2.2427\u001b[0m tokens/s                                                            \n"
      ]
     },
     "metadata": {},
     "output_type": "display_data"
    },
    {
     "data": {
      "text/html": [
       "<pre style=\"white-space:pre;overflow-x:auto;line-height:normal;font-family:Menlo,'DejaVu Sans Mono',consolas,'Courier New',monospace\"><span style=\"color: #008000; text-decoration-color: #008000\">DEBUG   </span> * Additional metrics:          <span style=\"font-weight: bold\">{</span><span style=\"color: #008000; text-decoration-color: #008000\">'total_duration'</span>: <span style=\"color: #008080; text-decoration-color: #008080; font-weight: bold\">348228347300</span>, <span style=\"color: #008000; text-decoration-color: #008000\">'load_duration'</span>: <span style=\"color: #008080; text-decoration-color: #008080; font-weight: bold\">51231300</span>,                \n",
       "         <span style=\"color: #008000; text-decoration-color: #008000\">'prompt_eval_duration'</span>: <span style=\"color: #008080; text-decoration-color: #008080; font-weight: bold\">106255000000</span>, <span style=\"color: #008000; text-decoration-color: #008000\">'eval_duration'</span>: <span style=\"color: #008080; text-decoration-color: #008080; font-weight: bold\">241916000000</span><span style=\"font-weight: bold\">}</span>                                      \n",
       "</pre>\n"
      ],
      "text/plain": [
       "\u001b[32mDEBUG   \u001b[0m * Additional metrics:          \u001b[1m{\u001b[0m\u001b[32m'total_duration'\u001b[0m: \u001b[1;36m348228347300\u001b[0m, \u001b[32m'load_duration'\u001b[0m: \u001b[1;36m51231300\u001b[0m,                \n",
       "         \u001b[32m'prompt_eval_duration'\u001b[0m: \u001b[1;36m106255000000\u001b[0m, \u001b[32m'eval_duration'\u001b[0m: \u001b[1;36m241916000000\u001b[0m\u001b[1m}\u001b[0m                                      \n"
      ]
     },
     "metadata": {},
     "output_type": "display_data"
    },
    {
     "data": {
      "text/html": [
       "<pre style=\"white-space:pre;overflow-x:auto;line-height:normal;font-family:Menlo,'DejaVu Sans Mono',consolas,'Courier New',monospace\"><span style=\"color: #008000; text-decoration-color: #008000\">DEBUG   </span> **************** METRICS ******************                                                               \n",
       "</pre>\n"
      ],
      "text/plain": [
       "\u001b[32mDEBUG   \u001b[0m **************** METRICS ******************                                                               \n"
      ]
     },
     "metadata": {},
     "output_type": "display_data"
    },
    {
     "data": {
      "text/html": [
       "<pre style=\"white-space:pre;overflow-x:auto;line-height:normal;font-family:Menlo,'DejaVu Sans Mono',consolas,'Courier New',monospace\"><span style=\"color: #008000; text-decoration-color: #008000\">DEBUG   </span> ============== tool ==============                                                                        \n",
       "</pre>\n"
      ],
      "text/plain": [
       "\u001b[32mDEBUG   \u001b[0m ============== tool ==============                                                                        \n"
      ]
     },
     "metadata": {},
     "output_type": "display_data"
    },
    {
     "data": {
      "text/html": [
       "<pre style=\"white-space:pre;overflow-x:auto;line-height:normal;font-family:Menlo,'DejaVu Sans Mono',consolas,'Courier New',monospace\"><span style=\"color: #008000; text-decoration-color: #008000\">DEBUG   </span> <span style=\"color: #008080; text-decoration-color: #008080; font-weight: bold\">1</span> validation error for FileTools.list_files                                                               \n",
       "         path                                                                                                      \n",
       "           Unexpected keyword argument <span style=\"font-weight: bold\">[</span><span style=\"color: #808000; text-decoration-color: #808000\">type</span>=<span style=\"color: #800080; text-decoration-color: #800080\">unexpected_keyword_argument</span>, <span style=\"color: #808000; text-decoration-color: #808000\">input_value</span>=<span style=\"color: #008000; text-decoration-color: #008000\">'../data/input'</span>,             \n",
       "         <span style=\"color: #808000; text-decoration-color: #808000\">input_type</span>=<span style=\"color: #800080; text-decoration-color: #800080\">str</span><span style=\"font-weight: bold\">]</span>                                                                                           \n",
       "             For further information visit <span style=\"color: #0000ff; text-decoration-color: #0000ff; text-decoration: underline\">https://errors.pydantic.dev/2.10/v/unexpected_keyword_argument</span>          \n",
       "</pre>\n"
      ],
      "text/plain": [
       "\u001b[32mDEBUG   \u001b[0m \u001b[1;36m1\u001b[0m validation error for FileTools.list_files                                                               \n",
       "         path                                                                                                      \n",
       "           Unexpected keyword argument \u001b[1m[\u001b[0m\u001b[33mtype\u001b[0m=\u001b[35munexpected_keyword_argument\u001b[0m, \u001b[33minput_value\u001b[0m=\u001b[32m'../data/input'\u001b[0m,             \n",
       "         \u001b[33minput_type\u001b[0m=\u001b[35mstr\u001b[0m\u001b[1m]\u001b[0m                                                                                           \n",
       "             For further information visit \u001b[4;94mhttps://errors.pydantic.dev/2.10/v/unexpected_keyword_argument\u001b[0m          \n"
      ]
     },
     "metadata": {},
     "output_type": "display_data"
    },
    {
     "data": {
      "text/html": [
       "<pre style=\"white-space:pre;overflow-x:auto;line-height:normal;font-family:Menlo,'DejaVu Sans Mono',consolas,'Courier New',monospace\"><span style=\"color: #008000; text-decoration-color: #008000\">DEBUG   </span> **************** METRICS ****************                                                                 \n",
       "</pre>\n"
      ],
      "text/plain": [
       "\u001b[32mDEBUG   \u001b[0m **************** METRICS ****************                                                                 \n"
      ]
     },
     "metadata": {},
     "output_type": "display_data"
    },
    {
     "data": {
      "text/html": [
       "<pre style=\"white-space:pre;overflow-x:auto;line-height:normal;font-family:Menlo,'DejaVu Sans Mono',consolas,'Courier New',monospace\"><span style=\"color: #008000; text-decoration-color: #008000\">DEBUG   </span> * Time:                        <span style=\"color: #008080; text-decoration-color: #008080; font-weight: bold\">0.</span>0675s                                                                    \n",
       "</pre>\n"
      ],
      "text/plain": [
       "\u001b[32mDEBUG   \u001b[0m * Time:                        \u001b[1;36m0.\u001b[0m0675s                                                                    \n"
      ]
     },
     "metadata": {},
     "output_type": "display_data"
    },
    {
     "data": {
      "text/html": [
       "<pre style=\"white-space:pre;overflow-x:auto;line-height:normal;font-family:Menlo,'DejaVu Sans Mono',consolas,'Courier New',monospace\"><span style=\"color: #008000; text-decoration-color: #008000\">DEBUG   </span> **************** METRICS ******************                                                               \n",
       "</pre>\n"
      ],
      "text/plain": [
       "\u001b[32mDEBUG   \u001b[0m **************** METRICS ******************                                                               \n"
      ]
     },
     "metadata": {},
     "output_type": "display_data"
    },
    {
     "data": {
      "text/html": [
       "<pre style=\"white-space:pre;overflow-x:auto;line-height:normal;font-family:Menlo,'DejaVu Sans Mono',consolas,'Courier New',monospace\"><span style=\"color: #008000; text-decoration-color: #008000\">DEBUG   </span> ============== tool ==============                                                                        \n",
       "</pre>\n"
      ],
      "text/plain": [
       "\u001b[32mDEBUG   \u001b[0m ============== tool ==============                                                                        \n"
      ]
     },
     "metadata": {},
     "output_type": "display_data"
    },
    {
     "data": {
      "text/html": [
       "<pre style=\"white-space:pre;overflow-x:auto;line-height:normal;font-family:Menlo,'DejaVu Sans Mono',consolas,'Courier New',monospace\"><span style=\"color: #008000; text-decoration-color: #008000\">DEBUG   </span> Error reading file: <span style=\"font-weight: bold\">[</span>Errno <span style=\"color: #008080; text-decoration-color: #008080; font-weight: bold\">2</span><span style=\"font-weight: bold\">]</span> No such file or directory: <span style=\"color: #008000; text-decoration-color: #008000\">'c:\\\\Users\\\\JUAN\\\\Documents\\\\Universidad </span>        \n",
       "         <span style=\"color: #008000; text-decoration-color: #008000\">2024-2\\\\Redes neuronales\\\\Repos\\\\Agents\\\\notebooks\\\\..\\\\data\\\\input\\\\programacion_basica.md'</span>              \n",
       "</pre>\n"
      ],
      "text/plain": [
       "\u001b[32mDEBUG   \u001b[0m Error reading file: \u001b[1m[\u001b[0mErrno \u001b[1;36m2\u001b[0m\u001b[1m]\u001b[0m No such file or directory: \u001b[32m'c:\\\\Users\\\\JUAN\\\\Documents\\\\Universidad \u001b[0m        \n",
       "         \u001b[32m2024-2\\\\Redes neuronales\\\\Repos\\\\Agents\\\\notebooks\\\\..\\\\data\\\\input\\\\programacion_basica.md'\u001b[0m              \n"
      ]
     },
     "metadata": {},
     "output_type": "display_data"
    },
    {
     "data": {
      "text/html": [
       "<pre style=\"white-space:pre;overflow-x:auto;line-height:normal;font-family:Menlo,'DejaVu Sans Mono',consolas,'Courier New',monospace\"><span style=\"color: #008000; text-decoration-color: #008000\">DEBUG   </span> **************** METRICS ****************                                                                 \n",
       "</pre>\n"
      ],
      "text/plain": [
       "\u001b[32mDEBUG   \u001b[0m **************** METRICS ****************                                                                 \n"
      ]
     },
     "metadata": {},
     "output_type": "display_data"
    },
    {
     "data": {
      "text/html": [
       "<pre style=\"white-space:pre;overflow-x:auto;line-height:normal;font-family:Menlo,'DejaVu Sans Mono',consolas,'Courier New',monospace\"><span style=\"color: #008000; text-decoration-color: #008000\">DEBUG   </span> * Time:                        <span style=\"color: #008080; text-decoration-color: #008080; font-weight: bold\">0.</span>0085s                                                                    \n",
       "</pre>\n"
      ],
      "text/plain": [
       "\u001b[32mDEBUG   \u001b[0m * Time:                        \u001b[1;36m0.\u001b[0m0085s                                                                    \n"
      ]
     },
     "metadata": {},
     "output_type": "display_data"
    },
    {
     "data": {
      "text/html": [
       "<pre style=\"white-space:pre;overflow-x:auto;line-height:normal;font-family:Menlo,'DejaVu Sans Mono',consolas,'Courier New',monospace\"><span style=\"color: #008000; text-decoration-color: #008000\">DEBUG   </span> **************** METRICS ******************                                                               \n",
       "</pre>\n"
      ],
      "text/plain": [
       "\u001b[32mDEBUG   \u001b[0m **************** METRICS ******************                                                               \n"
      ]
     },
     "metadata": {},
     "output_type": "display_data"
    },
    {
     "data": {
      "text/html": [
       "<pre style=\"white-space:pre;overflow-x:auto;line-height:normal;font-family:Menlo,'DejaVu Sans Mono',consolas,'Courier New',monospace\"><span style=\"color: #008000; text-decoration-color: #008000\">DEBUG   </span> ============== tool ==============                                                                        \n",
       "</pre>\n"
      ],
      "text/plain": [
       "\u001b[32mDEBUG   \u001b[0m ============== tool ==============                                                                        \n"
      ]
     },
     "metadata": {},
     "output_type": "display_data"
    },
    {
     "data": {
      "text/html": [
       "<pre style=\"white-space:pre;overflow-x:auto;line-height:normal;font-family:Menlo,'DejaVu Sans Mono',consolas,'Courier New',monospace\"><span style=\"color: #008000; text-decoration-color: #008000\">DEBUG   </span> <span style=\"font-weight: bold\">[</span>                                                                                                         \n",
       "           <span style=\"font-weight: bold\">{</span>                                                                                                       \n",
       "             <span style=\"color: #008000; text-decoration-color: #008000\">\"title\"</span>: <span style=\"color: #008000; text-decoration-color: #008000\">\"Fundamentos de programaci\\u00f3n: Conceptos b\\u00e1sicos\"</span>,                                  \n",
       "             <span style=\"color: #008000; text-decoration-color: #008000\">\"href\"</span>: <span style=\"color: #008000; text-decoration-color: #008000\">\"https://informatecdigital.com/fundamentos-de-programacion-conceptos-basicos/\"</span>,               \n",
       "             <span style=\"color: #008000; text-decoration-color: #008000\">\"body\"</span>: <span style=\"color: #008000; text-decoration-color: #008000\">\"Los fundamentos de programaci\\u00f3n son los bloques de construcci\\u00f3n esenciales para </span>   \n",
       "         <span style=\"color: #008000; text-decoration-color: #008000\">cualquier principiante en el campo de la programaci\\u00f3n. En este art\\u00edculo, hemos explorado </span>       \n",
       "         <span style=\"color: #008000; text-decoration-color: #008000\">conceptos como variables, tipos de datos, operadores, estructuras de control, funciones, arreglos, </span>       \n",
       "         <span style=\"color: #008000; text-decoration-color: #008000\">programaci\\u00f3n orientada a objetos, manipulaci\\u00f3n de archivos y excepciones.\"</span>                      \n",
       "           <span style=\"font-weight: bold\">}</span>,                                                                                                      \n",
       "           <span style=\"font-weight: bold\">{</span>                                                                                                       \n",
       "             <span style=\"color: #008000; text-decoration-color: #008000\">\"title\"</span>: <span style=\"color: #008000; text-decoration-color: #008000\">\"Fundamentos de Programacion. Aprende a Programar desde Cero.\"</span>,                              \n",
       "             <span style=\"color: #008000; text-decoration-color: #008000\">\"href\"</span>: <span style=\"color: #008000; text-decoration-color: #008000\">\"https://www.areatecnologia.com/TUTORIALES/FUNDAMENTOS+DE+PROGRAMACION.htm\"</span>,                  \n",
       "             <span style=\"color: #008000; text-decoration-color: #008000\">\"body\"</span>: <span style=\"color: #008000; text-decoration-color: #008000\">\"Aprende los conceptos b\\u00e1sicos de programaci\\u00f3n, como el c\\u00f3digo binario, los </span>   \n",
       "         <span style=\"color: #008000; text-decoration-color: #008000\">lenguajes de alto y bajo nivel, los programas y los algoritmos. Este tutorial te explica con ejemplos y </span>  \n",
       "         <span style=\"color: #008000; text-decoration-color: #008000\">enlaces a otros recursos para elegir el lenguaje que quieras aprender.\"</span>                                   \n",
       "           <span style=\"font-weight: bold\">}</span>,                                                                                                      \n",
       "           <span style=\"font-weight: bold\">{</span>                                                                                                       \n",
       "             <span style=\"color: #008000; text-decoration-color: #008000\">\"title\"</span>: <span style=\"color: #008000; text-decoration-color: #008000\">\"PDF\"</span>,                                                                                       \n",
       "             <span style=\"color: #008000; text-decoration-color: #008000\">\"href\"</span>: <span style=\"color: #008000; text-decoration-color: #008000\">\"https://www.mheducation.es/bcv/guide/capitulo/844814645X.pdf\"</span>,                               \n",
       "             <span style=\"color: #008000; text-decoration-color: #008000\">\"body\"</span>: <span style=\"color: #008000; text-decoration-color: #008000\">\"Un libro que introduce a la ciencia de la computaci\\u00f3n y a la programaci\\u00f3n mediante </span>\n",
       "         <span style=\"color: #008000; text-decoration-color: #008000\">el lenguaje C++. Explica los conceptos b\\u00e1sicos de hardware, software, algoritmos, programaci\\u00f3n </span> \n",
       "         <span style=\"color: #008000; text-decoration-color: #008000\">estructurada y orientada a objetos, y el lenguaje UML 2.0.\"</span>                                               \n",
       "           <span style=\"font-weight: bold\">}</span>,                                                                                                      \n",
       "           <span style=\"font-weight: bold\">{</span>                                                                                                       \n",
       "             <span style=\"color: #008000; text-decoration-color: #008000\">\"title\"</span>: <span style=\"color: #008000; text-decoration-color: #008000\">\"Fundamentos de Programaci\\u00f3n - UNAM\"</span>,                                                   \n",
       "             <span style=\"color: #008000; text-decoration-color: #008000\">\"href\"</span>:                                                                                               \n",
       "         <span style=\"color: #008000; text-decoration-color: #008000\">\"https://prometeo.matem.unam.mx/recursos/VariosNiveles/iCartesiLibri/recursos/Fundamentos_de_Programacion/</span>\n",
       "         <span style=\"color: #008000; text-decoration-color: #008000\">index.html\"</span>,                                                                                              \n",
       "             <span style=\"color: #008000; text-decoration-color: #008000\">\"body\"</span>: <span style=\"color: #008000; text-decoration-color: #008000\">\"La inform\\u00e1tica. Para poder entender los tipos de datos y su utilizaci\\u00f3n en la </span>     \n",
       "         <span style=\"color: #008000; text-decoration-color: #008000\">l\\u00f3gica de programaci\\u00f3n y los distintos lenguajes, vamos primero a conocer y entender los </span>       \n",
       "         <span style=\"color: #008000; text-decoration-color: #008000\">fundamentos principales de la inform\\u00e1tica: A diario nos vemos en la necesidad de utilizar datos, </span>    \n",
       "         <span style=\"color: #008000; text-decoration-color: #008000\">recibir, procesar e intercambiar informaci\\u00f3n, pero no estamos conscientes de toda la l\\u00f3gica que </span>\n",
       "         <span style=\"color: #008000; text-decoration-color: #008000\">ello implica; lo que nos ...\"</span>                                                                             \n",
       "           <span style=\"font-weight: bold\">}</span>,                                                                                                      \n",
       "           <span style=\"font-weight: bold\">{</span>                                                                                                       \n",
       "             <span style=\"color: #008000; text-decoration-color: #008000\">\"title\"</span>: <span style=\"color: #008000; text-decoration-color: #008000\">\"Fundamentos de Programaci\\u00f3n - Udemy\"</span>,                                                  \n",
       "             <span style=\"color: #008000; text-decoration-color: #008000\">\"href\"</span>: <span style=\"color: #008000; text-decoration-color: #008000\">\"https://www.udemy.com/course/fundamentos-de-la-programacion/\"</span>,                               \n",
       "             <span style=\"color: #008000; text-decoration-color: #008000\">\"body\"</span>: <span style=\"color: #008000; text-decoration-color: #008000\">\"Fundamentos de Programaci\\u00f3n. Aprende las Bases de la Programaci\\u00f3n en 9 lenguajes a </span>\n",
       "         <span style=\"color: #008000; text-decoration-color: #008000\">la vez: Java, Python, Go, C++, PHP, Ruby, C#, JavaScript y C. Calificaci\\u00f3n: 4,6 de 5 4,6 (9 422 </span>     \n",
       "         <span style=\"color: #008000; text-decoration-color: #008000\">calificaciones) 22.748 estudiantes. Creado por Jose Javier Villena. \\u00daltima actualizaci\\u00f3n: </span>      \n",
       "         <span style=\"color: #008000; text-decoration-color: #008000\">8/2023. Espa\\u00f1ol.\"</span>                                                                                    \n",
       "           <span style=\"font-weight: bold\">}</span>,                                                                                                      \n",
       "           <span style=\"font-weight: bold\">{</span>                                                                                                       \n",
       "             <span style=\"color: #008000; text-decoration-color: #008000\">\"title\"</span>: <span style=\"color: #008000; text-decoration-color: #008000\">\"\\u00bfQu\\u00e9 es programaci\\u00f3n? Manual para principiantes - freeCodeCamp.org\"</span>,         \n",
       "             <span style=\"color: #008000; text-decoration-color: #008000\">\"href\"</span>: <span style=\"color: #008000; text-decoration-color: #008000\">\"https://www.freecodecamp.org/espanol/news/que-es-programacion-manual-para-principiantes/\"</span>,   \n",
       "             <span style=\"color: #008000; text-decoration-color: #008000\">\"body\"</span>: <span style=\"color: #008000; text-decoration-color: #008000\">\"Aprende qu\\u00e9 es programaci\\u00f3n, por qu\\u00e9 es importante, c\\u00f3mo funciona y </span>     \n",
       "         <span style=\"color: #008000; text-decoration-color: #008000\">qu\\u00e9 lenguajes existen. Este manual te gu\\u00eda paso a paso para iniciarte en el mundo de la </span>        \n",
       "         <span style=\"color: #008000; text-decoration-color: #008000\">programaci\\u00f3n y desarrollar habilidades \\u00fatiles y poderosas.\"</span>                                     \n",
       "           <span style=\"font-weight: bold\">}</span>,                                                                                                      \n",
       "           <span style=\"font-weight: bold\">{</span>                                                                                                       \n",
       "             <span style=\"color: #008000; text-decoration-color: #008000\">\"title\"</span>: <span style=\"color: #008000; text-decoration-color: #008000\">\"Fundamentos de Programaci\\u00f3n Inform\\u00e1tica: Todo lo que Necesitas Saber\"</span>,            \n",
       "             <span style=\"color: #008000; text-decoration-color: #008000\">\"href\"</span>:                                                                                               \n",
       "         <span style=\"color: #008000; text-decoration-color: #008000\">\"https://herschelgonzalez.com/fundamentos-de-programacion-informatica-todo-lo-que-necesitas-saber/\"</span>,      \n",
       "             <span style=\"color: #008000; text-decoration-color: #008000\">\"body\"</span>: <span style=\"color: #008000; text-decoration-color: #008000\">\"Curso de Fundamentos de Programaci\\u00f3n Inform\\u00e1tica. Si est\\u00e1s interesado en </span>     \n",
       "         <span style=\"color: #008000; text-decoration-color: #008000\">aprender m\\u00e1s sobre los fundamentos de programaci\\u00f3n inform\\u00e1tica, considera tomar un curso </span>  \n",
       "         <span style=\"color: #008000; text-decoration-color: #008000\">especializado. En estos cursos, aprender\\u00e1s desde los conceptos m\\u00e1s b\\u00e1sicos hasta </span>          \n",
       "         <span style=\"color: #008000; text-decoration-color: #008000\">t\\u00e9cnicas avanzadas de programaci\\u00f3n. \\u00a1No hay l\\u00edmite para lo que puedes lograr con un </span>  \n",
       "         <span style=\"color: #008000; text-decoration-color: #008000\">buen ...\"</span>                                                                                                 \n",
       "           <span style=\"font-weight: bold\">}</span>,                                                                                                      \n",
       "           <span style=\"font-weight: bold\">{</span>                                                                                                       \n",
       "             <span style=\"color: #008000; text-decoration-color: #008000\">\"title\"</span>: <span style=\"color: #008000; text-decoration-color: #008000\">\"Definici\\u00f3n de Fundamento de Programaci\\u00f3n: Ejemplos, Que es, Autores\"</span>,             \n",
       "             <span style=\"color: #008000; text-decoration-color: #008000\">\"href\"</span>:                                                                                               \n",
       "         <span style=\"color: #008000; text-decoration-color: #008000\">\"https://definicionwiki.com/definicion-de-fundamento-de-programacion-ejemplos-que-es-autores/\"</span>,           \n",
       "             <span style=\"color: #008000; text-decoration-color: #008000\">\"body\"</span>: <span style=\"color: #008000; text-decoration-color: #008000\">\"Definici\\u00f3n de Fundamento de Programaci\\u00f3n seg\\u00fan Autores. Seg\\u00fan el autor de</span>\n",
       "         <span style=\"color: #008000; text-decoration-color: #008000\">Introduction to the Theory of Computation (Introducci\\u00f3n a la teor\\u00eda de la computaci\\u00f3n), </span>   \n",
       "         <span style=\"color: #008000; text-decoration-color: #008000\">fundamento de programaci\\u00f3n se refiere a la comprensi\\u00f3n de los conceptos y principios que </span>       \n",
       "         <span style=\"color: #008000; text-decoration-color: #008000\">gobiernan la programaci\\u00f3n. Seg\\u00fan el autor de Algorithms (Algoritmos), el fundamento de </span>         \n",
       "         <span style=\"color: #008000; text-decoration-color: #008000\">programaci\\u00f3n es la base fundamental para ...\"</span>                                                        \n",
       "           <span style=\"font-weight: bold\">}</span>,                                                                                                      \n",
       "           <span style=\"font-weight: bold\">{</span>                                                                                                       \n",
       "             <span style=\"color: #008000; text-decoration-color: #008000\">\"title\"</span>: <span style=\"color: #008000; text-decoration-color: #008000\">\"Fundamentos y L\\u00f3gica de Programaci\\u00f3n para Principiantes\"</span>,                         \n",
       "             <span style=\"color: #008000; text-decoration-color: #008000\">\"href\"</span>: <span style=\"color: #008000; text-decoration-color: #008000\">\"https://www.udemy.com/course/fundamentos-programacion-curso/\"</span>,                               \n",
       "             <span style=\"color: #008000; text-decoration-color: #008000\">\"body\"</span>: <span style=\"color: #008000; text-decoration-color: #008000\">\"Si est\\u00e1s interesado en adentrarte en el emocionante mundo de la programaci\\u00f3n y el </span> \n",
       "         <span style=\"color: #008000; text-decoration-color: #008000\">desarrollo de software, est\\u00e1s en el lugar adecuado. Este curso de fundamentos y l\\u00f3gica de </span>      \n",
       "         <span style=\"color: #008000; text-decoration-color: #008000\">programaci\\u00f3n te guiar\\u00e1 desde cero, dot\\u00e1ndote de todos los conocimientos esenciales para </span>   \n",
       "         <span style=\"color: #008000; text-decoration-color: #008000\">comenzar tu viaje en la programaci\\u00f3n. Aqu\\u00ed, aprender\\u00e1s desde los conceptos ...\"</span>            \n",
       "           <span style=\"font-weight: bold\">}</span>,                                                                                                      \n",
       "           <span style=\"font-weight: bold\">{</span>                                                                                                       \n",
       "             <span style=\"color: #008000; text-decoration-color: #008000\">\"title\"</span>: <span style=\"color: #008000; text-decoration-color: #008000\">\"Aprendiendo programaci\\u00f3n: conceptos y elementos b\\u00e1sicos\"</span>,                         \n",
       "             <span style=\"color: #008000; text-decoration-color: #008000\">\"href\"</span>: <span style=\"color: #008000; text-decoration-color: #008000\">\"https://saberpedia.com/que-es-la-programacion-en-informatica/\"</span>,                              \n",
       "             <span style=\"color: #008000; text-decoration-color: #008000\">\"body\"</span>: <span style=\"color: #008000; text-decoration-color: #008000\">\"La programaci\\u00f3n es una habilidad fundamental en el mundo de la tecnolog\\u00eda y se ha </span> \n",
       "         <span style=\"color: #008000; text-decoration-color: #008000\">convertido en una parte integral de nuestra vida cotidiana. En el art\\u00edculo \\u00abAprendiendo </span>        \n",
       "         <span style=\"color: #008000; text-decoration-color: #008000\">programaci\\u00f3n: conceptos y elementos b\\u00e1sicos\\u00bb, exploraremos los fundamentos de la </span>          \n",
       "         <span style=\"color: #008000; text-decoration-color: #008000\">programaci\\u00f3n y los elementos clave que es la programaci\\u00f3n en inform\\u00e1tica que la componen. .</span>\n",
       "         <span style=\"color: #008000; text-decoration-color: #008000\">Desde la organizaci\\u00f3n de una secuencia de ...\"</span>                                                       \n",
       "           <span style=\"font-weight: bold\">}</span>                                                                                                       \n",
       "         <span style=\"font-weight: bold\">]</span>                                                                                                         \n",
       "</pre>\n"
      ],
      "text/plain": [
       "\u001b[32mDEBUG   \u001b[0m \u001b[1m[\u001b[0m                                                                                                         \n",
       "           \u001b[1m{\u001b[0m                                                                                                       \n",
       "             \u001b[32m\"title\"\u001b[0m: \u001b[32m\"Fundamentos de programaci\\u00f3n: Conceptos b\\u00e1sicos\"\u001b[0m,                                  \n",
       "             \u001b[32m\"href\"\u001b[0m: \u001b[32m\"https://informatecdigital.com/fundamentos-de-programacion-conceptos-basicos/\"\u001b[0m,               \n",
       "             \u001b[32m\"body\"\u001b[0m: \u001b[32m\"Los fundamentos de programaci\\u00f3n son los bloques de construcci\\u00f3n esenciales para \u001b[0m   \n",
       "         \u001b[32mcualquier principiante en el campo de la programaci\\u00f3n. En este art\\u00edculo, hemos explorado \u001b[0m       \n",
       "         \u001b[32mconceptos como variables, tipos de datos, operadores, estructuras de control, funciones, arreglos, \u001b[0m       \n",
       "         \u001b[32mprogramaci\\u00f3n orientada a objetos, manipulaci\\u00f3n de archivos y excepciones.\"\u001b[0m                      \n",
       "           \u001b[1m}\u001b[0m,                                                                                                      \n",
       "           \u001b[1m{\u001b[0m                                                                                                       \n",
       "             \u001b[32m\"title\"\u001b[0m: \u001b[32m\"Fundamentos de Programacion. Aprende a Programar desde Cero.\"\u001b[0m,                              \n",
       "             \u001b[32m\"href\"\u001b[0m: \u001b[32m\"https://www.areatecnologia.com/TUTORIALES/FUNDAMENTOS+DE+PROGRAMACION.htm\"\u001b[0m,                  \n",
       "             \u001b[32m\"body\"\u001b[0m: \u001b[32m\"Aprende los conceptos b\\u00e1sicos de programaci\\u00f3n, como el c\\u00f3digo binario, los \u001b[0m   \n",
       "         \u001b[32mlenguajes de alto y bajo nivel, los programas y los algoritmos. Este tutorial te explica con ejemplos y \u001b[0m  \n",
       "         \u001b[32menlaces a otros recursos para elegir el lenguaje que quieras aprender.\"\u001b[0m                                   \n",
       "           \u001b[1m}\u001b[0m,                                                                                                      \n",
       "           \u001b[1m{\u001b[0m                                                                                                       \n",
       "             \u001b[32m\"title\"\u001b[0m: \u001b[32m\"PDF\"\u001b[0m,                                                                                       \n",
       "             \u001b[32m\"href\"\u001b[0m: \u001b[32m\"https://www.mheducation.es/bcv/guide/capitulo/844814645X.pdf\"\u001b[0m,                               \n",
       "             \u001b[32m\"body\"\u001b[0m: \u001b[32m\"Un libro que introduce a la ciencia de la computaci\\u00f3n y a la programaci\\u00f3n mediante \u001b[0m\n",
       "         \u001b[32mel lenguaje C++. Explica los conceptos b\\u00e1sicos de hardware, software, algoritmos, programaci\\u00f3n \u001b[0m \n",
       "         \u001b[32mestructurada y orientada a objetos, y el lenguaje UML 2.0.\"\u001b[0m                                               \n",
       "           \u001b[1m}\u001b[0m,                                                                                                      \n",
       "           \u001b[1m{\u001b[0m                                                                                                       \n",
       "             \u001b[32m\"title\"\u001b[0m: \u001b[32m\"Fundamentos de Programaci\\u00f3n - UNAM\"\u001b[0m,                                                   \n",
       "             \u001b[32m\"href\"\u001b[0m:                                                                                               \n",
       "         \u001b[32m\"https://prometeo.matem.unam.mx/recursos/VariosNiveles/iCartesiLibri/recursos/Fundamentos_de_Programacion/\u001b[0m\n",
       "         \u001b[32mindex.html\"\u001b[0m,                                                                                              \n",
       "             \u001b[32m\"body\"\u001b[0m: \u001b[32m\"La inform\\u00e1tica. Para poder entender los tipos de datos y su utilizaci\\u00f3n en la \u001b[0m     \n",
       "         \u001b[32ml\\u00f3gica de programaci\\u00f3n y los distintos lenguajes, vamos primero a conocer y entender los \u001b[0m       \n",
       "         \u001b[32mfundamentos principales de la inform\\u00e1tica: A diario nos vemos en la necesidad de utilizar datos, \u001b[0m    \n",
       "         \u001b[32mrecibir, procesar e intercambiar informaci\\u00f3n, pero no estamos conscientes de toda la l\\u00f3gica que \u001b[0m\n",
       "         \u001b[32mello implica; lo que nos ...\"\u001b[0m                                                                             \n",
       "           \u001b[1m}\u001b[0m,                                                                                                      \n",
       "           \u001b[1m{\u001b[0m                                                                                                       \n",
       "             \u001b[32m\"title\"\u001b[0m: \u001b[32m\"Fundamentos de Programaci\\u00f3n - Udemy\"\u001b[0m,                                                  \n",
       "             \u001b[32m\"href\"\u001b[0m: \u001b[32m\"https://www.udemy.com/course/fundamentos-de-la-programacion/\"\u001b[0m,                               \n",
       "             \u001b[32m\"body\"\u001b[0m: \u001b[32m\"Fundamentos de Programaci\\u00f3n. Aprende las Bases de la Programaci\\u00f3n en 9 lenguajes a \u001b[0m\n",
       "         \u001b[32mla vez: Java, Python, Go, C++, PHP, Ruby, C#, JavaScript y C. Calificaci\\u00f3n: 4,6 de 5 4,6 \u001b[0m\u001b[32m(\u001b[0m\u001b[32m9 422 \u001b[0m     \n",
       "         \u001b[32mcalificaciones\u001b[0m\u001b[32m)\u001b[0m\u001b[32m 22.748 estudiantes. Creado por Jose Javier Villena. \\u00daltima actualizaci\\u00f3n: \u001b[0m      \n",
       "         \u001b[32m8/2023. Espa\\u00f1ol.\"\u001b[0m                                                                                    \n",
       "           \u001b[1m}\u001b[0m,                                                                                                      \n",
       "           \u001b[1m{\u001b[0m                                                                                                       \n",
       "             \u001b[32m\"title\"\u001b[0m: \u001b[32m\"\\u00bfQu\\u00e9 es programaci\\u00f3n? Manual para principiantes - freeCodeCamp.org\"\u001b[0m,         \n",
       "             \u001b[32m\"href\"\u001b[0m: \u001b[32m\"https://www.freecodecamp.org/espanol/news/que-es-programacion-manual-para-principiantes/\"\u001b[0m,   \n",
       "             \u001b[32m\"body\"\u001b[0m: \u001b[32m\"Aprende qu\\u00e9 es programaci\\u00f3n, por qu\\u00e9 es importante, c\\u00f3mo funciona y \u001b[0m     \n",
       "         \u001b[32mqu\\u00e9 lenguajes existen. Este manual te gu\\u00eda paso a paso para iniciarte en el mundo de la \u001b[0m        \n",
       "         \u001b[32mprogramaci\\u00f3n y desarrollar habilidades \\u00fatiles y poderosas.\"\u001b[0m                                     \n",
       "           \u001b[1m}\u001b[0m,                                                                                                      \n",
       "           \u001b[1m{\u001b[0m                                                                                                       \n",
       "             \u001b[32m\"title\"\u001b[0m: \u001b[32m\"Fundamentos de Programaci\\u00f3n Inform\\u00e1tica: Todo lo que Necesitas Saber\"\u001b[0m,            \n",
       "             \u001b[32m\"href\"\u001b[0m:                                                                                               \n",
       "         \u001b[32m\"https://herschelgonzalez.com/fundamentos-de-programacion-informatica-todo-lo-que-necesitas-saber/\"\u001b[0m,      \n",
       "             \u001b[32m\"body\"\u001b[0m: \u001b[32m\"Curso de Fundamentos de Programaci\\u00f3n Inform\\u00e1tica. Si est\\u00e1s interesado en \u001b[0m     \n",
       "         \u001b[32maprender m\\u00e1s sobre los fundamentos de programaci\\u00f3n inform\\u00e1tica, considera tomar un curso \u001b[0m  \n",
       "         \u001b[32mespecializado. En estos cursos, aprender\\u00e1s desde los conceptos m\\u00e1s b\\u00e1sicos hasta \u001b[0m          \n",
       "         \u001b[32mt\\u00e9cnicas avanzadas de programaci\\u00f3n. \\u00a1No hay l\\u00edmite para lo que puedes lograr con un \u001b[0m  \n",
       "         \u001b[32mbuen ...\"\u001b[0m                                                                                                 \n",
       "           \u001b[1m}\u001b[0m,                                                                                                      \n",
       "           \u001b[1m{\u001b[0m                                                                                                       \n",
       "             \u001b[32m\"title\"\u001b[0m: \u001b[32m\"Definici\\u00f3n de Fundamento de Programaci\\u00f3n: Ejemplos, Que es, Autores\"\u001b[0m,             \n",
       "             \u001b[32m\"href\"\u001b[0m:                                                                                               \n",
       "         \u001b[32m\"https://definicionwiki.com/definicion-de-fundamento-de-programacion-ejemplos-que-es-autores/\"\u001b[0m,           \n",
       "             \u001b[32m\"body\"\u001b[0m: \u001b[32m\"Definici\\u00f3n de Fundamento de Programaci\\u00f3n seg\\u00fan Autores. Seg\\u00fan el autor de\u001b[0m\n",
       "         \u001b[32mIntroduction to the Theory of Computation \u001b[0m\u001b[32m(\u001b[0m\u001b[32mIntroducci\\u00f3n a la teor\\u00eda de la computaci\\u00f3n\u001b[0m\u001b[32m)\u001b[0m\u001b[32m, \u001b[0m   \n",
       "         \u001b[32mfundamento de programaci\\u00f3n se refiere a la comprensi\\u00f3n de los conceptos y principios que \u001b[0m       \n",
       "         \u001b[32mgobiernan la programaci\\u00f3n. Seg\\u00fan el autor de Algorithms \u001b[0m\u001b[32m(\u001b[0m\u001b[32mAlgoritmos\u001b[0m\u001b[32m)\u001b[0m\u001b[32m, el fundamento de \u001b[0m         \n",
       "         \u001b[32mprogramaci\\u00f3n es la base fundamental para ...\"\u001b[0m                                                        \n",
       "           \u001b[1m}\u001b[0m,                                                                                                      \n",
       "           \u001b[1m{\u001b[0m                                                                                                       \n",
       "             \u001b[32m\"title\"\u001b[0m: \u001b[32m\"Fundamentos y L\\u00f3gica de Programaci\\u00f3n para Principiantes\"\u001b[0m,                         \n",
       "             \u001b[32m\"href\"\u001b[0m: \u001b[32m\"https://www.udemy.com/course/fundamentos-programacion-curso/\"\u001b[0m,                               \n",
       "             \u001b[32m\"body\"\u001b[0m: \u001b[32m\"Si est\\u00e1s interesado en adentrarte en el emocionante mundo de la programaci\\u00f3n y el \u001b[0m \n",
       "         \u001b[32mdesarrollo de software, est\\u00e1s en el lugar adecuado. Este curso de fundamentos y l\\u00f3gica de \u001b[0m      \n",
       "         \u001b[32mprogramaci\\u00f3n te guiar\\u00e1 desde cero, dot\\u00e1ndote de todos los conocimientos esenciales para \u001b[0m   \n",
       "         \u001b[32mcomenzar tu viaje en la programaci\\u00f3n. Aqu\\u00ed, aprender\\u00e1s desde los conceptos ...\"\u001b[0m            \n",
       "           \u001b[1m}\u001b[0m,                                                                                                      \n",
       "           \u001b[1m{\u001b[0m                                                                                                       \n",
       "             \u001b[32m\"title\"\u001b[0m: \u001b[32m\"Aprendiendo programaci\\u00f3n: conceptos y elementos b\\u00e1sicos\"\u001b[0m,                         \n",
       "             \u001b[32m\"href\"\u001b[0m: \u001b[32m\"https://saberpedia.com/que-es-la-programacion-en-informatica/\"\u001b[0m,                              \n",
       "             \u001b[32m\"body\"\u001b[0m: \u001b[32m\"La programaci\\u00f3n es una habilidad fundamental en el mundo de la tecnolog\\u00eda y se ha \u001b[0m \n",
       "         \u001b[32mconvertido en una parte integral de nuestra vida cotidiana. En el art\\u00edculo \\u00abAprendiendo \u001b[0m        \n",
       "         \u001b[32mprogramaci\\u00f3n: conceptos y elementos b\\u00e1sicos\\u00bb, exploraremos los fundamentos de la \u001b[0m          \n",
       "         \u001b[32mprogramaci\\u00f3n y los elementos clave que es la programaci\\u00f3n en inform\\u00e1tica que la componen. .\u001b[0m\n",
       "         \u001b[32mDesde la organizaci\\u00f3n de una secuencia de ...\"\u001b[0m                                                       \n",
       "           \u001b[1m}\u001b[0m                                                                                                       \n",
       "         \u001b[1m]\u001b[0m                                                                                                         \n"
      ]
     },
     "metadata": {},
     "output_type": "display_data"
    },
    {
     "data": {
      "text/html": [
       "<pre style=\"white-space:pre;overflow-x:auto;line-height:normal;font-family:Menlo,'DejaVu Sans Mono',consolas,'Courier New',monospace\"><span style=\"color: #008000; text-decoration-color: #008000\">DEBUG   </span> **************** METRICS ****************                                                                 \n",
       "</pre>\n"
      ],
      "text/plain": [
       "\u001b[32mDEBUG   \u001b[0m **************** METRICS ****************                                                                 \n"
      ]
     },
     "metadata": {},
     "output_type": "display_data"
    },
    {
     "data": {
      "text/html": [
       "<pre style=\"white-space:pre;overflow-x:auto;line-height:normal;font-family:Menlo,'DejaVu Sans Mono',consolas,'Courier New',monospace\"><span style=\"color: #008000; text-decoration-color: #008000\">DEBUG   </span> * Time:                        <span style=\"color: #008080; text-decoration-color: #008080; font-weight: bold\">1.</span>8449s                                                                    \n",
       "</pre>\n"
      ],
      "text/plain": [
       "\u001b[32mDEBUG   \u001b[0m * Time:                        \u001b[1;36m1.\u001b[0m8449s                                                                    \n"
      ]
     },
     "metadata": {},
     "output_type": "display_data"
    },
    {
     "data": {
      "text/html": [
       "<pre style=\"white-space:pre;overflow-x:auto;line-height:normal;font-family:Menlo,'DejaVu Sans Mono',consolas,'Courier New',monospace\"><span style=\"color: #008000; text-decoration-color: #008000\">DEBUG   </span> **************** METRICS ******************                                                               \n",
       "</pre>\n"
      ],
      "text/plain": [
       "\u001b[32mDEBUG   \u001b[0m **************** METRICS ******************                                                               \n"
      ]
     },
     "metadata": {},
     "output_type": "display_data"
    },
    {
     "data": {
      "text/html": [
       "<pre style=\"white-space:pre;overflow-x:auto;line-height:normal;font-family:Menlo,'DejaVu Sans Mono',consolas,'Courier New',monospace\"><span style=\"color: #008000; text-decoration-color: #008000\">DEBUG   </span> ============== tool ==============                                                                        \n",
       "</pre>\n"
      ],
      "text/plain": [
       "\u001b[32mDEBUG   \u001b[0m ============== tool ==============                                                                        \n"
      ]
     },
     "metadata": {},
     "output_type": "display_data"
    },
    {
     "data": {
      "text/html": [
       "<pre style=\"white-space:pre;overflow-x:auto;line-height:normal;font-family:Menlo,'DejaVu Sans Mono',consolas,'Courier New',monospace\"><span style=\"color: #008000; text-decoration-color: #008000\">DEBUG   </span> ..<span style=\"color: #800080; text-decoration-color: #800080\">/data/output/</span><span style=\"color: #ff00ff; text-decoration-color: #ff00ff\">notas_de_clase_fundamentos_programacion.md</span>                                                 \n",
       "</pre>\n"
      ],
      "text/plain": [
       "\u001b[32mDEBUG   \u001b[0m ..\u001b[35m/data/output/\u001b[0m\u001b[95mnotas_de_clase_fundamentos_programacion.md\u001b[0m                                                 \n"
      ]
     },
     "metadata": {},
     "output_type": "display_data"
    },
    {
     "data": {
      "text/html": [
       "<pre style=\"white-space:pre;overflow-x:auto;line-height:normal;font-family:Menlo,'DejaVu Sans Mono',consolas,'Courier New',monospace\"><span style=\"color: #008000; text-decoration-color: #008000\">DEBUG   </span> **************** METRICS ****************                                                                 \n",
       "</pre>\n"
      ],
      "text/plain": [
       "\u001b[32mDEBUG   \u001b[0m **************** METRICS ****************                                                                 \n"
      ]
     },
     "metadata": {},
     "output_type": "display_data"
    },
    {
     "data": {
      "text/html": [
       "<pre style=\"white-space:pre;overflow-x:auto;line-height:normal;font-family:Menlo,'DejaVu Sans Mono',consolas,'Courier New',monospace\"><span style=\"color: #008000; text-decoration-color: #008000\">DEBUG   </span> * Time:                        <span style=\"color: #008080; text-decoration-color: #008080; font-weight: bold\">0.</span>0050s                                                                    \n",
       "</pre>\n"
      ],
      "text/plain": [
       "\u001b[32mDEBUG   \u001b[0m * Time:                        \u001b[1;36m0.\u001b[0m0050s                                                                    \n"
      ]
     },
     "metadata": {},
     "output_type": "display_data"
    },
    {
     "data": {
      "text/html": [
       "<pre style=\"white-space:pre;overflow-x:auto;line-height:normal;font-family:Menlo,'DejaVu Sans Mono',consolas,'Courier New',monospace\"><span style=\"color: #008000; text-decoration-color: #008000\">DEBUG   </span> **************** METRICS ******************                                                               \n",
       "</pre>\n"
      ],
      "text/plain": [
       "\u001b[32mDEBUG   \u001b[0m **************** METRICS ******************                                                               \n"
      ]
     },
     "metadata": {},
     "output_type": "display_data"
    },
    {
     "data": {
      "text/html": [
       "<pre style=\"white-space:pre;overflow-x:auto;line-height:normal;font-family:Menlo,'DejaVu Sans Mono',consolas,'Courier New',monospace\"><span style=\"color: #008000; text-decoration-color: #008000\">DEBUG   </span> ============== assistant ==============                                                                   \n",
       "</pre>\n"
      ],
      "text/plain": [
       "\u001b[32mDEBUG   \u001b[0m ============== assistant ==============                                                                   \n"
      ]
     },
     "metadata": {},
     "output_type": "display_data"
    },
    {
     "data": {
      "text/html": [
       "<pre style=\"white-space:pre;overflow-x:auto;line-height:normal;font-family:Menlo,'DejaVu Sans Mono',consolas,'Courier New',monospace\"><span style=\"color: #008000; text-decoration-color: #008000\">DEBUG   </span> **Lecture: Fundamentals of Programming**                                                                  \n",
       "         =====================================                                                                     \n",
       "                                                                                                                   \n",
       "         ### Section <span style=\"color: #008080; text-decoration-color: #008080; font-weight: bold\">1</span>: Introduction to Programming                                                                \n",
       "         -----------------------------------------                                                                 \n",
       "                                                                                                                   \n",
       "         *   Definition of programming and its importance in modern technology.                                    \n",
       "         *   Brief history of programming languages and their evolution.                                           \n",
       "                                                                                                                   \n",
       "         ### Section <span style=\"color: #008080; text-decoration-color: #008080; font-weight: bold\">2</span>: Basic Programming Concepts                                                                 \n",
       "         ------------------------------------------                                                                \n",
       "                                                                                                                   \n",
       "         *   Variables, data types, and operators.                                                                 \n",
       "         *   Control structures: conditional statements, loops, and functions.                                     \n",
       "         *   Arrays and strings: declaration, indexing, and manipulation.                                          \n",
       "                                                                                                                   \n",
       "         ### Section <span style=\"color: #008080; text-decoration-color: #008080; font-weight: bold\">3</span>: Functions and Modules                                                                      \n",
       "         -------------------------------------                                                                     \n",
       "                                                                                                                   \n",
       "         *   Function definitions, parameters, and return values.                                                  \n",
       "         *   Modular programming: benefits, structure, and use cases.                                              \n",
       "         *   Creating and using libraries in popular programming languages.                                        \n",
       "                                                                                                                   \n",
       "         ### Section <span style=\"color: #008080; text-decoration-color: #008080; font-weight: bold\">4</span>: Object-Oriented Programming <span style=\"font-weight: bold\">(</span>OOP<span style=\"font-weight: bold\">)</span>                                                          \n",
       "         ------------------------------------------------                                                          \n",
       "                                                                                                                   \n",
       "         *   Introduction to OOP principles: encapsulation, inheritance, and polymorphism.                         \n",
       "         *   Classes, objects, and interfaces: syntax and usage examples.                                          \n",
       "         *   Design patterns and best practices for OOP implementation.                                            \n",
       "                                                                                                                   \n",
       "         ### Section <span style=\"color: #008080; text-decoration-color: #008080; font-weight: bold\">5</span>: Error Handling and Debugging                                                               \n",
       "         ------------------------------------------                                                                \n",
       "                                                                                                                   \n",
       "         *   Understanding errors and exceptions in programming.                                                   \n",
       "         *   Try-catch blocks and exception handling strategies.                                                   \n",
       "         *   Tools and techniques for debugging code efficiently.                                                  \n",
       "                                                                                                                   \n",
       "         ### Conclusion                                                                                            \n",
       "         -------------                                                                                             \n",
       "                                                                                                                   \n",
       "         *   Recap of key concepts and takeaways from the lecture.                                                 \n",
       "         *   Encouragement to practice and explore further resources.                                              \n",
       "                                                                                                                   \n",
       "         **Additional Resources:**                                                                                 \n",
       "                                                                                                                   \n",
       "         *   <span style=\"font-weight: bold\">[</span>Python documentation<span style=\"font-weight: bold\">](</span><span style=\"color: #0000ff; text-decoration-color: #0000ff; text-decoration: underline\">https://docs.python.org/3/)</span>                                                    \n",
       "         *   <span style=\"font-weight: bold\">[</span>Codecademy's Python course<span style=\"font-weight: bold\">](</span><span style=\"color: #0000ff; text-decoration-color: #0000ff; text-decoration: underline\">https://www.codecademy.com/learn/learn-python-3)</span>                         \n",
       "         *   <span style=\"font-weight: bold\">[</span>GeeksforGeeks programming concepts<span style=\"font-weight: bold\">](</span><span style=\"color: #0000ff; text-decoration-color: #0000ff; text-decoration: underline\">https://www.geeksforgeeks.org/python-programming-language/)</span>      \n",
       "</pre>\n"
      ],
      "text/plain": [
       "\u001b[32mDEBUG   \u001b[0m **Lecture: Fundamentals of Programming**                                                                  \n",
       "         =====================================                                                                     \n",
       "                                                                                                                   \n",
       "         ### Section \u001b[1;36m1\u001b[0m: Introduction to Programming                                                                \n",
       "         -----------------------------------------                                                                 \n",
       "                                                                                                                   \n",
       "         *   Definition of programming and its importance in modern technology.                                    \n",
       "         *   Brief history of programming languages and their evolution.                                           \n",
       "                                                                                                                   \n",
       "         ### Section \u001b[1;36m2\u001b[0m: Basic Programming Concepts                                                                 \n",
       "         ------------------------------------------                                                                \n",
       "                                                                                                                   \n",
       "         *   Variables, data types, and operators.                                                                 \n",
       "         *   Control structures: conditional statements, loops, and functions.                                     \n",
       "         *   Arrays and strings: declaration, indexing, and manipulation.                                          \n",
       "                                                                                                                   \n",
       "         ### Section \u001b[1;36m3\u001b[0m: Functions and Modules                                                                      \n",
       "         -------------------------------------                                                                     \n",
       "                                                                                                                   \n",
       "         *   Function definitions, parameters, and return values.                                                  \n",
       "         *   Modular programming: benefits, structure, and use cases.                                              \n",
       "         *   Creating and using libraries in popular programming languages.                                        \n",
       "                                                                                                                   \n",
       "         ### Section \u001b[1;36m4\u001b[0m: Object-Oriented Programming \u001b[1m(\u001b[0mOOP\u001b[1m)\u001b[0m                                                          \n",
       "         ------------------------------------------------                                                          \n",
       "                                                                                                                   \n",
       "         *   Introduction to OOP principles: encapsulation, inheritance, and polymorphism.                         \n",
       "         *   Classes, objects, and interfaces: syntax and usage examples.                                          \n",
       "         *   Design patterns and best practices for OOP implementation.                                            \n",
       "                                                                                                                   \n",
       "         ### Section \u001b[1;36m5\u001b[0m: Error Handling and Debugging                                                               \n",
       "         ------------------------------------------                                                                \n",
       "                                                                                                                   \n",
       "         *   Understanding errors and exceptions in programming.                                                   \n",
       "         *   Try-catch blocks and exception handling strategies.                                                   \n",
       "         *   Tools and techniques for debugging code efficiently.                                                  \n",
       "                                                                                                                   \n",
       "         ### Conclusion                                                                                            \n",
       "         -------------                                                                                             \n",
       "                                                                                                                   \n",
       "         *   Recap of key concepts and takeaways from the lecture.                                                 \n",
       "         *   Encouragement to practice and explore further resources.                                              \n",
       "                                                                                                                   \n",
       "         **Additional Resources:**                                                                                 \n",
       "                                                                                                                   \n",
       "         *   \u001b[1m[\u001b[0mPython documentation\u001b[1m]\u001b[0m\u001b[1m(\u001b[0m\u001b[4;94mhttps://docs.python.org/3/\u001b[0m\u001b[4;94m)\u001b[0m                                                    \n",
       "         *   \u001b[1m[\u001b[0mCodecademy's Python course\u001b[1m]\u001b[0m\u001b[1m(\u001b[0m\u001b[4;94mhttps://www.codecademy.com/learn/learn-python-3\u001b[0m\u001b[4;94m)\u001b[0m                         \n",
       "         *   \u001b[1m[\u001b[0mGeeksforGeeks programming concepts\u001b[1m]\u001b[0m\u001b[1m(\u001b[0m\u001b[4;94mhttps://www.geeksforgeeks.org/python-programming-language/\u001b[0m\u001b[4;94m)\u001b[0m      \n"
      ]
     },
     "metadata": {},
     "output_type": "display_data"
    },
    {
     "data": {
      "text/html": [
       "<pre style=\"white-space:pre;overflow-x:auto;line-height:normal;font-family:Menlo,'DejaVu Sans Mono',consolas,'Courier New',monospace\"><span style=\"color: #008000; text-decoration-color: #008000\">DEBUG   </span> **************** METRICS ****************                                                                 \n",
       "</pre>\n"
      ],
      "text/plain": [
       "\u001b[32mDEBUG   \u001b[0m **************** METRICS ****************                                                                 \n"
      ]
     },
     "metadata": {},
     "output_type": "display_data"
    },
    {
     "data": {
      "text/html": [
       "<pre style=\"white-space:pre;overflow-x:auto;line-height:normal;font-family:Menlo,'DejaVu Sans Mono',consolas,'Courier New',monospace\"><span style=\"color: #008000; text-decoration-color: #008000\">DEBUG   </span> * Input tokens:                <span style=\"color: #008080; text-decoration-color: #008080; font-weight: bold\">334</span>                                                                        \n",
       "</pre>\n"
      ],
      "text/plain": [
       "\u001b[32mDEBUG   \u001b[0m * Input tokens:                \u001b[1;36m334\u001b[0m                                                                        \n"
      ]
     },
     "metadata": {},
     "output_type": "display_data"
    },
    {
     "data": {
      "text/html": [
       "<pre style=\"white-space:pre;overflow-x:auto;line-height:normal;font-family:Menlo,'DejaVu Sans Mono',consolas,'Courier New',monospace\"><span style=\"color: #008000; text-decoration-color: #008000\">DEBUG   </span> * Output tokens:               <span style=\"color: #008080; text-decoration-color: #008080; font-weight: bold\">340</span>                                                                        \n",
       "</pre>\n"
      ],
      "text/plain": [
       "\u001b[32mDEBUG   \u001b[0m * Output tokens:               \u001b[1;36m340\u001b[0m                                                                        \n"
      ]
     },
     "metadata": {},
     "output_type": "display_data"
    },
    {
     "data": {
      "text/html": [
       "<pre style=\"white-space:pre;overflow-x:auto;line-height:normal;font-family:Menlo,'DejaVu Sans Mono',consolas,'Courier New',monospace\"><span style=\"color: #008000; text-decoration-color: #008000\">DEBUG   </span> * Total tokens:                <span style=\"color: #008080; text-decoration-color: #008080; font-weight: bold\">674</span>                                                                        \n",
       "</pre>\n"
      ],
      "text/plain": [
       "\u001b[32mDEBUG   \u001b[0m * Total tokens:                \u001b[1;36m674\u001b[0m                                                                        \n"
      ]
     },
     "metadata": {},
     "output_type": "display_data"
    },
    {
     "data": {
      "text/html": [
       "<pre style=\"white-space:pre;overflow-x:auto;line-height:normal;font-family:Menlo,'DejaVu Sans Mono',consolas,'Courier New',monospace\"><span style=\"color: #008000; text-decoration-color: #008000\">DEBUG   </span> * Time:                        <span style=\"color: #008080; text-decoration-color: #008080; font-weight: bold\">104.</span>3143s                                                                  \n",
       "</pre>\n"
      ],
      "text/plain": [
       "\u001b[32mDEBUG   \u001b[0m * Time:                        \u001b[1;36m104.\u001b[0m3143s                                                                  \n"
      ]
     },
     "metadata": {},
     "output_type": "display_data"
    },
    {
     "data": {
      "text/html": [
       "<pre style=\"white-space:pre;overflow-x:auto;line-height:normal;font-family:Menlo,'DejaVu Sans Mono',consolas,'Courier New',monospace\"><span style=\"color: #008000; text-decoration-color: #008000\">DEBUG   </span> * Tokens per second:           <span style=\"color: #008080; text-decoration-color: #008080; font-weight: bold\">3.2594</span> tokens/s                                                            \n",
       "</pre>\n"
      ],
      "text/plain": [
       "\u001b[32mDEBUG   \u001b[0m * Tokens per second:           \u001b[1;36m3.2594\u001b[0m tokens/s                                                            \n"
      ]
     },
     "metadata": {},
     "output_type": "display_data"
    },
    {
     "data": {
      "text/html": [
       "<pre style=\"white-space:pre;overflow-x:auto;line-height:normal;font-family:Menlo,'DejaVu Sans Mono',consolas,'Courier New',monospace\"><span style=\"color: #008000; text-decoration-color: #008000\">DEBUG   </span> * Additional metrics:          <span style=\"font-weight: bold\">{</span><span style=\"color: #008000; text-decoration-color: #008000\">'total_duration'</span>: <span style=\"color: #008080; text-decoration-color: #008080; font-weight: bold\">104307320100</span>, <span style=\"color: #008000; text-decoration-color: #008000\">'load_duration'</span>: <span style=\"color: #008080; text-decoration-color: #008080; font-weight: bold\">52878300</span>,                \n",
       "         <span style=\"color: #008000; text-decoration-color: #008000\">'prompt_eval_duration'</span>: <span style=\"color: #008080; text-decoration-color: #008080; font-weight: bold\">4000000000</span>, <span style=\"color: #008000; text-decoration-color: #008000\">'eval_duration'</span>: <span style=\"color: #008080; text-decoration-color: #008080; font-weight: bold\">100139000000</span><span style=\"font-weight: bold\">}</span>                                        \n",
       "</pre>\n"
      ],
      "text/plain": [
       "\u001b[32mDEBUG   \u001b[0m * Additional metrics:          \u001b[1m{\u001b[0m\u001b[32m'total_duration'\u001b[0m: \u001b[1;36m104307320100\u001b[0m, \u001b[32m'load_duration'\u001b[0m: \u001b[1;36m52878300\u001b[0m,                \n",
       "         \u001b[32m'prompt_eval_duration'\u001b[0m: \u001b[1;36m4000000000\u001b[0m, \u001b[32m'eval_duration'\u001b[0m: \u001b[1;36m100139000000\u001b[0m\u001b[1m}\u001b[0m                                        \n"
      ]
     },
     "metadata": {},
     "output_type": "display_data"
    },
    {
     "data": {
      "text/html": [
       "<pre style=\"white-space:pre;overflow-x:auto;line-height:normal;font-family:Menlo,'DejaVu Sans Mono',consolas,'Courier New',monospace\"><span style=\"color: #008000; text-decoration-color: #008000\">DEBUG   </span> **************** METRICS ******************                                                               \n",
       "</pre>\n"
      ],
      "text/plain": [
       "\u001b[32mDEBUG   \u001b[0m **************** METRICS ******************                                                               \n"
      ]
     },
     "metadata": {},
     "output_type": "display_data"
    },
    {
     "data": {
      "text/html": [
       "<pre style=\"white-space:pre;overflow-x:auto;line-height:normal;font-family:Menlo,'DejaVu Sans Mono',consolas,'Courier New',monospace\"><span style=\"color: #008000; text-decoration-color: #008000\">DEBUG   </span> ---------- Ollama Response End ----------                                                                 \n",
       "</pre>\n"
      ],
      "text/plain": [
       "\u001b[32mDEBUG   \u001b[0m ---------- Ollama Response End ----------                                                                 \n"
      ]
     },
     "metadata": {},
     "output_type": "display_data"
    },
    {
     "data": {
      "text/html": [
       "<pre style=\"white-space:pre;overflow-x:auto;line-height:normal;font-family:Menlo,'DejaVu Sans Mono',consolas,'Courier New',monospace\"><span style=\"color: #008000; text-decoration-color: #008000\">DEBUG   </span> Added <span style=\"color: #008080; text-decoration-color: #008080; font-weight: bold\">7</span> Messages to AgentMemory                                                                           \n",
       "</pre>\n"
      ],
      "text/plain": [
       "\u001b[32mDEBUG   \u001b[0m Added \u001b[1;36m7\u001b[0m Messages to AgentMemory                                                                           \n"
      ]
     },
     "metadata": {},
     "output_type": "display_data"
    },
    {
     "data": {
      "text/html": [
       "<pre style=\"white-space:pre;overflow-x:auto;line-height:normal;font-family:Menlo,'DejaVu Sans Mono',consolas,'Courier New',monospace\"><span style=\"color: #008000; text-decoration-color: #008000\">DEBUG   </span> Added AgentRun to AgentMemory                                                                             \n",
       "</pre>\n"
      ],
      "text/plain": [
       "\u001b[32mDEBUG   \u001b[0m Added AgentRun to AgentMemory                                                                             \n"
      ]
     },
     "metadata": {},
     "output_type": "display_data"
    },
    {
     "data": {
      "text/html": [
       "<pre style=\"white-space:pre;overflow-x:auto;line-height:normal;font-family:Menlo,'DejaVu Sans Mono',consolas,'Courier New',monospace\"><span style=\"color: #008000; text-decoration-color: #008000\">DEBUG   </span> --**-- Logging Agent Run                                                                                  \n",
       "</pre>\n"
      ],
      "text/plain": [
       "\u001b[32mDEBUG   \u001b[0m --**-- Logging Agent Run                                                                                  \n"
      ]
     },
     "metadata": {},
     "output_type": "display_data"
    },
    {
     "data": {
      "text/html": [
       "<pre style=\"white-space:pre;overflow-x:auto;line-height:normal;font-family:Menlo,'DejaVu Sans Mono',consolas,'Courier New',monospace\"><span style=\"color: #008000; text-decoration-color: #008000\">DEBUG   </span> *********** Agent Run End: <span style=\"color: #ffff00; text-decoration-color: #ffff00\">573413be-df1c-4455-86ea-bcac00746eff</span> ***********                               \n",
       "</pre>\n"
      ],
      "text/plain": [
       "\u001b[32mDEBUG   \u001b[0m *********** Agent Run End: \u001b[93m573413be-df1c-4455-86ea-bcac00746eff\u001b[0m ***********                               \n"
      ]
     },
     "metadata": {},
     "output_type": "display_data"
    },
    {
     "data": {
      "text/html": [
       "<pre style=\"white-space:pre;overflow-x:auto;line-height:normal;font-family:Menlo,'DejaVu Sans Mono',consolas,'Courier New',monospace\"></pre>\n"
      ],
      "text/plain": []
     },
     "metadata": {},
     "output_type": "display_data"
    }
   ],
   "source": [
    "query(\"Fundamentos de programacion\", \"Notas de clase\", \"Python\")"
   ]
  },
  {
   "cell_type": "code",
   "execution_count": null,
   "metadata": {},
   "outputs": [
    {
     "data": {
      "text/html": [
       "<pre style=\"white-space:pre;overflow-x:auto;line-height:normal;font-family:Menlo,'DejaVu Sans Mono',consolas,'Courier New',monospace\"><span style=\"color: #008000; text-decoration-color: #008000\">DEBUG   </span> *********** Agent ID: <span style=\"color: #ffff00; text-decoration-color: #ffff00\">db07da6e-a3fb-4ae2-a2a6-c72d120b45f1</span> ***********                                    \n",
       "</pre>\n"
      ],
      "text/plain": [
       "\u001b[32mDEBUG   \u001b[0m *********** Agent ID: \u001b[93mdb07da6e-a3fb-4ae2-a2a6-c72d120b45f1\u001b[0m ***********                                    \n"
      ]
     },
     "metadata": {},
     "output_type": "display_data"
    },
    {
     "data": {
      "text/html": [
       "<pre style=\"white-space:pre;overflow-x:auto;line-height:normal;font-family:Menlo,'DejaVu Sans Mono',consolas,'Courier New',monospace\"><span style=\"color: #008000; text-decoration-color: #008000\">DEBUG   </span> *********** Session ID: <span style=\"color: #ffff00; text-decoration-color: #ffff00\">b2c0b506-ebfe-4b87-b826-106d613586ba</span> ***********                                  \n",
       "</pre>\n"
      ],
      "text/plain": [
       "\u001b[32mDEBUG   \u001b[0m *********** Session ID: \u001b[93mb2c0b506-ebfe-4b87-b826-106d613586ba\u001b[0m ***********                                  \n"
      ]
     },
     "metadata": {},
     "output_type": "display_data"
    },
    {
     "data": {
      "text/html": [
       "<pre style=\"white-space:pre;overflow-x:auto;line-height:normal;font-family:Menlo,'DejaVu Sans Mono',consolas,'Courier New',monospace\"><span style=\"color: #008000; text-decoration-color: #008000\">DEBUG   </span> *********** Agent Run Start: <span style=\"color: #ffff00; text-decoration-color: #ffff00\">12886afb-e84a-431f-a586-916ae08cb0a8</span> ***********                             \n",
       "</pre>\n"
      ],
      "text/plain": [
       "\u001b[32mDEBUG   \u001b[0m *********** Agent Run Start: \u001b[93m12886afb-e84a-431f-a586-916ae08cb0a8\u001b[0m ***********                             \n"
      ]
     },
     "metadata": {},
     "output_type": "display_data"
    },
    {
     "data": {
      "text/html": [
       "<pre style=\"white-space:pre;overflow-x:auto;line-height:normal;font-family:Menlo,'DejaVu Sans Mono',consolas,'Courier New',monospace\"><span style=\"color: #008000; text-decoration-color: #008000\">DEBUG   </span> Time to get references: <span style=\"color: #008080; text-decoration-color: #008080; font-weight: bold\">0.</span>0000s                                                                           \n",
       "</pre>\n"
      ],
      "text/plain": [
       "\u001b[32mDEBUG   \u001b[0m Time to get references: \u001b[1;36m0.\u001b[0m0000s                                                                           \n"
      ]
     },
     "metadata": {},
     "output_type": "display_data"
    },
    {
     "data": {
      "text/html": [
       "<pre style=\"white-space:pre;overflow-x:auto;line-height:normal;font-family:Menlo,'DejaVu Sans Mono',consolas,'Courier New',monospace\"><span style=\"color: #008000; text-decoration-color: #008000\">DEBUG   </span> ---------- Ollama Response Start ----------                                                               \n",
       "</pre>\n"
      ],
      "text/plain": [
       "\u001b[32mDEBUG   \u001b[0m ---------- Ollama Response Start ----------                                                               \n"
      ]
     },
     "metadata": {},
     "output_type": "display_data"
    },
    {
     "data": {
      "text/html": [
       "<pre style=\"white-space:pre;overflow-x:auto;line-height:normal;font-family:Menlo,'DejaVu Sans Mono',consolas,'Courier New',monospace\"><span style=\"color: #008000; text-decoration-color: #008000\">DEBUG   </span> ============== system ==============                                                                      \n",
       "</pre>\n"
      ],
      "text/plain": [
       "\u001b[32mDEBUG   \u001b[0m ============== system ==============                                                                      \n"
      ]
     },
     "metadata": {},
     "output_type": "display_data"
    },
    {
     "data": {
      "text/html": [
       "<pre style=\"white-space:pre;overflow-x:auto;line-height:normal;font-family:Menlo,'DejaVu Sans Mono',consolas,'Courier New',monospace\"><span style=\"color: #008000; text-decoration-color: #008000\">DEBUG   </span> You are an academic content generation assistant. Based on the following university course syllabus,      \n",
       "         generate structured teaching materials, ensuring clarity, engagement, and alignment with best pedagogical \n",
       "         practices. This material are going to be used by a professor to teach a course in <span style=\"font-weight: bold\">[</span>subject<span style=\"font-weight: bold\">]</span>.              \n",
       "                                                                                                                   \n",
       "         <span style=\"font-weight: bold\">&lt;</span><span style=\"color: #ff00ff; text-decoration-color: #ff00ff; font-weight: bold\">instructions</span><span style=\"color: #000000; text-decoration-color: #000000\">&gt;</span>                                                                                            \n",
       "         <span style=\"color: #000000; text-decoration-color: #000000\">- List the files in the folder </span><span style=\"color: #008000; text-decoration-color: #008000\">'../data/input'</span><span style=\"color: #000000; text-decoration-color: #000000\"> and determine if one of this names is usefull for the </span>     \n",
       "         <span style=\"color: #000000; text-decoration-color: #000000\">response.</span>                                                                                                 \n",
       "         <span style=\"color: #000000; text-decoration-color: #000000\">- If one of the files is usefull, read it and use it to know the course topic, else search in internet.</span>   \n",
       "         <span style=\"color: #000000; text-decoration-color: #000000\">- If the topic is specific, ensure accuracy and up-to-date information. If it is general, prioritize </span>     \n",
       "         <span style=\"color: #000000; text-decoration-color: #000000\">relevance and engagement.</span>                                                                                 \n",
       "         <span style=\"color: #000000; text-decoration-color: #000000\">- If sufficient information is not available, search online for reliable sources before generating </span>       \n",
       "         <span style=\"color: #000000; text-decoration-color: #000000\">content.</span>                                                                                                  \n",
       "         <span style=\"color: #000000; text-decoration-color: #000000\">- Follow these guidelines based on the content type:</span>                                                      \n",
       "         <span style=\"color: #000000; text-decoration-color: #000000\">- - Exam: Generate a set of </span><span style=\"color: #008080; text-decoration-color: #008080; font-weight: bold\">5</span><span style=\"color: #000000; text-decoration-color: #000000\"> to </span><span style=\"color: #008080; text-decoration-color: #008080; font-weight: bold\">10</span><span style=\"color: #000000; text-decoration-color: #000000\"> exam questions with detailed solutions.</span>                               \n",
       "         <span style=\"color: #000000; text-decoration-color: #000000\">- - Lecture: Create a structured lecture outline with at least </span><span style=\"color: #008080; text-decoration-color: #008080; font-weight: bold\">5</span><span style=\"color: #000000; text-decoration-color: #000000\"> sections covering key concepts.</span>          \n",
       "         <span style=\"color: #000000; text-decoration-color: #000000\">- - Workshop: Develop a workshop plan with at least </span><span style=\"color: #008080; text-decoration-color: #008080; font-weight: bold\">5</span><span style=\"color: #000000; text-decoration-color: #000000\"> sections, including practical examples and </span>         \n",
       "         <span style=\"color: #000000; text-decoration-color: #000000\">exercises.</span>                                                                                                \n",
       "         <span style=\"color: #000000; text-decoration-color: #000000\">- Ensure clarity, coherence, and academic rigor in all content.</span>                                           \n",
       "         <span style=\"color: #000000; text-decoration-color: #000000\">- Deliver the content in a professional and engaging manner.</span>                                              \n",
       "         <span style=\"color: #000000; text-decoration-color: #000000\">&lt;</span><span style=\"color: #800080; text-decoration-color: #800080\">/</span><span style=\"color: #ff00ff; text-decoration-color: #ff00ff\">instructions</span><span style=\"color: #000000; text-decoration-color: #000000\">&gt;</span>                                                                                           \n",
       "                                                                                                                   \n",
       "         <span style=\"color: #000000; text-decoration-color: #000000\">&lt;additional_information&gt;</span>                                                                                  \n",
       "         <span style=\"color: #000000; text-decoration-color: #000000\">- Use markdown to format your answers.</span>                                                                    \n",
       "         <span style=\"color: #000000; text-decoration-color: #000000\">&lt;</span><span style=\"color: #800080; text-decoration-color: #800080\">/</span><span style=\"color: #ff00ff; text-decoration-color: #ff00ff\">additional_information</span><span style=\"font-weight: bold\">&gt;</span>                                                                                 \n",
       "</pre>\n"
      ],
      "text/plain": [
       "\u001b[32mDEBUG   \u001b[0m You are an academic content generation assistant. Based on the following university course syllabus,      \n",
       "         generate structured teaching materials, ensuring clarity, engagement, and alignment with best pedagogical \n",
       "         practices. This material are going to be used by a professor to teach a course in \u001b[1m[\u001b[0msubject\u001b[1m]\u001b[0m.              \n",
       "                                                                                                                   \n",
       "         \u001b[1m<\u001b[0m\u001b[1;95minstructions\u001b[0m\u001b[39m>\u001b[0m                                                                                            \n",
       "         \u001b[39m- List the files in the folder \u001b[0m\u001b[32m'../data/input'\u001b[0m\u001b[39m and determine if one of this names is usefull for the \u001b[0m     \n",
       "         \u001b[39mresponse.\u001b[0m                                                                                                 \n",
       "         \u001b[39m- If one of the files is usefull, read it and use it to know the course topic, else search in internet.\u001b[0m   \n",
       "         \u001b[39m- If the topic is specific, ensure accuracy and up-to-date information. If it is general, prioritize \u001b[0m     \n",
       "         \u001b[39mrelevance and engagement.\u001b[0m                                                                                 \n",
       "         \u001b[39m- If sufficient information is not available, search online for reliable sources before generating \u001b[0m       \n",
       "         \u001b[39mcontent.\u001b[0m                                                                                                  \n",
       "         \u001b[39m- Follow these guidelines based on the content type:\u001b[0m                                                      \n",
       "         \u001b[39m- - Exam: Generate a set of \u001b[0m\u001b[1;36m5\u001b[0m\u001b[39m to \u001b[0m\u001b[1;36m10\u001b[0m\u001b[39m exam questions with detailed solutions.\u001b[0m                               \n",
       "         \u001b[39m- - Lecture: Create a structured lecture outline with at least \u001b[0m\u001b[1;36m5\u001b[0m\u001b[39m sections covering key concepts.\u001b[0m          \n",
       "         \u001b[39m- - Workshop: Develop a workshop plan with at least \u001b[0m\u001b[1;36m5\u001b[0m\u001b[39m sections, including practical examples and \u001b[0m         \n",
       "         \u001b[39mexercises.\u001b[0m                                                                                                \n",
       "         \u001b[39m- Ensure clarity, coherence, and academic rigor in all content.\u001b[0m                                           \n",
       "         \u001b[39m- Deliver the content in a professional and engaging manner.\u001b[0m                                              \n",
       "         \u001b[39m<\u001b[0m\u001b[35m/\u001b[0m\u001b[95minstructions\u001b[0m\u001b[39m>\u001b[0m                                                                                           \n",
       "                                                                                                                   \n",
       "         \u001b[39m<additional_information>\u001b[0m                                                                                  \n",
       "         \u001b[39m- Use markdown to format your answers.\u001b[0m                                                                    \n",
       "         \u001b[39m<\u001b[0m\u001b[35m/\u001b[0m\u001b[95madditional_information\u001b[0m\u001b[1m>\u001b[0m                                                                                 \n"
      ]
     },
     "metadata": {},
     "output_type": "display_data"
    },
    {
     "data": {
      "text/html": [
       "<pre style=\"white-space:pre;overflow-x:auto;line-height:normal;font-family:Menlo,'DejaVu Sans Mono',consolas,'Courier New',monospace\"><span style=\"color: #008000; text-decoration-color: #008000\">DEBUG   </span> ============== user ==============                                                                        \n",
       "</pre>\n"
      ],
      "text/plain": [
       "\u001b[32mDEBUG   \u001b[0m ============== user ==============                                                                        \n"
      ]
     },
     "metadata": {},
     "output_type": "display_data"
    },
    {
     "data": {
      "text/html": [
       "<pre style=\"white-space:pre;overflow-x:auto;line-height:normal;font-family:Menlo,'DejaVu Sans Mono',consolas,'Courier New',monospace\"><span style=\"color: #008000; text-decoration-color: #008000\">DEBUG   </span> Analyze the subject <span style=\"color: #008000; text-decoration-color: #008000\">'Analisis y diseño de algoritmos'</span> and identify the most relevant topics covered in a  \n",
       "         standard syllabus.                                                                                        \n",
       "                 Based on these topics, generate a content type <span style=\"color: #008000; text-decoration-color: #008000\">'Exam'</span> materials about the course search and       \n",
       "         explain them.                                                                                             \n",
       "                 Explain each topic, provide definitions, and explain what each thing is.                          \n",
       "                 Ensure to save the output in a file in the folder <span style=\"color: #008000; text-decoration-color: #008000\">'../data/output'</span> with a clear and descriptive   \n",
       "         filename.                                                                                                 \n",
       "</pre>\n"
      ],
      "text/plain": [
       "\u001b[32mDEBUG   \u001b[0m Analyze the subject \u001b[32m'Analisis y diseño de algoritmos'\u001b[0m and identify the most relevant topics covered in a  \n",
       "         standard syllabus.                                                                                        \n",
       "                 Based on these topics, generate a content type \u001b[32m'Exam'\u001b[0m materials about the course search and       \n",
       "         explain them.                                                                                             \n",
       "                 Explain each topic, provide definitions, and explain what each thing is.                          \n",
       "                 Ensure to save the output in a file in the folder \u001b[32m'../data/output'\u001b[0m with a clear and descriptive   \n",
       "         filename.                                                                                                 \n"
      ]
     },
     "metadata": {},
     "output_type": "display_data"
    },
    {
     "data": {
      "application/vnd.jupyter.widget-view+json": {
       "model_id": "a1b392f1bce24c2f926ab1c1db309457",
       "version_major": 2,
       "version_minor": 0
      },
      "text/plain": [
       "Output()"
      ]
     },
     "metadata": {},
     "output_type": "display_data"
    }
   ],
   "source": [
    "query(\"Analisis y diseño de algoritmos\", \"Exam\")"
   ]
  }
 ],
 "metadata": {
  "kernelspec": {
   "display_name": ".venv",
   "language": "python",
   "name": "python3"
  },
  "language_info": {
   "codemirror_mode": {
    "name": "ipython",
    "version": 3
   },
   "file_extension": ".py",
   "mimetype": "text/x-python",
   "name": "python",
   "nbconvert_exporter": "python",
   "pygments_lexer": "ipython3",
   "version": "3.10.11"
  }
 },
 "nbformat": 4,
 "nbformat_minor": 2
}
